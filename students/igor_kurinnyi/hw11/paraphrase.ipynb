{
 "cells": [
  {
   "cell_type": "code",
   "execution_count": 97,
   "metadata": {},
   "outputs": [],
   "source": [
    "from pathlib import Path \n",
    "from dataclasses import dataclass\n",
    "from typing import List\n",
    "from pprint import pprint"
   ]
  },
  {
   "cell_type": "code",
   "execution_count": 167,
   "metadata": {},
   "outputs": [],
   "source": [
    "import warnings\n",
    "warnings.filterwarnings(\"ignore\")"
   ]
  },
  {
   "cell_type": "code",
   "execution_count": 4,
   "metadata": {},
   "outputs": [],
   "source": [
    "data_train_path = Path('SemEval-PIT2015-py3/data/train.data')\n",
    "data_test_path = Path('SemEval-PIT2015-py3/data/test.data')"
   ]
  },
  {
   "cell_type": "code",
   "execution_count": 113,
   "metadata": {},
   "outputs": [],
   "source": [
    "@dataclass\n",
    "class Token:\n",
    "    word: str\n",
    "    person: str\n",
    "    pos: str\n",
    "    clause: str\n",
    "    event: str\n",
    "        \n",
    "        \n",
    "@dataclass\n",
    "class Doc:\n",
    "    tokens: List[Token]\n",
    "        \n",
    "    def __iter__(self):\n",
    "        for t in self.tokens:\n",
    "            yield t\n",
    "            \n",
    "    def _list_attrs(self, attr_name):\n",
    "        return [getattr(t, attr_name) for t in self]\n",
    "    \n",
    "    def _string_attrs(self, attr_name):\n",
    "        return ' '.join(self._list_attrs(attr_name))\n",
    "    \n",
    "    def _ner_words(self, ner_name):\n",
    "        result = list()\n",
    "        for word, ne in zip(self.words, self._list_attrs(ner_name)):\n",
    "            if ne != 'O':\n",
    "                result.append(word)\n",
    "        return result\n",
    "    \n",
    "    @property\n",
    "    def words(self):\n",
    "        return self._list_attrs('word')\n",
    "    \n",
    "    @property\n",
    "    def lemmas(self):\n",
    "        return [x.lower() for x in self.words]\n",
    "    \n",
    "    @property\n",
    "    def persons_tags(self):\n",
    "        return self._list_attrs('person')\n",
    "    \n",
    "    @property\n",
    "    def pos(self):\n",
    "        return self._list_attrs('pos')\n",
    "    \n",
    "    @property\n",
    "    def clauses(self):\n",
    "        return self._list_attrs('clause')\n",
    "    \n",
    "    @property\n",
    "    def events_tags(self):\n",
    "        return self._list_attrs('event')\n",
    "    \n",
    "    @property\n",
    "    def sent(self):\n",
    "        return self._string_attrs('word')\n",
    "    \n",
    "    @property\n",
    "    def persons(self):\n",
    "        return self._ner_words('person')\n",
    "    \n",
    "    @property\n",
    "    def events(self):\n",
    "        return self._ner_words('event')"
   ]
  },
  {
   "cell_type": "code",
   "execution_count": 172,
   "metadata": {},
   "outputs": [],
   "source": [
    "def split_tags(string):\n",
    "    return [Token(*i.split(\"/\")) for i in string.split()]\n",
    "\n",
    "\n",
    "def read_train_data(filename):\n",
    "    data = []\n",
    "    for line in open(filename):\n",
    "        line = line.strip()\n",
    "        #read in training or dev data with labels\n",
    "        if len(line.split('\\t')) == 7:\n",
    "            (trendid, trendname, origsent, candsent, judge, origsenttag, candsenttag) = \\\n",
    "            line.split('\\t')\n",
    "        else:\n",
    "            continue\n",
    "        # ignoring the training data that has middle label \n",
    "        nYes = eval(judge)[0]        \n",
    "        if nYes >= 3:\n",
    "            amt_label = True\n",
    "            data.append((Doc(split_tags(origsenttag)), Doc(split_tags(candsenttag)), amt_label))\n",
    "        elif nYes <= 1:\n",
    "            amt_label = False\n",
    "            data.append((Doc(split_tags(origsenttag)), Doc(split_tags(candsenttag)), amt_label))\n",
    "    return data\n",
    "\n",
    "\n",
    "def read_test_data(filename):\n",
    "    data = []\n",
    "    for line in open(filename):\n",
    "        line = line.strip()\n",
    "        #read in training or dev data with labels\n",
    "        if len(line.split('\\t')) == 7:\n",
    "            (trendid, trendname, origsent, candsent, judge, origsenttag, candsenttag) = \\\n",
    "            line.split('\\t')\n",
    "        else:\n",
    "            continue\n",
    "        # ignoring the training data that has middle label \n",
    "        nYes = int(judge[0])\n",
    "        if nYes >= 4:\n",
    "            expert_label = True\n",
    "        elif nYes <= 2:\n",
    "            expert_label = False\n",
    "        else:\n",
    "            expert_label = None\n",
    "        data.append((Doc(split_tags(origsenttag)), Doc(split_tags(candsenttag)), expert_label))\n",
    "    return data\n"
   ]
  },
  {
   "cell_type": "code",
   "execution_count": 199,
   "metadata": {},
   "outputs": [],
   "source": [
    "def data_label_sep(data):\n",
    "    x, labels = list(), list()\n",
    "    for d1, d2, label in data:\n",
    "        x.append((d1, d2))\n",
    "        labels.append(labels)\n",
    "    return x, labels"
   ]
  },
  {
   "cell_type": "code",
   "execution_count": 181,
   "metadata": {},
   "outputs": [],
   "source": [
    "from sklearn.feature_extraction import DictVectorizer\n",
    "from sklearn.preprocessing import PolynomialFeatures\n",
    "from sklearn.pipeline import Pipeline\n",
    "from sklearn.linear_model import LogisticRegression\n",
    "from sklearn.model_selection import GridSearchCV\n",
    "from sklearn.base import TransformerMixin"
   ]
  },
  {
   "cell_type": "code",
   "execution_count": 201,
   "metadata": {},
   "outputs": [],
   "source": [
    "def jaccard_similarity(s1, s2):\n",
    "    return len(s1 & s2) / (len(s1 | s2) + 1e-5)\n",
    "\n",
    "\n",
    "def char_ngrams(text, n=3):\n",
    "    return [text[i:i + n] for i in range(len(text) - n + 1)]\n",
    "\n",
    "\n",
    "def word_ngrams(words, n=2):\n",
    "    return ['_'.join(words[i:i + n]) for i in range(len(words) - n + 1)]\n",
    "\n",
    "# =============================================================================\n",
    "\n",
    "\n",
    "class TextFeatures(TransformerMixin):\n",
    "    \n",
    "    def fit(self, data, labels=None):\n",
    "        return self\n",
    "    \n",
    "    def transform(self, data):\n",
    "        return [self.compute_features_one(doc1, doc2) for doc1, doc2 in data]\n",
    "        \n",
    "    def compute_features_one(self, doc1, doc2):\n",
    "        features = dict()\n",
    "        features.update(self.jaccard_char_ngrams(doc1, doc2))\n",
    "        features.update(self.jaccard_word_ngrams(doc1, doc2))\n",
    "        \n",
    "        features[f'persons_jsim'] = jaccard_similarity(set(doc1.persons), set(doc2.persons))\n",
    "        features[f'events_jsim'] = jaccard_similarity(set(doc1.events), set(doc2.events))\n",
    "    \n",
    "        features['n_words_1'] = len(doc1.words)\n",
    "        features['n_words_2'] = len(doc2.words)\n",
    "        features['fraction_n_words'] = len(doc1.words) / len(doc2.words)\n",
    "        return features\n",
    "    \n",
    "    def jaccard_char_ngrams(self, doc1, doc2):\n",
    "        features = dict()\n",
    "        for n in range(2, 5):\n",
    "            ng1 = char_ngrams(doc1.sent.lower(), n=n)\n",
    "            ng2 = char_ngrams(doc2.sent.lower(), n=2)\n",
    "            features[f'char_jsim_{n}'] = jaccard_similarity(set(ng1), set(ng2))\n",
    "        return features\n",
    "    \n",
    "    def jaccard_word_ngrams(self, doc1, doc2):\n",
    "        features = dict()\n",
    "        for n in range(1, 3):\n",
    "            ng1 = word_ngrams(doc1.lemmas, n=n)\n",
    "            ng2 = word_ngrams(doc2.lemmas, n=n)\n",
    "            features[f'word_jsim_{n}'] = jaccard_similarity(set(ng1), set(ng2))\n",
    "        return features"
   ]
  },
  {
   "cell_type": "code",
   "execution_count": 208,
   "metadata": {},
   "outputs": [],
   "source": [
    "from nltk.corpus import wordnet as wn"
   ]
  },
  {
   "cell_type": "code",
   "execution_count": 209,
   "metadata": {},
   "outputs": [],
   "source": [
    "doc1, doc2 = data_train[0]"
   ]
  },
  {
   "cell_type": "code",
   "execution_count": 205,
   "metadata": {},
   "outputs": [],
   "source": [
    "feat_pipe = Pipeline([\n",
    "    ('text', TextFeatures()),\n",
    "    ('vectorizer', DictVectorizer()),\n",
    "    ('polynomial', PolynomialFeatures())\n",
    "])\n",
    "\n",
    "model_pipe = Pipeline([\n",
    "    ('features', feat_pipe),\n",
    "    ('logit', LogisticRegression())\n",
    "])\n",
    "\n",
    "hyperparameters = {\n",
    "    'features__polynomial__degree': [1],\n",
    "    'logit__C': [10],\n",
    "    'logit__class_weight': ['balanced'],\n",
    "}\n",
    "\n",
    "clf = GridSearchCV(model_pipe, hyperparameters, cv=3, scoring='f1', refit=True)"
   ]
  },
  {
   "cell_type": "code",
   "execution_count": 206,
   "metadata": {},
   "outputs": [],
   "source": [
    "data_train = read_train_data(data_train_path)\n",
    "data_test = read_test_data(data_test_path)\n",
    "\n",
    "data_train, label_traint = data_label_sep(data_train)"
   ]
  },
  {
   "cell_type": "code",
   "execution_count": 207,
   "metadata": {},
   "outputs": [
    {
     "name": "stdout",
     "output_type": "stream",
     "text": [
      "Best Score: 0.702\n",
      "\n",
      "Best Params: {'features__polynomial__degree': 1, 'logit__C': 10, 'logit__class_weight': 'balanced'}\n"
     ]
    }
   ],
   "source": [
    "clf.fit(data_train, train_labels)\n",
    "\n",
    "print(f'Best Score: {clf.best_score_:.3f}')\n",
    "print(f'\\nBest Params: {clf.best_params_}')"
   ]
  },
  {
   "cell_type": "code",
   "execution_count": null,
   "metadata": {},
   "outputs": [],
   "source": []
  },
  {
   "cell_type": "code",
   "execution_count": null,
   "metadata": {},
   "outputs": [],
   "source": []
  },
  {
   "cell_type": "code",
   "execution_count": null,
   "metadata": {},
   "outputs": [],
   "source": []
  },
  {
   "cell_type": "code",
   "execution_count": null,
   "metadata": {},
   "outputs": [],
   "source": []
  }
 ],
 "metadata": {
  "kernelspec": {
   "display_name": "prj-nlp-2019",
   "language": "python",
   "name": "prj-nlp-2019"
  },
  "language_info": {
   "codemirror_mode": {
    "name": "ipython",
    "version": 3
   },
   "file_extension": ".py",
   "mimetype": "text/x-python",
   "name": "python",
   "nbconvert_exporter": "python",
   "pygments_lexer": "ipython3",
   "version": "3.7.2"
  }
 },
 "nbformat": 4,
 "nbformat_minor": 2
}
