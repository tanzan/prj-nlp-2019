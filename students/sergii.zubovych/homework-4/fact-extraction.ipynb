{
 "cells": [
  {
   "cell_type": "code",
   "execution_count": 59,
   "metadata": {},
   "outputs": [],
   "source": [
    "# Specific packages used in this notebook\n",
    "#!pip install SPARQLWrapper\n",
    "#!pip install Wikipedia-API"
   ]
  },
  {
   "cell_type": "markdown",
   "metadata": {},
   "source": [
    "### Еталонна база даних\n",
    "\n",
    "Будемо знаходити альбоми відомої рок гурту Queen в тексті відповідної строрінки в Wikipedia. Для цього формуємо базу даних, яку будемо використовувати оцінки якості."
   ]
  },
  {
   "cell_type": "code",
   "execution_count": 131,
   "metadata": {},
   "outputs": [
    {
     "data": {
      "text/plain": [
       "[('Queen', 1973),\n",
       " ('Queen II', 1974),\n",
       " ('Sheer Heart Attack', 1974),\n",
       " ('A Night at the Opera', 1975),\n",
       " ('A Day at the Races', 1976),\n",
       " ('News of the World', 1977),\n",
       " ('Jazz', 1978),\n",
       " ('Live Killers', 1979),\n",
       " ('Flash Gordon', 1980),\n",
       " ('The Game', 1980),\n",
       " ('Flash Gordon', 1981),\n",
       " ('Greatest Hits', 1981),\n",
       " ('Live at Wembley Stadium', 1982),\n",
       " ('Hot Space', 1982),\n",
       " ('The Works', 1984),\n",
       " ('A Kind of Magic', 1986),\n",
       " ('Live Magic', 1986),\n",
       " ('At the Beeb', 1989),\n",
       " ('The Miracle', 1989),\n",
       " ('Innuendo', 1991),\n",
       " ('Greatest Hits II', 1991),\n",
       " ('Classic Queen', 1992),\n",
       " ('Five Live', 1993),\n",
       " ('Ultimate Queen', 1995),\n",
       " ('Queen Rocks', 1997),\n",
       " ('The Crown Jewels', 1998),\n",
       " ('Greatest Hits III', 1999),\n",
       " ('The Platinum Collection', 2000),\n",
       " ('Jewels', 2004),\n",
       " ('Queen on Fire – Live at the Bowl', 2004),\n",
       " ('Stone Cold Classics', 2006),\n",
       " ('The A–Z of Queen, Volume 1', 2007),\n",
       " ('The Singles Collection Volume 1', 2008),\n",
       " ('The Cosmos Rocks', 2008),\n",
       " ('Absolute Greatest', 2009),\n",
       " ('Greatest Hits II', 2011),\n",
       " ('Flash Gordon', 2011),\n",
       " ('Deep Cuts, Volume 3', 2011),\n",
       " ('Hungarian Rhapsody: Queen Live in Budapest', 2012),\n",
       " ('Icon', 2013),\n",
       " ('Queen Forever', 2014),\n",
       " ('On Air', 2016)]"
      ]
     },
     "execution_count": 131,
     "metadata": {},
     "output_type": "execute_result"
    }
   ],
   "source": [
    "from SPARQLWrapper import SPARQLWrapper, JSON\n",
    "import re\n",
    "\n",
    "sparql = SPARQLWrapper(\"http://dbpedia.org/sparql\")\n",
    "sparql.setQuery(\"\"\"\n",
    "    PREFIX dbo: <http://dbpedia.org/ontology/>\n",
    "    PREFIX res:  <http://dbpedia.org/resource/>\n",
    "    PREFIX rdfs: <http://www.w3.org/2000/01/rdf-schema#>\n",
    "\n",
    "    SELECT ?albumName, ?releaseDate WHERE\n",
    "    {\n",
    "        ?album dbo:artist <http://dbpedia.org/resource/Queen_(band)> .\n",
    "        ?album dbp:type ?type .\n",
    "        ?album rdfs:label ?albumName .\n",
    "        ?album dbo:releaseDate ?releaseDate\n",
    "        FILTER (lang(?albumName) = 'en') . \n",
    "        #FILTER (regex(?type,'[Aa]lbum'))\n",
    "    } \n",
    "\"\"\")\n",
    "sparql.setReturnFormat(JSON)\n",
    "results = sparql.query().convert()\n",
    "\n",
    "def cleanup(item):\n",
    "    return re.sub(r'\\s*\\([^)]+\\)', '', item)\n",
    "\n",
    "ALBUMS = sorted({(cleanup(result['albumName']['value']), \\\n",
    "           int(re.sub(r'(\\d+)-\\d+-\\d+', '\\g<1>',result['releaseDate']['value']))) \\\n",
    "          for result in results['results']['bindings']}.\\\n",
    "                union({('Live Killers', 1979),\\ # albums that are not contained in dbpedia\n",
    "                       ('Live at Wembley Stadium', 1982),\\\n",
    "                       ('The Cosmos Rocks', 2008)}), key = lambda item: item[1])\n",
    "\n",
    "ALBUMS"
   ]
  },
  {
   "cell_type": "markdown",
   "metadata": {},
   "source": [
    "### Данні\n",
    "\n",
    "Завантажуємо сторінку і беремо чистий текст без списку дискографії"
   ]
  },
  {
   "cell_type": "code",
   "execution_count": 62,
   "metadata": {},
   "outputs": [],
   "source": [
    "import wikipediaapi\n",
    "\n",
    "wiki = wikipediaapi.Wikipedia('en')\n",
    "\n",
    "page = wiki.page('Queen_(band)')"
   ]
  },
  {
   "cell_type": "code",
   "execution_count": 64,
   "metadata": {},
   "outputs": [],
   "source": [
    "import spacy\n",
    "\n",
    "nlp = spacy.load('en_core_web_lg')"
   ]
  },
  {
   "cell_type": "code",
   "execution_count": 117,
   "metadata": {},
   "outputs": [],
   "source": [
    "#exclude discography list\n",
    "def page_text(page):\n",
    "    index = page.text.find('Discography') - 1\n",
    "    return page.text[:index]"
   ]
  },
  {
   "cell_type": "markdown",
   "metadata": {},
   "source": [
    "Алгоритм по екстракту необхідних данних базуємо на іменованих сутностях типу WORK_OF_ART та PRODUCT. Працюємо в контексті одного реченя, для розрізнення назв альбомів використовуемо залежності.\n",
    "\n",
    "Оскільки текст статті не обов'язково включає іноформацію по всім альбомам (для цього є окрема таблиця, а ми працюємо тільки з текстом) то для оцінки якості нам треба зкрозуміти які альбомі є в тексті."
   ]
  },
  {
   "cell_type": "code",
   "execution_count": 118,
   "metadata": {},
   "outputs": [],
   "source": [
    "doc = nlp(page_text(page))"
   ]
  },
  {
   "cell_type": "code",
   "execution_count": 66,
   "metadata": {},
   "outputs": [
    {
     "data": {
      "text/plain": [
       "[('Queen', 1973),\n",
       " ('Queen II', 1974),\n",
       " ('Sheer Heart Attack', 1974),\n",
       " ('A Night at the Opera', 1975),\n",
       " ('A Day at the Races', 1976),\n",
       " ('News of the World', 1977),\n",
       " ('Jazz', 1978),\n",
       " ('Live Killers', 1979),\n",
       " ('Flash Gordon', 1980),\n",
       " ('The Game', 1980),\n",
       " ('Flash Gordon', 1981),\n",
       " ('Greatest Hits', 1981),\n",
       " ('Live at Wembley Stadium', 1982),\n",
       " ('Hot Space', 1982),\n",
       " ('The Works', 1984),\n",
       " ('A Kind of Magic', 1986),\n",
       " ('The Miracle', 1989),\n",
       " ('Innuendo', 1991),\n",
       " ('Greatest Hits II', 1991),\n",
       " ('Classic Queen', 1992),\n",
       " ('Queen Rocks', 1997),\n",
       " ('Greatest Hits III', 1999),\n",
       " ('Queen on Fire – Live at the Bowl', 2004),\n",
       " ('The Cosmos Rocks', 2008),\n",
       " ('Absolute Greatest', 2009),\n",
       " ('Greatest Hits II', 2011),\n",
       " ('Flash Gordon', 2011),\n",
       " ('Icon', 2013),\n",
       " ('Queen Forever', 2014)]"
      ]
     },
     "execution_count": 66,
     "metadata": {},
     "output_type": "execute_result"
    }
   ],
   "source": [
    "sorted({album for sent in doc.sents for album in ALBUMS if album[0] in sent.text}, key = lambda a: a[1])"
   ]
  },
  {
   "cell_type": "code",
   "execution_count": 67,
   "metadata": {},
   "outputs": [
    {
     "data": {
      "text/plain": [
       "{'A Kind of Magic',\n",
       " 'A Night at the Opera',\n",
       " 'Absolute Greatest',\n",
       " 'Classic Queen',\n",
       " 'Greatest Hits',\n",
       " 'Greatest Hits II',\n",
       " 'Greatest Hits III',\n",
       " 'Hot Space',\n",
       " 'Icon',\n",
       " 'Jazz',\n",
       " 'Live Killers',\n",
       " 'Live at Wembley Stadium',\n",
       " 'News of the World',\n",
       " 'Queen',\n",
       " 'Queen Forever',\n",
       " 'Queen II',\n",
       " 'Queen on Fire – Live at the Bowl',\n",
       " 'Sheer Heart Attack',\n",
       " 'The Cosmos Rocks',\n",
       " 'The Game',\n",
       " 'The Miracle',\n",
       " 'The Works'}"
      ]
     },
     "execution_count": 67,
     "metadata": {},
     "output_type": "execute_result"
    }
   ],
   "source": [
    "{ album[0] for ent in doc.ents for album in ALBUMS if album[0].lower() in ent.text.lower()}"
   ]
  },
  {
   "cell_type": "code",
   "execution_count": 68,
   "metadata": {},
   "outputs": [
    {
     "data": {
      "text/plain": [
       "{'A Day at the Races',\n",
       " 'A Kind of Magic',\n",
       " 'A Night at the Opera',\n",
       " 'Absolute Greatest',\n",
       " 'At the Beeb',\n",
       " 'Classic Queen',\n",
       " 'Deep Cuts, Volume 3',\n",
       " 'Five Live',\n",
       " 'Flash Gordon',\n",
       " 'Greatest Hits',\n",
       " 'Greatest Hits II',\n",
       " 'Greatest Hits III',\n",
       " 'Hot Space',\n",
       " 'Hungarian Rhapsody: Queen Live in Budapest',\n",
       " 'Icon',\n",
       " 'Innuendo',\n",
       " 'Jazz',\n",
       " 'Jewels',\n",
       " 'Live Killers',\n",
       " 'Live Magic',\n",
       " 'Live at Wembley Stadium',\n",
       " 'News of the World',\n",
       " 'On Air',\n",
       " 'Queen',\n",
       " 'Queen Forever',\n",
       " 'Queen II',\n",
       " 'Queen Rocks',\n",
       " 'Queen on Fire – Live at the Bowl',\n",
       " 'Sheer Heart Attack',\n",
       " 'Stone Cold Classics',\n",
       " 'The A–Z of Queen, Volume 1',\n",
       " 'The Cosmos Rocks',\n",
       " 'The Crown Jewels',\n",
       " 'The Game',\n",
       " 'The Miracle',\n",
       " 'The Platinum Collection',\n",
       " 'The Singles Collection Volume 1',\n",
       " 'The Works',\n",
       " 'Ultimate Queen'}"
      ]
     },
     "execution_count": 68,
     "metadata": {},
     "output_type": "execute_result"
    }
   ],
   "source": [
    "ent_albums = { album[0] for ent in doc.ents for album in ALBUMS if album[0].lower() in ent.text.lower() and \\\n",
    " ent.label_ == 'WORK_OF_ART' or ent.label_ == 'PRODUCT'}\n",
    "\n",
    "ent_albums"
   ]
  },
  {
   "cell_type": "code",
   "execution_count": 69,
   "metadata": {},
   "outputs": [],
   "source": [
    "from spacy import displacy\n",
    "\n",
    "def show_deps(text):\n",
    "    doc = nlp(text)\n",
    "    for token in doc:\n",
    "        print(token.text, token.dep_, token.head.text, token.head.pos_,\n",
    "            [child for child in token.children])\n",
    "        \n",
    "    print('================================')    \n",
    "        \n",
    "    for ent in doc.ents:\n",
    "        print (ent.text, ent.label_)\n",
    "    \n",
    "    displacy.render(doc, style=\"dep\", jupyter = True, options={'distance':100})    "
   ]
  },
  {
   "cell_type": "code",
   "execution_count": 119,
   "metadata": {},
   "outputs": [],
   "source": [
    "def reach(token, word):\n",
    "    if token.head.lemma_ == word:\n",
    "        return token.head\n",
    "    elif token.dep_ == 'ROOT':\n",
    "        return None\n",
    "    \n",
    "    return reach(token.head, word)        \n",
    "\n",
    "def is_reachable(token, word):    \n",
    "    return not (reach(token, word) is None)\n",
    "\n",
    "def depends_on_album(token):\n",
    "    if is_reachable(token, 'album'):\n",
    "        return True\n",
    "    release = reach(token, 'release')\n",
    "    if release:\n",
    "        return not(is_reachable(release, 'single') or is_reachable(release, 'song') or is_reachable(release, 'game') or is_reachable(release, 'soundtrack') or is_reachable(release, 'track'))\n",
    "    record = reach(token, 'record')\n",
    "    if release:\n",
    "        return not(is_reachable(record, 'single') or is_reachable(record, 'song') or is_reachable(record, 'game') or is_reachable(record, 'soundtrack') or is_reachable(record, 'track'))\n",
    "    \n",
    "    return False\n",
    "        \n",
    "def depends_on_ent(token, ent):\n",
    "    for e_token in ent:\n",
    "        if is_reachable(token, e_token.lemma_) or is_reachable(e_token ,token.lemma_):\n",
    "            return True\n",
    "    return False    \n",
    "\n",
    "def is_album(ent, sent):\n",
    "    proof = False\n",
    "    if ent.label_ == \"WORK_OF_ART\" or ent.label_ == \"PRODUCT\":\n",
    "        for token in ent:\n",
    "            if depends_on_album(token):\n",
    "                proof = True\n",
    "                break\n",
    "        for token in sent:           \n",
    "            if token.lemma_ == 'single' and (depends_on_ent(token, ent) or is_reachable(token, 'release') or is_reachable(token, 'record')):\n",
    "                proof = False\n",
    "                break\n",
    "            if token.lemma_ == 'song' and (depends_on_ent(token, ent) or is_reachable(token, 'release') or is_reachable(token, 'record')):\n",
    "                proof = False\n",
    "                break\n",
    "            if token.lemma_ == 'soundtrack' and (depends_on_ent(token, ent) or is_reachable(token, 'release') or is_reachable(token, 'record')):\n",
    "                proof = False\n",
    "                break\n",
    "            if token.lemma_ == 'track' and (depends_on_ent(token, ent) or is_reachable(token, 'release') or is_reachable(token, 'record')):\n",
    "                proof = False\n",
    "                break    \n",
    "                \n",
    "            if token.lemma_ == 'game' and (depends_on_ent(token, ent) or is_reachable(token, 'release')):\n",
    "                proof = False\n",
    "                break\n",
    "                \n",
    "            if token.lemma_ == 'album' and depends_on_ent(token, ent):\n",
    "                proof = True\n",
    "                break\n",
    "                            \n",
    "    return proof\n",
    "\n",
    "def extract_albums(text):\n",
    "    doc = nlp(text)\n",
    "    albums = set([])\n",
    "    for sent in doc.sents:        \n",
    "        for ent in sent.ents:\n",
    "            if 'albums' in ent.text.lower() or 'award' in ent.text.lower() or 'of all time' in ent.text.lower(): #exclude charts aka Greatest Albums of All Time Ever\n",
    "                continue\n",
    "            if is_album(ent, sent):\n",
    "                albums.add(ent.text.strip())                            \n",
    "    return albums"
   ]
  },
  {
   "cell_type": "code",
   "execution_count": 120,
   "metadata": {},
   "outputs": [],
   "source": [
    "### True positives\n",
    "\n",
    "def singleton(text):\n",
    "    return set([text])\n",
    "\n",
    "assert extract_albums('Queen first charted in the UK with their second album, Queen II, in 1974.') ==\\\n",
    "     singleton('Queen II')\n",
    "\n",
    "assert extract_albums('Another One Bites the Dust\" (1980) became their best-selling single, while their 1981 compilation album Greatest Hits is the best-selling album in the UK and is certified eight times platinum in the US.')\\\n",
    "    == singleton('Greatest Hits')\n",
    "\n",
    "assert extract_albums('In late 1975, Queen recorded and released A Night at the Opera, taking its name from the popular Marx Brothers movie.')\\\n",
    "    == singleton('A Night at the Opera')\n",
    "\n",
    "#assert extract_albums('By 1976, Queen were back in the studio recording A Day at the Races, which is often regarded as a sequel album to A Night at the Opera.')\\\n",
    "#    == singleton('A Night at the') ##  'A Day at the Races' is not recornized as NER\n",
    "\n",
    "#Released in 1974, Sheer Heart Attack reached number two in the UK, sold well throughout Europe, and went gold in the US.\n",
    "# 'Sheer Heart Attack' is not recornized as NER\n",
    "\n",
    "#false negative\n",
    "assert extract_albums('They released their first live album, Live Killers, in 1979; it went platinum twice in the US.')\\\n",
    "    == singleton('Live Killers')\n",
    "\n",
    "assert extract_albums(\"In October that year, Queen released their first compilation album, titled Greatest Hits, which showcased the group's highlights from 1974 to 1981.\")\\\n",
    "    == singleton('Greatest Hits')\n",
    "\n",
    "#assert extract_albums('In February 1984, Queen released their eleventh studio album, The Works, which included the successful singles \"Radio Ga Ga\", \"Hammer to Fall\" and \"I Want to Break Free\".')\\\n",
    "#    == singleton('The Works') cannot distinguish between singles and album in one sentence\n",
    "\n",
    "assert extract_albums('The first Queen + Paul Rodgers album, titled The Cosmos Rocks, was released in Europe on 12 September 2008 and in the United States on 28 October 2008.')\\\n",
    "    == singleton('The Cosmos Rocks')\n",
    "\n",
    "assert extract_albums(\"A distinctive characteristic of Queen's music are the vocal harmonies which are usually composed of the voices of May, Mercury, and Taylor best heard on the studio albums A Night at the Opera and A Day at the Races.\")\\\n",
    "    == singleton('A Night at the')\n",
    "\n",
    "assert extract_albums('In May 2012, the choir performed \"We Are the Champions\" in the episode \"Nationals\", and the song features in The Graduation Album.')\\\n",
    "    == singleton('The Graduation Album')\n",
    "\n",
    "assert extract_albums(\"DVD releases of their 1986 Wembley concert (titled Live at Wembley Stadium), 1982 Milton Keynes concert (Queen on Fire – Live at the Bowl), and two Greatest Video Hits (Volumes 1 and 2, spanning the 1970s and 1980s) have seen the band's music remixed into 5.1 and DTS surround sound\")\\\n",
    "    == {'Live at Wembley Stadium', 'Queen on Fire – Live at the Bowl'}\n",
    "\n",
    "assert extract_albums(\"The band’s 1977 album News of the World contained \\\"We Will Rock You\\\" and \\\"We Are the Champions\\\", which have become anthems at sporting events.\")\\\n",
    "    == singleton('News of the World')\n",
    "\n",
    "assert extract_albums(\"In October that year, Queen released their first compilation album, titled Greatest Hits, which showcased the group's highlights from 1974 to 1981.\")\\\n",
    "    == singleton('Greatest Hits')"
   ]
  },
  {
   "cell_type": "code",
   "execution_count": 121,
   "metadata": {},
   "outputs": [],
   "source": [
    "#True negatives\n",
    "assert not extract_albums(\"Retrospectively, it is cited as the highlight of the album, and in 2008 Rolling Stone ranked it 31st in the \\\"100 Greatest Guitar Songs of All Time\\\", describing it as \\\"an entire album's worth of riffs crammed into a single song\\\"\")\n",
    "\n",
    "assert not extract_albums(\"\\\"The 50 Best British Albums Ever\\\" in 2004, and number 11 in Rolling Stone's \\\"The 100 Greatest Albums of All Time\\\" as featured in their Mexican edition in 2004.\")\n",
    "\n",
    "assert not extract_albums('Queen also released the very successful single \"Crazy Little Thing Called Love\", a rockabilly inspired song done in the style of Elvis Presley.')\n",
    "\n",
    "assert not extract_albums('After attending a Queen concert in Los Angeles, Michael Jackson suggested to Mercury backstage that \"Another One Bites the Dust\" be released as a single, and in October 1980 it spent three weeks at number one.')\n",
    "\n",
    "assert not extract_albums('In conjunction with Electronic Arts, Queen released the computer game Queen: The eYe in 1998')\n",
    "\n",
    "assert not extract_albums(\"Several of the guest singers recorded new versions of Queen's hits under the Queen + name, such as Robbie Williams providing vocals for \\\"We Are the Champions\\\" for the soundtrack of A Knight's Tale (2001)\")\n",
    "\n",
    "# fasle positive\n",
    "#extract_albums(\"In the United States, \\\"Bohemian Rhapsody\\\" was re-released as a single in 1992 after appearing in the comedy film Wayne's World.\")"
   ]
  },
  {
   "cell_type": "code",
   "execution_count": 125,
   "metadata": {},
   "outputs": [
    {
     "data": {
      "text/plain": [
       "{'A Kind of Magic',\n",
       " 'A Night at the',\n",
       " 'A Night at the Opera',\n",
       " 'Bohemian Rhapsody',\n",
       " 'Classic Queen',\n",
       " 'Greatest Hits',\n",
       " 'Greatest Hits III',\n",
       " 'Hammer to Fall',\n",
       " 'Live Killers',\n",
       " 'Live at Wembley Stadium',\n",
       " 'News of the World',\n",
       " 'Opera',\n",
       " 'Queen',\n",
       " 'Queen Forever',\n",
       " 'Queen II',\n",
       " 'Queen on Fire – Live at the Bowl',\n",
       " 'SingStar',\n",
       " 'The Cosmos Rocks',\n",
       " 'The Graduation Album',\n",
       " 'The Works',\n",
       " 'as Queen: Live in Rio',\n",
       " 'the Races to Live Killers\\nBy 1976'}"
      ]
     },
     "execution_count": 125,
     "metadata": {},
     "output_type": "execute_result"
    }
   ],
   "source": [
    "extracted_albums = extract_albums(doc.text)\n",
    "\n",
    "extracted_albums"
   ]
  },
  {
   "cell_type": "code",
   "execution_count": 126,
   "metadata": {},
   "outputs": [
    {
     "data": {
      "text/plain": [
       "{'A Kind of Magic',\n",
       " 'A Night at the Opera',\n",
       " 'Classic Queen',\n",
       " 'Greatest Hits',\n",
       " 'Greatest Hits III',\n",
       " 'Live Killers',\n",
       " 'Live at Wembley Stadium',\n",
       " 'News of the World',\n",
       " 'Queen',\n",
       " 'Queen Forever',\n",
       " 'Queen II',\n",
       " 'Queen on Fire – Live at the Bowl',\n",
       " 'The Cosmos Rocks',\n",
       " 'The Works'}"
      ]
     },
     "execution_count": 126,
     "metadata": {},
     "output_type": "execute_result"
    }
   ],
   "source": [
    "true_positives = ent_albums.intersection(extracted_albums)\n",
    "\n",
    "true_positives"
   ]
  },
  {
   "cell_type": "code",
   "execution_count": 127,
   "metadata": {},
   "outputs": [
    {
     "data": {
      "text/plain": [
       "{'A Day at the Races',\n",
       " 'Absolute Greatest',\n",
       " 'At the Beeb',\n",
       " 'Deep Cuts, Volume 3',\n",
       " 'Five Live',\n",
       " 'Flash Gordon',\n",
       " 'Greatest Hits II',\n",
       " 'Hot Space',\n",
       " 'Hungarian Rhapsody: Queen Live in Budapest',\n",
       " 'Icon',\n",
       " 'Innuendo',\n",
       " 'Jazz',\n",
       " 'Jewels',\n",
       " 'Live Magic',\n",
       " 'On Air',\n",
       " 'Queen Rocks',\n",
       " 'Sheer Heart Attack',\n",
       " 'Stone Cold Classics',\n",
       " 'The A–Z of Queen, Volume 1',\n",
       " 'The Crown Jewels',\n",
       " 'The Game',\n",
       " 'The Miracle',\n",
       " 'The Platinum Collection',\n",
       " 'The Singles Collection Volume 1',\n",
       " 'Ultimate Queen'}"
      ]
     },
     "execution_count": 127,
     "metadata": {},
     "output_type": "execute_result"
    }
   ],
   "source": [
    "false_negatives = ent_albums.difference(extracted_albums)\n",
    "\n",
    "false_negatives"
   ]
  },
  {
   "cell_type": "code",
   "execution_count": 128,
   "metadata": {},
   "outputs": [
    {
     "data": {
      "text/plain": [
       "{'A Night at the',\n",
       " 'Bohemian Rhapsody',\n",
       " 'Hammer to Fall',\n",
       " 'Opera',\n",
       " 'SingStar',\n",
       " 'The Graduation Album',\n",
       " 'as Queen: Live in Rio',\n",
       " 'the Races to Live Killers\\nBy 1976'}"
      ]
     },
     "execution_count": 128,
     "metadata": {},
     "output_type": "execute_result"
    }
   ],
   "source": [
    "false_positives = extracted_albums.difference(ent_albums)\n",
    "\n",
    "false_positives"
   ]
  },
  {
   "cell_type": "code",
   "execution_count": 129,
   "metadata": {},
   "outputs": [
    {
     "data": {
      "text/plain": [
       "{'\"Bohemian Rhapsody\"',\n",
       " '\"Love of My Life\"',\n",
       " '\"Queen at the Ballet\"',\n",
       " '\"The Show Must Go',\n",
       " '\"The Show Must Go On',\n",
       " '\"The Show Must Go On\"',\n",
       " \"A Knight's Tale\",\n",
       " 'A Night',\n",
       " 'A Night at the',\n",
       " 'A Night at the Opera Tour',\n",
       " 'A Night at the Opera and The Game',\n",
       " 'A Trip',\n",
       " 'American Idol',\n",
       " 'Another One Bites the Dust',\n",
       " 'Battleship Potemkin',\n",
       " 'Bicycle Race',\n",
       " 'Birthday Tribute',\n",
       " 'Bohemian Rhapsody',\n",
       " 'Breakthru',\n",
       " 'Candle in the Wind 1997',\n",
       " 'Composers',\n",
       " 'Crazy Little Thing Called Love',\n",
       " 'Death on Two Legs',\n",
       " 'Disco',\n",
       " \"Do They Know It's Christmas\",\n",
       " \"Don't Stop Me Now\",\n",
       " 'Ericsson',\n",
       " 'Essential Hard Rock and Heavy Metal',\n",
       " 'Fat Bottomed Girls',\n",
       " 'Friends Will Be Friends',\n",
       " 'Fun in Space',\n",
       " 'Game',\n",
       " 'Gigwise',\n",
       " 'God Save the Queen',\n",
       " 'Grammy Award for Best Metal Performance',\n",
       " 'Grammy Lifetime Achievement Award',\n",
       " 'Grand Theft Auto IV',\n",
       " 'Guitar Hero',\n",
       " 'Guitar Hero 5',\n",
       " 'Guitar Hero World Tour',\n",
       " 'Guitar Hero:',\n",
       " 'Guitar Hero: Warriors of Rock',\n",
       " 'Guitar Songs of All Time',\n",
       " 'Hammer to Fall',\n",
       " 'Highlander',\n",
       " 'Hit Singles Book',\n",
       " \"I Love the '\",\n",
       " 'I Want It All',\n",
       " 'I Want to Break Free',\n",
       " 'Invincible Hope',\n",
       " \"Jane's Addiction\",\n",
       " 'Jesus',\n",
       " 'Jimmy',\n",
       " 'Journey to Regionals',\n",
       " 'Killer Queen',\n",
       " 'Killers',\n",
       " 'Liar',\n",
       " 'Love',\n",
       " 'Mercury',\n",
       " 'Mother Love',\n",
       " 'My Fairy King',\n",
       " 'Nationals',\n",
       " 'Night Live on',\n",
       " 'One Year of Love',\n",
       " 'Opera',\n",
       " 'Outstanding Song Collection',\n",
       " 'PlayStation 2',\n",
       " 'PlayStation 3',\n",
       " 'Pride',\n",
       " 'Queen + Paul Rodgers',\n",
       " 'Queen I Tour',\n",
       " 'Queen began The Works Tour',\n",
       " 'Queen medley',\n",
       " \"Queen's\",\n",
       " \"Queen's A Night\",\n",
       " 'Queen:',\n",
       " 'Queen: The Top 100',\n",
       " 'Radio Ga',\n",
       " 'Roses',\n",
       " 'Save Me',\n",
       " 'Sheer Heart Attack to',\n",
       " 'SingStar',\n",
       " 'SingStar Queen',\n",
       " 'Skyfall',\n",
       " 'Smashing Pumpkins',\n",
       " 'Somebody to Love',\n",
       " 'Stone Cold Crazy',\n",
       " 'Swan Song Records',\n",
       " 'Telegraph',\n",
       " 'The 100 Greatest Albums of All Time',\n",
       " 'The 100 Records That Changed the World',\n",
       " 'The 50 Best British Albums Ever',\n",
       " 'The Graduation Album',\n",
       " 'The Greatest Driving Song Ever',\n",
       " 'The Impossible Voyage',\n",
       " 'The Invisible Man',\n",
       " 'The March of the Black Queen',\n",
       " 'The Night Comes Down',\n",
       " 'The Note Heard Round the World',\n",
       " \"The Prophet's Song\",\n",
       " 'The Queen',\n",
       " 'The Rhodes Not Taken',\n",
       " 'The Show Must Go',\n",
       " 'The Works\\nQueen',\n",
       " 'The X Factor',\n",
       " 'There Must Be More To Life Than This',\n",
       " 'These Are the Days of Our Lives',\n",
       " 'Tie Your Mother Down',\n",
       " 'Timeline\\nAwards',\n",
       " 'Too Much Love',\n",
       " 'Too Much Love Will Kill You',\n",
       " 'Trident',\n",
       " 'Trivium',\n",
       " 'Under Pressure',\n",
       " 'Vox AC30',\n",
       " 'We Are The Champions',\n",
       " 'We Are the Champions',\n",
       " 'Who Wants to Live Forever',\n",
       " 'as Queen: Live in Rio',\n",
       " 'the Global Icon Award',\n",
       " 'the Golden Globe Award for Best Motion Picture – Drama',\n",
       " 'the Guinness Book of Records',\n",
       " 'the Guinness Book of World Records',\n",
       " 'the Queen',\n",
       " 'the Races to Live Killers\\nBy 1976'}"
      ]
     },
     "execution_count": 129,
     "metadata": {},
     "output_type": "execute_result"
    }
   ],
   "source": [
    "true_negatives = {ent.text.strip() for ent in doc.ents if ent.label_ == 'PRODUCT' or ent.label_ == \"WORK_OF_ART\"}\\\n",
    "    .difference(ent_albums)\n",
    "\n",
    "true_negatives"
   ]
  },
  {
   "cell_type": "code",
   "execution_count": 130,
   "metadata": {},
   "outputs": [
    {
     "name": "stdout",
     "output_type": "stream",
     "text": [
      "Accuracy: 0.8081395348837209\n",
      "Precicison: 0.6363636363636364\n",
      "Recall: 0.358974358974359\n",
      "F1: 0.459016393442623\n"
     ]
    }
   ],
   "source": [
    "tp = len(true_positives)\n",
    "fp = len(false_positives)\n",
    "fn = len(false_negatives)\n",
    "tn = len(true_negatives)\n",
    "\n",
    "pr = tp/(tp + fp)\n",
    "rc = tp/(tp + fn)\n",
    "f1 = 2 * (pr * rc)/(pr + rc)    \n",
    "\n",
    "print(\"Accuracy: {}\".format((tp + tn)/(tp+fp+fn+tn)))      \n",
    "print(\"Precicison: {}\".format(pr))\n",
    "print(\"Recall: {}\".format(rc))\n",
    "print(\"F1: {}\".format(f1))"
   ]
  }
 ],
 "metadata": {
  "kernelspec": {
   "display_name": "Python 3",
   "language": "python",
   "name": "python3"
  },
  "language_info": {
   "codemirror_mode": {
    "name": "ipython",
    "version": 3
   },
   "file_extension": ".py",
   "mimetype": "text/x-python",
   "name": "python",
   "nbconvert_exporter": "python",
   "pygments_lexer": "ipython3",
   "version": "3.7.2"
  }
 },
 "nbformat": 4,
 "nbformat_minor": 2
}
