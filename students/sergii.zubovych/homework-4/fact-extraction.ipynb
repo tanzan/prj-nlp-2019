{
 "cells": [
  {
   "cell_type": "code",
   "execution_count": 2,
   "metadata": {},
   "outputs": [
    {
     "name": "stdout",
     "output_type": "stream",
     "text": [
      "Collecting SPARQLWrapper\n",
      "  Downloading https://files.pythonhosted.org/packages/7f/c3/72d2d0a2ad86bd8d2bc762406c838f479c421678161cf78585d085436919/SPARQLWrapper-1.8.2-py3-none-any.whl\n",
      "Collecting rdflib>=4.0 (from SPARQLWrapper)\n",
      "\u001b[?25l  Downloading https://files.pythonhosted.org/packages/3c/fe/630bacb652680f6d481b9febbb3e2c3869194a1a5fc3401a4a41195a2f8f/rdflib-4.2.2-py3-none-any.whl (344kB)\n",
      "\u001b[K    100% |████████████████████████████████| 348kB 6.2MB/s ta 0:00:01\n",
      "\u001b[?25hRequirement already satisfied: isodate in /home/szubovych/.virtualenvs/nlp/lib/python3.6/site-packages (from rdflib>=4.0->SPARQLWrapper) (0.6.0)\n",
      "Requirement already satisfied: pyparsing in /home/szubovych/.virtualenvs/nlp/lib/python3.6/site-packages (from rdflib>=4.0->SPARQLWrapper) (2.3.1)\n",
      "Requirement already satisfied: six in /home/szubovych/.virtualenvs/nlp/lib/python3.6/site-packages (from isodate->rdflib>=4.0->SPARQLWrapper) (1.12.0)\n",
      "Installing collected packages: rdflib, SPARQLWrapper\n",
      "Successfully installed SPARQLWrapper-1.8.2 rdflib-4.2.2\n"
     ]
    }
   ],
   "source": [
    "!pip install SPARQLWrapper"
   ]
  },
  {
   "cell_type": "code",
   "execution_count": 19,
   "metadata": {},
   "outputs": [
    {
     "data": {
      "text/plain": [
       "[('Queen', 1973),\n",
       " ('Queen II', 1974),\n",
       " ('Sheer Heart Attack', 1974),\n",
       " ('A Night at the Opera', 1975),\n",
       " ('A Day at the Races', 1976),\n",
       " ('News of the World', 1977),\n",
       " ('Jazz', 1978),\n",
       " ('The Game', 1980),\n",
       " ('Flash Gordon', 1980),\n",
       " ('Hot Space', 1982),\n",
       " ('The Works', 1984),\n",
       " ('A Kind of Magic', 1986),\n",
       " ('The Miracle', 1989),\n",
       " ('Innuendo', 1991)]"
      ]
     },
     "execution_count": 19,
     "metadata": {},
     "output_type": "execute_result"
    }
   ],
   "source": [
    "from SPARQLWrapper import SPARQLWrapper, JSON\n",
    "import re\n",
    "\n",
    "sparql = SPARQLWrapper(\"http://dbpedia.org/sparql\")\n",
    "sparql.setQuery(\"\"\"\n",
    "    PREFIX dbo: <http://dbpedia.org/ontology/>\n",
    "    PREFIX res:  <http://dbpedia.org/resource/>\n",
    "    PREFIX rdfs: <http://www.w3.org/2000/01/rdf-schema#>\n",
    "\n",
    "    SELECT ?albumName, ?releaseDate WHERE\n",
    "    {\n",
    "        ?album dbo:artist <http://dbpedia.org/resource/Queen_(band)> .\n",
    "        ?album dbp:type ?type .\n",
    "        ?album rdfs:label ?albumName .\n",
    "        ?album dbo:releaseDate ?releaseDate\n",
    "        FILTER (lang(?albumName) = 'en') . \n",
    "        FILTER (regex(?type,'(Studio album)|(studio)'))\n",
    "    } \n",
    "\"\"\")\n",
    "sparql.setReturnFormat(JSON)\n",
    "results = sparql.query().convert()\n",
    "\n",
    "def cleanup(item):\n",
    "    return re.sub(r'\\s*\\([^)]+\\)', '', item)\n",
    "\n",
    "ALBUMS = [(cleanup(result['albumName']['value']), \\\n",
    "           int(re.sub(r'(\\d+)-\\d+-\\d+', '\\g<1>',result['releaseDate']['value']))) \\\n",
    "          for result in results['results']['bindings']]\n",
    "\n",
    "# Not marked as studio albums but they are\n",
    "ALBUMS.append(('A Kind of Magic', 1986))\n",
    "ALBUMS.append(('Flash Gordon', 1980))\n",
    "\n",
    "ALBUMS.sort(key = lambda item: item[1])\n",
    "\n",
    "ALBUMS"
   ]
  },
  {
   "cell_type": "code",
   "execution_count": 21,
   "metadata": {},
   "outputs": [
    {
     "data": {
      "text/plain": [
       "['Brian May', 'Roger Taylor', 'John Deacon', 'Freddie Mercury']"
      ]
     },
     "execution_count": 21,
     "metadata": {},
     "output_type": "execute_result"
    }
   ],
   "source": [
    "sparql = SPARQLWrapper(\"http://dbpedia.org/sparql\")\n",
    "sparql.setQuery(\"\"\"\n",
    "    PREFIX dbo: <http://dbpedia.org/ontology/>\n",
    "    PREFIX res:  <http://dbpedia.org/resource/>\n",
    "    PREFIX rdfs: <http://www.w3.org/2000/01/rdf-schema#>\n",
    "\n",
    "    SELECT * {{\n",
    "        SELECT ?name WHERE \n",
    "        {\n",
    "            <http://dbpedia.org/resource/Queen_(band)> dbo:bandMember ?member.\n",
    "            ?member rdfs:label ?name .\n",
    "            FILTER (lang(?name) = 'en') . \n",
    "        }\n",
    "    } UNION {\n",
    "        SELECT ?name WHERE\n",
    "        {\n",
    "            <http://dbpedia.org/resource/Queen_(band)> dbo:formerBandMember ?member.\n",
    "            ?member rdfs:label ?name .\n",
    "            FILTER (lang(?name) = 'en') . \n",
    "        }\n",
    "    }} \n",
    "\"\"\")\n",
    "sparql.setReturnFormat(JSON)\n",
    "results = sparql.query().convert()\n",
    "\n",
    "MEMBERS = [cleanup(result[\"name\"][\"value\"]) for result in results[\"results\"][\"bindings\"]]\n",
    "\n",
    "MEMBERS"
   ]
  },
  {
   "cell_type": "code",
   "execution_count": 129,
   "metadata": {},
   "outputs": [],
   "source": [
    "import wikipediaapi\n",
    "\n",
    "wiki = wikipediaapi.Wikipedia('en')\n",
    "\n",
    "page = wiki.page('Queen_(band)')"
   ]
  },
  {
   "cell_type": "code",
   "execution_count": 130,
   "metadata": {},
   "outputs": [
    {
     "data": {
      "text/plain": [
       "'Queen_(band)'"
      ]
     },
     "execution_count": 130,
     "metadata": {},
     "output_type": "execute_result"
    }
   ],
   "source": [
    "\n",
    "page.title"
   ]
  },
  {
   "cell_type": "code",
   "execution_count": 127,
   "metadata": {},
   "outputs": [],
   "source": [
    "def dump_page(page):\n",
    "    with open(re.sub(r'\\_', ' ', page.title) + '.md','w') as f:\n",
    "        f.write(page.text)"
   ]
  },
  {
   "cell_type": "code",
   "execution_count": 163,
   "metadata": {},
   "outputs": [],
   "source": [
    "import spacy\n",
    "\n",
    "nlp = spacy.load('en_core_web_lg')"
   ]
  },
  {
   "cell_type": "code",
   "execution_count": 164,
   "metadata": {},
   "outputs": [],
   "source": [
    "doc = nlp(page.text)"
   ]
  },
  {
   "cell_type": "code",
   "execution_count": 169,
   "metadata": {},
   "outputs": [
    {
     "data": {
      "text/plain": [
       "{Queen are a British rock band formed in London in 1970.,\n",
       " Before forming Queen, May and Taylor had played together in the band Smile.,\n",
       " He joined in 1970 and suggested the name \"Queen\".,\n",
       " Queen first charted in the UK with their second album, Queen II, in 1974.,\n",
       " Sheer Heart Attack later that year and A Night at the Opera in 1975 brought them international success.,\n",
       " The band’s 1977 album News of the World contained \"We Will Rock You\" and \"We Are the Champions\", which have become anthems at sporting events.,\n",
       " By the early 1980s, Queen were one of the biggest stadium rock bands in the world. \",\n",
       " In August 1986, Mercury gave his last performance with Queen at Knebworth, England.,\n",
       " Since 2004, May and Taylor have toured under the \"Queen +\" name with vocalists Paul Rodgers and Adam Lambert.,\n",
       " Estimates of Queen's record sales range from 170 million to 300 million records, making them one of the world's best-selling music artists.,\n",
       " Queen received the Outstanding Contribution to British Music Award from the British Phonographic Industry in 1990.,\n",
       " In 2005, Queen received the Ivor Novello Award for Outstanding Song Collection from the British Academy of Songwriters, Composers, and Authors.,\n",
       " In 1970, after Staffell left to join the band Humpy Bong, the remaining Smile members, encouraged by now-member Bulsara, changed their name to \"Queen\" and performed their first gig on 18 July.,\n",
       " On 2 July 1971, Queen played their first show in the classic line-up of Mercury, May, Taylor and Deacon at a Surrey college outside London.,\n",
       " Having attended art college, Mercury also designed Queen's logo, called the Queen crest, shortly before the release of the band's first album.,\n",
       " In 1972, Queen entered discussions with Trident Studios after being spotted at De Lane Lea Studios by John Anthony.,\n",
       " After these discussions, Norman Sheffield offered the band a management deal under Neptune Productions, a subsidiary of Trident, to manage the band and enable them to use the facilities at Trident to record new material, whilst the management searched for a record label to sign Queen.,\n",
       " This suited both parties, as Trident were expanding into management, and under the deal, Queen were able to make use of the hi-tech recording facilities used by other musicians such as the Beatles and Elton John to produce new material.,\n",
       " Roger Taylor later described these  early off-peak studio hours as \"gold dust\".In 1973, Queen signed to a deal with Trident/EMI.,\n",
       " The group's second LP, Queen II, was released in 1974, and features rock photographer Mick Rock's iconic image of the band on the cover.,\n",
       " The album reached number five on the British album chart and became the first Queen album to chart in the UK.,\n",
       " Aside from its only single, the album also included the song \"The March of the Black Queen\", a six-minute epic which lacks a chorus.,\n",
       " Critical reaction was mixed; the Winnipeg Free Press, while praising the band's debut album, described Queen II as an \"over-produced monstrosity\".,\n",
       " AllMusic has described the album as a favourite among the band's hardcore fans, and it is the first of three Queen albums to feature in the book 1001 Albums,\n",
       " Before You Die.\n",
       " \n",
       " 1974–1976: Sheer Heart Attack to A Night at the Opera,\n",
       " Released in 1974, Sheer Heart Attack reached number two in the UK, sold well throughout Europe, and went gold in the US.,\n",
       " At this point, Queen started to move away from the progressive tendencies of their first two releases into a more radio-friendly, song-orientated style.,\n",
       " Stretching contemporary production methods, Sheer Heart Attack introduced new sound and melody patterns.,\n",
       " The single \"Killer Queen\" from Sheer Heart Attack reached number two on the British charts, and became their first US hit, reaching number 12 on the Billboard Hot 100.,\n",
       " It is also the second of three Queen albums to feature in the book 1001 Albums,\n",
       " In late 1975, Queen recorded and released A Night at the Opera, taking its name from the popular Marx Brothers movie.,\n",
       " A Night at the Opera has frequently appeared in \"greatest albums\" lists reflecting the opinions of critics.,\n",
       " A Night at the Opera is the third and final Queen album to be featured in the book 1001 Albums,\n",
       " The first track on A Night at the Opera, \"Death on Two Legs\", is said to have been written by Mercury about Norman Sheffield (and the former management at Trident who helped make the video so popular) because the band was broke despite the success of the previous album.,\n",
       " The band's A Night at the Opera Tour began in November 1975, and covered Europe, the United States, Japan, and Australia.\n",
       " ,\n",
       " A Day at the Races to Live Killers\n",
       " By 1976, Queen were back in the studio recording A Day at the Races, which is often regarded as a sequel album to A Night at the Opera.,\n",
       " It again borrowed the name of a Marx Brothers movie, and its cover was similar to that of A Night at the Opera, a variation on the same Queen logo.,\n",
       " The most recognisable of the Marx Brothers, Groucho Marx, invited Queen to visit him in his Los Angeles home in March 1977; there the band thanked him in person, and performed \"'39\" a cappella.,\n",
       " Musically, A Day at the Races was by both fans' and critics' standards a strong effort, reaching number one in the UK and Japan, and number five in the US.,\n",
       " During 1976, Queen played one of their most famous gigs, a free concert in Hyde Park, London.,\n",
       " On 1 December 1976, Queen were the intended guests on London's early evening,\n",
       " During the A Day at the Races Tour in 1977, Queen performed sold-out shows at Madison Square Garden, New York, in February, and Earls Court, London, in June.,\n",
       " The Earls Court concerts commemorated the Silver Jubilee of Queen Elizabeth II, and saw the band use a lighting rig in the shape of a crown for the first time.,\n",
       " The band's sixth studio album News of the World was released in 1977, which has gone four times platinum in the United States, and twice in the UK.,\n",
       " Queen commenced the News of the World Tour in November 1977, and Robert Hilburn of the Los Angeles Times called this concert tour the band's \"most spectacularly staged and finely honed show\".,\n",
       " In 1978, the band released Jazz, which reached number two in the UK and number six on the Billboard 200 in the US.,\n",
       " Another notable track from Jazz, \"Don't Stop Me Now\", provides another example of the band's exuberant vocal harmonies.,\n",
       " In 1978, Queen toured the US and Canada, and spent much of 1979 touring in Europe and Japan.,\n",
       " Queen also released the very successful single \"Crazy Little Thing Called Love\", a rockabilly inspired song done in the style of Elvis Presley.,\n",
       " In December 1979, Queen played the opening night at the Concert for the People of Kampuchea in London, having accepted a request by the event's organiser Paul McCartney.\n",
       " ,\n",
       " The Game to The Works\n",
       " Queen began their 1980s career with The Game.,\n",
       " After attending a Queen concert in Los Angeles, Michael Jackson suggested to Mercury backstage that \"Another One Bites the Dust\" be released as a single, and in October 1980 it spent three weeks at number one.,\n",
       " It was also the first appearance of a synthesiser on a Queen album.,\n",
       " In September 1980, Queen performed three sold-out shows at Madison Square Garden.,\n",
       " In 1980, Queen also released the soundtrack they had recorded for Flash Gordon.,\n",
       " At the 1981 American Music Awards in January, \"Another One Bites the Dust\" won the award for Favorite Pop/Rock Single, and Queen were nominated for Favorite Pop/Rock Band, Duo, or Group.,\n",
       " In February 1981, Queen travelled to South America as part of The Game Tour, and became the first major rock band to play in Latin American stadiums.,\n",
       " In October of the same year, Queen performed for more than 150,000 fans on 9 October at Monterrey (Estadio Universitario) and 17 and 18 at Puebla (Estadio Zaragoza), Mexico.,\n",
       " On 24 and 25 November, Queen played two sell out nights at the Montreal Forum, Quebec, Canada.,\n",
       " One of Mercury's most notable performances of The Game's final track, \"Save Me\", took place in Montreal, and the concert is recorded in the live album, Queen Rock Montreal.\n",
       " ,\n",
       " Queen worked with David Bowie on the single \"Under Pressure\".,\n",
       " The first-time collaboration with another artist was spontaneous, as Bowie happened to drop by the studio while Queen were recording.,\n",
       " In October that year, Queen released their first compilation album, titled Greatest Hits, which showcased the group's highlights from 1974 to 1981.,\n",
       " In 1982, the band released the album Hot Space, a departure from their trademark seventies sound, this time being a mixture of rock, pop rock, dance, funk, and R&B.,\n",
       " Q magazine would list Hot Space as one of the top fifteen albums where great rock acts lost the plot.,\n",
       " The band stopped touring North America after their Hot Space Tour, as their success there had waned, although they would perform on American television for the only time during the eighth-season premiere of Saturday Night Live on 25 September of the same year; it became the final public performance of the band in North America before the death of their frontman.,\n",
       " Queen left Elektra Records, their label in the US, Canada, Japan, Australia, and New Zealand, and signed onto EMI/Capitol Records.,\n",
       " After working steadily for over ten years, Queen decided that they would not perform any live shows in 1983.,\n",
       " In February 1984, Queen released their eleventh studio album, The Works, which included the successful singles \"Radio Ga Ga\", \"Hammer to Fall\" and \"I Want to Break Free\".,\n",
       " I think we proved that.\"That year, Queen began The Works Tour, the first tour to feature keyboardist Spike Edney as an extra live musician.,\n",
       " Queen donated to a school for the deaf and blind as a philanthropic gesture but were fined by the British Musicians' Union and placed on the United Nations' blacklisted artists.\n",
       " ,\n",
       " 1985–1988: Live Aid and tours\n",
       " In January 1985, Queen headlined two nights of the first Rock in Rio festival at Rio de Janeiro, Brazil, and played in front of over 300,000 people each night.,\n",
       " Highlights from both nights were released on VHS as Queen: Live in Rio, and was broadcast on MTV in the US.,\n",
       " In April and May 1985, Queen completed the Works Tour with sold-out shows in Australia and Japan.\n",
       " ,\n",
       " At Live Aid, held at Wembley on 13 July 1985, in front of the biggest-ever TV audience of 1.9 billion, Queen performed some of their greatest hits.,\n",
       " The show's organisers Bob Geldof and Midge Ure, other musicians such as Elton John, Cliff Richard and Dave Grohl, and journalists writing for the BBC, CNN, Rolling Stone, MTV, The Telegraph among others, described Queen as the highlight.,\n",
       " Queen ended 1985 by releasing the single \"One Vision\" and a limited-edition boxed set of Queen albums, The Complete Works.,\n",
       " In early 1986, Queen recorded the album A Kind of Magic, containing several reworkings of songs written for the fantasy action film Highlander.,\n",
       " The album was successful in the UK and many other countries, producing a string of hits including \"A Kind of Magic\", \"One Vision\", \",\n",
       " In mid-1986, Queen went on the Magic Tour, their final tour with Freddie Mercury.,\n",
       " The Magic Tour's highlight was at Wembley Stadium in London and resulted in the live double album Queen at Wembley, released on CD and as a live concert VHS/DVD, which has gone five times platinum in the US and four times platinum in the UK.,\n",
       " Queen could not book Wembley for a third night, but played at Knebworth Park.,\n",
       " The show sold out within two hours and over 120,000 fans packed the park for what was Queen's final performance with Mercury.,\n",
       " Queen began the tour at the Råsunda Stadium in Stockholm, Sweden, and during the tour the band performed a concert at Slane Castle, Ireland, in front of an audience of 95,000, which broke the venue's attendance record.,\n",
       " More than one million people saw Queen on the tour—400,000 in the UK alone, a record at the time.,\n",
       " After working on various solo projects during 1988 (including Mercury's collaboration with Montserrat Caballé, Barcelona), the band released The Miracle in 1989.,\n",
       " The album continued the direction of A Kind of Magic, using a pop-rock sound mixed with a few heavy numbers.,\n",
       " I Want It All\", \"Breakthru\", \"The Invisible Man\", \"Scandal\", and \"The Miracle\".,\n",
       " The Miracle also began a change in direction of Queen's songwriting philosophy.,\n",
       " With The Miracle, their songwriting became more collaborative, and they vowed to credit the final product only to Queen as a group.\n",
       " ,\n",
       " The band continued recording albums, starting with The Miracle (1989) and continuing with Innuendo (1991).,\n",
       " In 1990, Queen ended their contract with Capitol and signed with Hollywood Records; through the deal, Disney acquired the North American distribution rights to Queen's catalogue for $10 million, and remains the group's music catalogue owner and distributor in the United States and Canada.,\n",
       " In February that year, Mercury made his final public appearance when he joined the rest of Queen to collect the Brit Award for Outstanding Contribution to British Music.,\n",
       " Innuendo was released in early 1991 with an eponymous number 1 UK hit and other charting singles released later in the year, which included \"The Show Must Go On\".,\n",
       " This song, released as a forerunner to Greatest Hits II, featured archive footage of Queen's performances between 1981 and 1989, and along with the manner of its lyrics, fuelled reports that Mercury was dying.,\n",
       " This track had featured at the beginning of the year on the Innuendo album, and the video for it was recorded in May 1991 (which proved to be Mercury's final work with Queen).,\n",
       " Queen's popularity was stimulated in North America when \"Bohemian Rhapsody\" was featured in the 1992 comedy film Wayne's World.,\n",
       " The compilation album Classic Queen also reached number four on the Billboard 200, and is certified three times platinum in the US.,\n",
       " Performers, including Def Leppard, Robert Plant, Tony Iommi, Roger Daltrey, Guns N' Roses, Elton John, David Bowie, George Michael, Annie Lennox, Seal, Extreme, and Metallica performed various Queen songs along with the three remaining Queen members (and Spike Edney.),\n",
       " 1995–2003: Made in Heaven to 46664 Concert\n",
       " Queen's last album with Mercury, titled Made in Heaven, was released in 1995, four years after his death.,\n",
       " In 1997, Queen returned to the studio to record \"No-One,\n",
       " It was released as a bonus track on the Queen Rocks compilation album later that year.,\n",
       " In January 1997, Queen performed \"The Show Must Go On\" live with Elton John and the Béjart Ballet in Paris on a night Mercury was remembered, and it marked the last performance and public appearance of John Deacon, who chose to retire.,\n",
       " The Paris concert was only the second time Queen had played live since Mercury's death, prompting Elton John to urge them to perform again.,\n",
       " During this time, they were billed as Queen + followed by the guest singer's name.,\n",
       " Several of the guest singers recorded new versions of Queen's hits under the Queen + name, such as Robbie Williams providing vocals for \"We Are the Champions\" for the soundtrack of A Knight's Tale (2001).\n",
       " ,\n",
       " This featured, among others, \"Queen + Wyclef Jean\" on a rap version of \"Another One Bites the Dust\".,\n",
       " By this point, Queen's vast amount of record sales made them the second-bestselling artist in the UK of all time, behind the Beatles.,\n",
       " On 18 October 2002, Queen were awarded the 2,207th star on the Hollywood Walk of Fame, for their work in the music industry, which is located at 6358 Hollywood Blvd.,\n",
       " A new song, \"Invincible Hope\", featuring Mandela's speech and credited to Queen + Nelson Mandela, was performed during the concert and later released on the 46664,\n",
       " Queen + Paul Rodgers,\n",
       " Brian May's website also stated that Rodgers would be \"featured with\" Queen as \"Queen + Paul Rodgers\", not replacing Mercury.,\n",
       " In November 2004, Queen were among the inaugural inductees into the UK Music Hall of Fame, and the award ceremony was the first event at which Rodgers joined May and Taylor as vocalist.,\n",
       " Between 2005 and 2006, Queen + Paul Rodgers embarked on a world tour, which was the first time Queen toured since their last tour with Freddie Mercury in 1986.,\n",
       " Queen received the inaugural VH1 Rock Honors at the Mandalay Bay Events Center in Las Vegas, Nevada, on 25 May 2006.,\n",
       " Foo Fighters paid homage, performing \"Tie Your Mother Down\" to open the ceremony before being joined on stage by May, Taylor, and Rodgers, who played a selection of Queen hits.\n",
       " ,\n",
       " On 15 August 2006, May confirmed through his website and fan club that Queen + Paul Rodgers would begin producing their first studio album beginning in October, to be recorded at a \"secret location\".,\n",
       " Queen + Paul Rodgers performed at the Nelson Mandela 90th Birthday Tribute held in Hyde Park, London on 27 June 2008, to commemorate Mandela's ninetieth birthday, and again promote awareness of the HIV/AIDS pandemic.,\n",
       " The first Queen + Paul Rodgers album, titled The Cosmos Rocks, was released in Europe on 12 September 2008 and in the United States on 28 October 2008.,\n",
       " Queen and Paul Rodgers officially split up without animosity on 12 May 2009.,\n",
       " Rodgers stated: \"My arrangement with [Queen] was similar to my arrangement with Jimmy [Page] in The Firm in that it was never meant to be a permanent arrangement\".,\n",
       " Rodgers did not rule out the possibility of working with Queen again.\n",
       " ,\n",
       " In mid-2009, after the split of Queen + Paul Rodgers, the Queen online website announced a new greatest hits compilation named Absolute Greatest.,\n",
       " The album contains 20 of Queen's biggest hits spanning their entire career and was released in four different formats: single disc, double disc (with commentary), double disc with feature book, and a vinyl record.,\n",
       " Before its release, Queen ran an online competition to guess the track listing as a promotion for the album.,\n",
       " On 30 October 2009, May wrote a fanclub letter on his website stating that Queen had no intentions to tour in 2010 but that there was a possibility of a performance.,\n",
       " On 20 August 2010, Queen's manager Jim Beach put out a Newsletter stating that the band had signed a new contract with Universal Music.,\n",
       " As such, for the first time since the late 1980s, Queen's catalogue now has the same distributor worldwide, as Universal distributes for both the Island and Hollywood labels (for a time in the late 1980s, Queen was on EMI-owned Capitol Records in the US).On 14 March 2011, which marked the band's 40th anniversary,,\n",
       " Queen's first five albums were re-released in the UK and some other territories as remastered deluxe editions (the US versions were released on 17 May).,\n",
       " The second five albums of Queen's back catalogue were released worldwide on 27 June, with the exception of the US and Canada (27 September).,\n",
       " In May 2011, Jane's Addiction vocalist Perry Farrell noted that Queen are currently scouting their once former and current live bassist Chris Chaney to join the band.,\n",
       " Farrell stated: \"I have to keep Chris away from Queen, who want him and they're not gonna get him unless we're not doing anything.,\n",
       " \" In the same month, Paul Rodgers stated he may tour with Queen again in the near future.,\n",
       " At the 2011 Broadcast Music, Incorporated (BMI) Awards held in London on 4 October, Queen received the BMI Icon Award in recognition for their airplay success in the US.,\n",
       " At the 2011 MTV Europe Music Awards on 6 November, Queen received the Global Icon Award, which Katy Perry presented to Brian May. Queen closed the awards ceremony, with Adam Lambert on vocals, performing \"The Show Must Go On\", \"We Will Rock You\" and \"We Are the Champions\".,\n",
       " Queen + Adam Lambert, Queen Forever,\n",
       " On 25 and 26 April, May and Taylor appeared on the eleventh series of American Idol at the Nokia Theatre, Los Angeles, performing a Queen medley with the six finalists on the first show, and the following day performed \"Somebody to Love\" with the 'Queen Extravaganza' band.,\n",
       " Queen were scheduled to headline Sonisphere at Knebworth on 7 July 2012 with Adam Lambert before the festival was cancelled.,\n",
       " Queen's final concert with Freddie Mercury was in Knebworth in 1986.,\n",
       " Queen expressed disappointment at the cancellation and released a statement to the effect that they were looking to find another venue.,\n",
       " Queen + Adam Lambert played two shows at the Hammersmith Apollo, London on 11 and 12 July 2012.,\n",
       " On 30 June, Queen + Lambert performed in Kiev, Ukraine at a joint concert with Elton John for the Elena Pinchuk ANTIAIDS Foundation.,\n",
       " Queen also performed with Lambert on 3 July 2012 at Moscow's Olympic Stadium, and on 7 July 2012 at the Municipal Stadium in Wroclaw, Poland.\n",
       " ,\n",
       " On 12 August 2012, Queen performed at the closing ceremony of the 2012 Summer Olympics in London.,\n",
       " Following this, May performed part of the \"Brighton Rock\" solo before being joined by Taylor and solo artist Jessie J for a performance of \"We Will Rock You\".On 20 September 2013, Queen + Adam Lambert performed at the iHeartRadio Music Festival at the MGM Grand Hotel & Casino in Las Vegas.,\n",
       " Queen + Adam Lambert toured North America in Summer 2014 and Australia and New Zealand in August/September 2014.,\n",
       " In November 2014 Queen released a new album Queen Forever.  ,\n",
       " The album is largely a compilation of previously-released material but features three new Queen tracks featuring vocals from Mercury with backing added by the surviving members of Queen.,\n",
       " Queen + Adam Lambert performed in the shadow of Big Ben in Central Hall, Westminster, central London at the Big Ben New Year concert on New Year's Eve 2014 and New Year's Day 2015.In 2016, the group embarked across Europe and Asia on the Queen + Adam Lambert 2016 Summer Festival Tour.,\n",
       " As part of the Queen + Adam Lambert Tour 2017–2018, the band toured North America in the summer of 2017, toured Europe in late 2017, before playing dates in Australia and New Zealand in February and March 2018.,\n",
       " On 24 February 2019, Queen + Adam Lambert opened the 91st Academy Awards ceremony held at the Dolby Theatre in Hollywood, Los Angeles.,\n",
       " Music style and influences\n",
       " Queen drew artistic influence from British rock acts of the 1960s and early 1970s, such as the Beatles, the Kinks, Cream, Led Zeppelin, Pink Floyd, the Who, Black Sabbath, Slade, Deep Purple, David Bowie, Genesis and Yes, in addition to American guitarist Jimi Hendrix, with Mercury also inspired by the gospel singer Aretha Franklin.,\n",
       " At their outset in the early 1970s, Queen's music has been characterised as \"Led Zeppelin meets Yes\" due to its combination of \"acoustic/electric guitar extremes and fantasy-inspired multi-part song epics\".,\n",
       " In his book, Essential Hard Rock and Heavy Metal, Eddie Trunk described Queen as \"a hard rock band at the core but one with a high level of majesty and theatricality that delivered a little something for everyone\", as well as observing that the band \"sounded British\".Queen composed music that drew inspiration from many different genres of music, often with a tongue-in-cheek attitude.,\n",
       " Queen also wrote songs that were inspired by diverse musical styles which are not typically associated with rock groups, such as opera, music hall, folk music, gospel, ragtime, and dance/disco.,\n",
       " Several Queen songs were written with audience participation in mind, such as \"We Will Rock You\" and \"We Are the Champions\".,\n",
       " Sonic experimentation figured heavily in Queen's songs.,\n",
       " A distinctive characteristic of Queen's music are the vocal harmonies which are usually composed of the voices of May, Mercury, and Taylor best heard on the studio albums A Night at the Opera and A Day at the Races.,\n",
       " Besides vocal harmonies, Queen were also known for multi-tracking voices to imitate the sound of a large choir through overdubs.,\n",
       " Replicating Mick Rock’s photograph of the band from the cover of Queen II – which itself was inspired by a photo of actress Marlene Dietrich from Shanghai Express (1932),\n",
       " – the video opens with \"Queen standing in diamond formation, heads tilted back like Easter Island statues\" in near darkness as they sing the a cappella part.,\n",
       " The music video for \"Innuendo\" combines stop motion animation with rotoscoping and band members appear as illustrations and images taken from earlier Queen music videos on a cinema screen in the same manner as in the British film Nineteen Eighty-Four.\n",
       " ,\n",
       " In 2002, Queen's \"Bohemian Rhapsody\" was voted \"the UK's favourite hit of all time\" in a poll conducted by the Guinness World Records British Hit Singles Book.,\n",
       " Acclaimed for their stadium rock, in 2005 an industry poll ranked Queen's performance at Live Aid in 1985 as the best live act in history.,\n",
       " As of 2005, according to the Guinness Book of World Records, Queen albums have spent a total of 1,322 weeks (twenty-six years) on the UK Album Charts, more time than any other act.,\n",
       " Also in 2005, with the release of their live album with Paul Rodgers, Queen moved into third place on the list of acts with the most aggregate time spent on the British record charts.,\n",
       " Queen have sold over 170 million records, with some estimates in excess of 300 million records worldwide, including 34.5 million albums in the US as of 2004.,\n",
       " Queen are one of the most bootlegged bands ever, according to Nick Weymouth, who manages the band's official website.,\n",
       " A 2001 survey discovered the existence of 12,225 websites dedicated to Queen bootlegs, the highest number for any band.,\n",
       " In a project called Queen: The Top 100 Bootlegs, many of these have been made officially available to download for a nominal fee from Queen's website, with profits going to the Mercury Phoenix Trust.,\n",
       " Rolling Stone ranked Queen at number 52 on its list of the \"100 Greatest Artists of All Time\", while ranking Mercury the 18th greatest singer, and May the twenty-sixth greatest guitarist.,\n",
       " Queen were named 13th on VH1's 100 Greatest Artists of Hard Rock list, and in 2010 were ranked 17th on VH1's 100 Greatest Artists of All Time list.,\n",
       " In 2012, Gigwise readers named Queen the best band of the past 60 years.,\n",
       " Eddie Trunk argued that Queen's importance, in common with Thin Lizzy and Deep Purple, was \"not as fully recognized\" in the United States because elsewhere they \"often played to much bigger crowds in stadium venues\".,\n",
       " Queen had stopped touring the US in 1982 as their success there had started to wane, but they remained a touring \"juggernaut\", filling stadiums and arenas internationally in the 1980s until their final tour (with Mercury) in 1986.\n",
       " ,\n",
       " Influence\n",
       " Queen have been credited with making a significant contribution to genres such as hard rock and heavy metal.,\n",
       " Moreover, like their music, the bands and artists that have claimed to be influenced by Queen or have expressed admiration for them are diverse, spanning different generations, countries, and genres, including heavy metal:,\n",
       " In the early 1970s, Queen helped spur the heavy metal genre's evolution by discarding much of its blues influence.,\n",
       " Queen's 1974 song \"Stone Cold Crazy\" has been cited as a precursor of speed metal.,\n",
       " Thom Yorke of Radiohead received his first guitar at 7 years old, encouraged after seeing Brian May in a broadcast of a Queen concert.,\n",
       " Subsequently, Queen was one of the first influences in the music of Radiohead.\n",
       " ,\n",
       " In other media\n",
       " Musical theatre\n",
       " In May 2002, a musical or \"rock theatrical\" based on the songs of Queen, titled We Will Rock You, opened at the Dominion Theatre on London's West End.,\n",
       " The launch of the musical coincided with Queen Elizabeth II's Golden Jubilee.,\n",
       " As part of the Jubilee celebrations, Brian May performed a guitar solo of \"God Save the Queen\", as featured on Queen's A Night at the Opera, from the roof of Buckingham Palace.,\n",
       " The recording of this performance was used as video for the song on the 30th Anniversary DVD edition of A Night at the Opera.,\n",
       " Following the Las Vegas premiere on 8 September 2004, Queen were inducted into the Hollywood RockWalk in Sunset Boulevard, Los Angeles.\n",
       " ,\n",
       " Sean Bovim created \"Queen at the Ballet\", a tribute to Mercury, which uses Queen's music as a soundtrack for the show's dancers, who interpret the stories behind tracks such as \"Bohemian Rhapsody\", \"Radio Ga Ga\", and \"Killer Queen\".,\n",
       " Queen's music also appears in the Off-Broadway production Power Balladz, most notably the song \",\n",
       " In conjunction with Electronic Arts, Queen released the computer game Queen:,\n",
       " The music itself—tracks from Queen's vast catalogue, in many cases remixed into new instrumental versions—was by and large well received, but the game experience was hampered by poor gameplay.,\n",
       " Under the supervision of May and Taylor, numerous restoration projects have been under way involving Queen's lengthy audio and video catalogue.,\n",
       " DVD releases of their 1986 Wembley concert (titled Live at Wembley Stadium), 1982 Milton Keynes concert (Queen on Fire – Live at the Bowl), and two Greatest Video Hits (Volumes 1 and 2, spanning the 1970s and 1980s) have seen the band's music remixed into 5.1 and DTS surround sound.,\n",
       " So far, only two of the band's albums, A Night at the Opera and The Game, have been fully remixed into high-resolution multichannel surround on DVD-Audio.,\n",
       " A Night at the Opera was re-released with some revised 5.1 mixes and accompanying videos in 2005 for the 30th anniversary of the album's original release (CD+DVD-Video set).,\n",
       " In 2007, a Blu-ray edition of Queen's previously released concerts, Queen Rock Montreal & Live Aid, was released, marking their first project in 1080p,\n",
       " HD.Queen have been featured multiple times in the Guitar Hero franchise: a cover of \"Killer Queen\" in the original Guitar Hero, \"We Are The Champions\", \"Fat Bottomed Girls\", and the Paul Rodgers collaboration \"C-lebrity\" in a track pack for Guitar Hero World Tour, \"Under Pressure\" with David Bowie in Guitar Hero 5,\n",
       " On 13 October 2009, Brian May revealed there was \"talk\" going on \"behind the scenes\" about a dedicated Queen Rock Band game.,\n",
       " Queen have also been featured multiple times in the Rock Band franchise: a track pack of 10 songs which are compatible with Rock Band, Rock Band 2, and Rock Band 3 (three of those are also compatible with Lego Rock Band).,\n",
       " In March 2009, Sony Computer Entertainment released a Queen branded version of the company's karaoke franchise, SingStar.,\n",
       " The game, which is available on PlayStation 2 and PlayStation 3, is titled SingStar Queen and has 25 songs on the PS3 and 20 on the PS2.,\n",
       " \"We Will Rock You\" and other songs by Queen also appear in DJ Hero.\"One Vision\" was featured on the successful video game Grand Theft Auto IV on the fictional radio station Liberty Rock Radio 97.8, while \"Radio Ga Ga\" features on Grand Theft Auto V character trailer for Michael and the game's soundtrack.\n",
       " ,\n",
       " Film and television\n",
       " The soundtrack for the film Flash Gordon (1980) was by Queen.  ,\n",
       " The band also contributed music to Highlander (the original 1986 film), with \"A Kind of Magic\", \"One Year of Love\", \"Who Wants to Live Forever\", \"Hammer to Fall\", and the theme \"Princes of the Universe\", which was also used as the theme of the Highlander TV series (1992–1998).,\n",
       " A Knight's Tale has a version of \"We Are the Champions\" performed by Robbie Williams and Queen; the film also features \"We Will Rock,\n",
       " The show's soundtrack also contained other songs by Queen.,\n",
       " Show had episodes named after Queen songs.,\n",
       " With an entry for the year 1977, Queen featured in the VH1 series I Love the '70s, broadcast in the US.,\n",
       " The Simpsons has made storylines which have featured Queen songs such as \"We Will Rock You\", \",\n",
       " Another One Bites the Dust”, while an episode of the show, “Killer Queen”, is named after (and features) the song.,\n",
       " Each contestant was required to sing a Queen song during that week of the competition.,\n",
       " Who Wants to Live Forever\", and \"Innuendo\".,\n",
       " The motion picture was written by Anthony McCarten, with a story by McCarten and Peter Morgan, who received Oscar nominations for his screenplays The Queen and Frost/Nixon.,\n",
       " Released in October 2018, Bohemian Rhapsody focuses on Queen's formative years and the period leading up to the celebrated performance at the 1985 Live Aid concert.,\n",
       " Former members\n",
       " Freddie Mercury – lead vocals, keyboards, guitar (1970–1991)\n",
       " John Deacon – bass, guitar, keyboards (1971–1997)\n",
       " \n",
       " Long-term Queen + vocalists\n",
       " Paul Rodgers (2004–2009)\n",
       " Adam Lambert (2011–present)\n",
       " ,\n",
       " Early members\n",
       " Mike Grose – bass (1970)\n",
       " Barry Mitchell – bass (1970–1971)\n",
       " Doug Bogie – bass (1971)\n",
       " \n",
       " Timeline\n",
       " Awards and nominations\n",
       " Tours\n",
       " Early Queen Tours (1970-1973)\n",
       " Queen I Tour (1973–74)\n",
       " Queen II Tour (1974),\n",
       " Sheer Heart Attack Tour (1974–1975),\n",
       " A Night at the Opera Tour (1975–1976),\n",
       " A Day at the Races Tour (1977)\n",
       " News of the World Tour (1977–1978)\n",
       " Jazz Tour (1978–1979)\n",
       " Crazy Tour (1979),\n",
       " The Game Tour (1980–1981)\n",
       " Hot Space Tour (1982),\n",
       " The Works Tour (1984–1985),\n",
       " The Magic Tour (1986)\n",
       " Queen + Paul Rodgers Tour,\n",
       " (2005–2006)\n",
       " Rock the Cosmos Tour (2008)\n",
       " Queen + Adam Lambert Tour 2012 (2012)\n",
       " Queen + Adam Lambert Tour 2014–2015 (2014–2015)\n",
       " Queen + Adam Lambert 2016 Summer Festival Tour (2016)\n",
       " Queen + Adam Lambert Tour 2017–2018 (2017–2018),\n",
       " Queen + Adam Lambert,\n",
       " The Rhapsody Tour (2019)\n",
       " \n",
       " Discography\n",
       " Studio albums\n",
       " Queen (1973)\n",
       " Queen II (1974),\n",
       " Sheer Heart Attack (1974),\n",
       " A Night at the Opera (1975),\n",
       " A Day at the Races (1976)\n",
       " News of the World (1977)\n",
       " Jazz (1978),\n",
       " The Game (1980)\n",
       " Flash Gordon (Original Soundtrack),\n",
       " (1980)\n",
       " Hot Space (1982),\n",
       " The Works (1984),\n",
       " A Kind of Magic (1986),\n",
       " The Miracle (1989)\n",
       " Innuendo (1991)\n",
       " Made in Heaven (1995)\n",
       " \n",
       " References,\n",
       " Further reading\n",
       " External links\n",
       " \n",
       " Official website\n",
       " Queen at Curlie}"
      ]
     },
     "execution_count": 169,
     "metadata": {},
     "output_type": "execute_result"
    }
   ],
   "source": [
    "{sent for sent in doc.sents for album in ALBUMS if album[0] in sent.text}"
   ]
  },
  {
   "cell_type": "code",
   "execution_count": 175,
   "metadata": {},
   "outputs": [
    {
     "data": {
      "text/plain": [
       "[('Queen', 1973),\n",
       " ('Queen II', 1974),\n",
       " ('Sheer Heart Attack', 1974),\n",
       " ('A Night at the Opera', 1975),\n",
       " ('A Day at the Races', 1976),\n",
       " ('News of the World', 1977),\n",
       " ('Jazz', 1978),\n",
       " ('The Game', 1980),\n",
       " ('Flash Gordon', 1980),\n",
       " ('Hot Space', 1982),\n",
       " ('The Works', 1984),\n",
       " ('A Kind of Magic', 1986),\n",
       " ('The Miracle', 1989),\n",
       " ('Innuendo', 1991)]"
      ]
     },
     "execution_count": 175,
     "metadata": {},
     "output_type": "execute_result"
    }
   ],
   "source": [
    "by_album_deps = {album for sent in doc.sents for album in ALBUMS if album[0] in sent.text}\n",
    "l = list(by_album_deps)\n",
    "l.sort(key = lambda a: a[1])\n",
    "l"
   ]
  },
  {
   "cell_type": "code",
   "execution_count": 142,
   "metadata": {},
   "outputs": [],
   "source": [
    "def show_deps(text):\n",
    "    doc = nlp(text)\n",
    "    for token in doc:\n",
    "        print(token.text, token.dep_, token.head.text, token.head.pos_,\n",
    "            [child for child in token.children])"
   ]
  },
  {
   "cell_type": "code",
   "execution_count": 144,
   "metadata": {},
   "outputs": [
    {
     "name": "stdout",
     "output_type": "stream",
     "text": [
      "Queen nsubj charted VERB []\n",
      "first advmod charted VERB []\n",
      "charted ROOT charted VERB [Queen, first, in, with, in, .]\n",
      "in prep charted VERB [UK]\n",
      "the det UK PROPN []\n",
      "UK pobj in ADP [the]\n",
      "with prep charted VERB [album]\n",
      "their poss album NOUN []\n",
      "second amod album NOUN []\n",
      "album pobj with ADP [their, second, ,, II, ,]\n",
      ", punct album NOUN []\n",
      "Queen compound II PROPN []\n",
      "II appos album NOUN [Queen]\n",
      ", punct album NOUN []\n",
      "in prep charted VERB [1974]\n",
      "1974 pobj in ADP []\n",
      ". punct charted VERB []\n"
     ]
    }
   ],
   "source": [
    "show_deps('Queen first charted in the UK with their second album, Queen II, in 1974.')"
   ]
  },
  {
   "cell_type": "code",
   "execution_count": 176,
   "metadata": {},
   "outputs": [
    {
     "data": {
      "text/plain": [
       "{'A Kind of Magic',\n",
       " 'A Night at the Opera',\n",
       " 'Hot Space',\n",
       " 'Jazz',\n",
       " 'News of the World',\n",
       " 'Queen',\n",
       " 'Queen II',\n",
       " 'Sheer Heart Attack',\n",
       " 'The Miracle',\n",
       " 'The Works'}"
      ]
     },
     "execution_count": 176,
     "metadata": {},
     "output_type": "execute_result"
    }
   ],
   "source": [
    "{ ent.text for ent in doc.ents for album in ALBUMS if ent.text == album[0]}"
   ]
  },
  {
   "cell_type": "code",
   "execution_count": 96,
   "metadata": {},
   "outputs": [
    {
     "name": "stdout",
     "output_type": "stream",
     "text": [
      "<_sre.SRE_Match object; span=(0, 17), match='=== Studio albums'>\n"
     ]
    }
   ],
   "source": [
    "print(re.match(r'.*Studio albums',\"=== Studio albums ===\\n\"))"
   ]
  },
  {
   "cell_type": "code",
   "execution_count": 123,
   "metadata": {},
   "outputs": [
    {
     "data": {
      "text/plain": [
       "[]"
      ]
     },
     "execution_count": 123,
     "metadata": {},
     "output_type": "execute_result"
    }
   ],
   "source": [
    "\n",
    "def parse_studio_albums(page):    \n",
    "    albums = []\n",
    "    inAlbums = False\n",
    "    inDiscography = False\n",
    "    for line in page.text.split(\"\\n\"):        \n",
    "        if not line:\n",
    "            continue\n",
    "        if not inDiscography and re.match(r'\\=+\\s*Discography\\s*\\=+',line):              \n",
    "            print(\"disco\")\n",
    "            inDiscography = True\n",
    "            continue\n",
    "        if inAlbums and re.match(r'\\=+\\s*.+\\s*\\=+',line): \n",
    "            break    \n",
    "        if inDiscography and not inAlbums and re.match(r'.*Studio albums',line):            \n",
    "            print('album')\n",
    "            inAlbums = True        \n",
    "            continue\n",
    "        if inAlbums:\n",
    "            print(line)\n",
    "            albums.append(line)\n",
    "            \n",
    "    return albums\n",
    "    \n",
    "parse_studio_albums(page)"
   ]
  },
  {
   "cell_type": "code",
   "execution_count": 56,
   "metadata": {},
   "outputs": [
    {
     "data": {
      "text/plain": [
       "'Studio albums\\n\\nExperience (1992)\\nMusic for the Jilted Generation (1994)\\nThe Fat of the Land (1997)\\nAlways Outnumbered, Never Outgunned (2004)\\nInvaders Must Die (2009)\\nThe Day Is My Enemy (2015)\\nNo Tourists (2018)'"
      ]
     },
     "execution_count": 56,
     "metadata": {},
     "output_type": "execute_result"
    }
   ],
   "source": [
    "wikipedia.page('The_Prodigy').sections('Studio albums')"
   ]
  },
  {
   "cell_type": "code",
   "execution_count": 100,
   "metadata": {},
   "outputs": [
    {
     "data": {
      "text/plain": [
       "['Experience (1992)',\n",
       " 'Music for the Jilted Generation (1994)',\n",
       " 'The Fat of the Land (1997)',\n",
       " 'Always Outnumbered, Never Outgunned (2004)',\n",
       " 'Invaders Must Die (2009)',\n",
       " 'The Day Is My Enemy (2015)',\n",
       " 'No Tourists (2018)']"
      ]
     },
     "execution_count": 100,
     "metadata": {},
     "output_type": "execute_result"
    }
   ],
   "source": [
    "parse_studio_albums(wikipedia.page('The_Prodigy'))"
   ]
  },
  {
   "cell_type": "code",
   "execution_count": 126,
   "metadata": {},
   "outputs": [],
   "source": [
    "dump_page(wiki.page('Deep_Purple'))"
   ]
  },
  {
   "cell_type": "code",
   "execution_count": 109,
   "metadata": {},
   "outputs": [
    {
     "name": "stdout",
     "output_type": "stream",
     "text": [
      "disco\n",
      "album\n"
     ]
    },
    {
     "data": {
      "text/plain": [
       "[]"
      ]
     },
     "execution_count": 109,
     "metadata": {},
     "output_type": "execute_result"
    }
   ],
   "source": [
    "parse_studio_albums(wikipedia.page('Deep_Purple'))"
   ]
  },
  {
   "cell_type": "code",
   "execution_count": 128,
   "metadata": {},
   "outputs": [
    {
     "ename": "AttributeError",
     "evalue": "'WikipediaPage' object has no attribute 'wikitext'",
     "output_type": "error",
     "traceback": [
      "\u001b[0;31m---------------------------------------------------------------------------\u001b[0m",
      "\u001b[0;31mAttributeError\u001b[0m                            Traceback (most recent call last)",
      "\u001b[0;32m<ipython-input-128-373d620b74ed>\u001b[0m in \u001b[0;36m<module>\u001b[0;34m\u001b[0m\n\u001b[0;32m----> 1\u001b[0;31m \u001b[0mdump_page\u001b[0m\u001b[0;34m(\u001b[0m\u001b[0mwikipedia\u001b[0m\u001b[0;34m.\u001b[0m\u001b[0mpage\u001b[0m\u001b[0;34m(\u001b[0m\u001b[0;34m'The_Rolling_Stones'\u001b[0m\u001b[0;34m)\u001b[0m\u001b[0;34m)\u001b[0m\u001b[0;34m\u001b[0m\u001b[0;34m\u001b[0m\u001b[0m\n\u001b[0m",
      "\u001b[0;32m<ipython-input-127-fdd5563d090e>\u001b[0m in \u001b[0;36mdump_page\u001b[0;34m(page)\u001b[0m\n\u001b[1;32m      1\u001b[0m \u001b[0;32mdef\u001b[0m \u001b[0mdump_page\u001b[0m\u001b[0;34m(\u001b[0m\u001b[0mpage\u001b[0m\u001b[0;34m)\u001b[0m\u001b[0;34m:\u001b[0m\u001b[0;34m\u001b[0m\u001b[0;34m\u001b[0m\u001b[0m\n\u001b[1;32m      2\u001b[0m     \u001b[0;32mwith\u001b[0m \u001b[0mopen\u001b[0m\u001b[0;34m(\u001b[0m\u001b[0mre\u001b[0m\u001b[0;34m.\u001b[0m\u001b[0msub\u001b[0m\u001b[0;34m(\u001b[0m\u001b[0;34mr'\\_'\u001b[0m\u001b[0;34m,\u001b[0m \u001b[0;34m' '\u001b[0m\u001b[0;34m,\u001b[0m \u001b[0mpage\u001b[0m\u001b[0;34m.\u001b[0m\u001b[0mtitle\u001b[0m\u001b[0;34m)\u001b[0m \u001b[0;34m+\u001b[0m \u001b[0;34m'.md'\u001b[0m\u001b[0;34m,\u001b[0m\u001b[0;34m'w'\u001b[0m\u001b[0;34m)\u001b[0m \u001b[0;32mas\u001b[0m \u001b[0mf\u001b[0m\u001b[0;34m:\u001b[0m\u001b[0;34m\u001b[0m\u001b[0;34m\u001b[0m\u001b[0m\n\u001b[0;32m----> 3\u001b[0;31m         \u001b[0mf\u001b[0m\u001b[0;34m.\u001b[0m\u001b[0mwrite\u001b[0m\u001b[0;34m(\u001b[0m\u001b[0mpage\u001b[0m\u001b[0;34m.\u001b[0m\u001b[0mwikitext\u001b[0m\u001b[0;34m)\u001b[0m\u001b[0;34m\u001b[0m\u001b[0;34m\u001b[0m\u001b[0m\n\u001b[0m",
      "\u001b[0;31mAttributeError\u001b[0m: 'WikipediaPage' object has no attribute 'wikitext'"
     ]
    }
   ],
   "source": [
    "dump_page(wikipedia.page('The_Rolling_Stones'))"
   ]
  }
 ],
 "metadata": {
  "kernelspec": {
   "display_name": "Python 3",
   "language": "python",
   "name": "python3"
  },
  "language_info": {
   "codemirror_mode": {
    "name": "ipython",
    "version": 3
   },
   "file_extension": ".py",
   "mimetype": "text/x-python",
   "name": "python",
   "nbconvert_exporter": "python",
   "pygments_lexer": "ipython3",
   "version": "3.6.7"
  }
 },
 "nbformat": 4,
 "nbformat_minor": 2
}
