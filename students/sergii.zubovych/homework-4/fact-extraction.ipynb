{
 "cells": [
  {
   "cell_type": "code",
   "execution_count": 4,
   "metadata": {},
   "outputs": [
    {
     "name": "stdout",
     "output_type": "stream",
     "text": [
      "The Game (Queen album)\n",
      "The Works (Queen album)\n",
      "A Day at the Races (album)\n",
      "Jazz (Queen album)\n",
      "A Night at the Opera (Queen album)\n",
      "Queen (Queen album)\n",
      "Innuendo (album)\n",
      "News of the World (album)\n",
      "Queen II\n",
      "Sheer Heart Attack\n",
      "Hot Space\n",
      "Made in Heaven\n",
      "The Miracle (album)\n"
     ]
    }
   ],
   "source": [
    "from SPARQLWrapper import SPARQLWrapper, JSON\n",
    "\n",
    "sparql = SPARQLWrapper(\"http://dbpedia.org/sparql\")\n",
    "sparql.setQuery(\"\"\"\n",
    "    PREFIX dbo: <http://dbpedia.org/ontology/>\n",
    "    PREFIX res:  <http://dbpedia.org/resource/>\n",
    "    PREFIX rdfs: <http://www.w3.org/2000/01/rdf-schema#>\n",
    "\n",
    "    SELECT ?albumName WHERE\n",
    "    {\n",
    "        ?album dbo:artist <http://dbpedia.org/resource/Queen_(band)> .\n",
    "        ?album dbp:type ?type .\n",
    "        ?album rdfs:label ?albumName .\n",
    "        FILTER (lang(?albumName) = 'en') . \n",
    "        FILTER (regex(?type,'(Studio album)|(studio)'))\n",
    "    } \n",
    "\"\"\")\n",
    "sparql.setReturnFormat(JSON)\n",
    "results = sparql.query().convert()\n",
    "\n",
    "for result in results[\"results\"][\"bindings\"]:\n",
    "    print(result[\"albumName\"][\"value\"])"
   ]
  },
  {
   "cell_type": "code",
   "execution_count": 8,
   "metadata": {},
   "outputs": [
    {
     "name": "stdout",
     "output_type": "stream",
     "text": [
      "Brian May\n",
      "Roger Taylor (Queen drummer)\n",
      "John Deacon\n",
      "Freddie Mercury\n"
     ]
    }
   ],
   "source": [
    "sparql = SPARQLWrapper(\"http://dbpedia.org/sparql\")\n",
    "sparql.setQuery(\"\"\"\n",
    "    PREFIX dbo: <http://dbpedia.org/ontology/>\n",
    "    PREFIX res:  <http://dbpedia.org/resource/>\n",
    "    PREFIX rdfs: <http://www.w3.org/2000/01/rdf-schema#>\n",
    "\n",
    "    SELECT * {{\n",
    "        SELECT ?name WHERE \n",
    "        {\n",
    "            <http://dbpedia.org/resource/Queen_(band)> dbo:bandMember ?member.\n",
    "            ?member rdfs:label ?name .\n",
    "            FILTER (lang(?name) = 'en') . \n",
    "        }\n",
    "    } UNION {\n",
    "        SELECT ?name WHERE\n",
    "        {\n",
    "            <http://dbpedia.org/resource/Queen_(band)> dbo:formerBandMember ?member.\n",
    "            ?member rdfs:label ?name .\n",
    "            FILTER (lang(?name) = 'en') . \n",
    "        }\n",
    "    }} \n",
    "\"\"\")\n",
    "sparql.setReturnFormat(JSON)\n",
    "results = sparql.query().convert()\n",
    "\n",
    "for result in results[\"results\"][\"bindings\"]:\n",
    "   print(result[\"name\"][\"value\"])"
   ]
  }
 ],
 "metadata": {
  "kernelspec": {
   "display_name": "Python 3",
   "language": "python",
   "name": "python3"
  },
  "language_info": {
   "codemirror_mode": {
    "name": "ipython",
    "version": 3
   },
   "file_extension": ".py",
   "mimetype": "text/x-python",
   "name": "python",
   "nbconvert_exporter": "python",
   "pygments_lexer": "ipython3",
   "version": "3.7.2"
  }
 },
 "nbformat": 4,
 "nbformat_minor": 2
}
