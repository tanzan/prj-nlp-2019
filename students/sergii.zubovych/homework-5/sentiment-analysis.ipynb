{
 "cells": [
  {
   "cell_type": "code",
   "execution_count": 28,
   "metadata": {},
   "outputs": [],
   "source": [
    "from bs4 import BeautifulSoup\n",
    "import requests\n",
    "import re\n",
    "import json"
   ]
  },
  {
   "cell_type": "code",
   "execution_count": 29,
   "metadata": {},
   "outputs": [],
   "source": [
    "def get_html(url):\n",
    "    response = requests.get(url)\n",
    "    return response.text"
   ]
  },
  {
   "cell_type": "code",
   "execution_count": 3,
   "metadata": {},
   "outputs": [],
   "source": [
    "tvs_url = 'https://rozetka.com.ua/all-tv/c80037/'"
   ]
  },
  {
   "cell_type": "code",
   "execution_count": 55,
   "metadata": {},
   "outputs": [],
   "source": [
    "from collections import namedtuple\n",
    "\n",
    "CatalogPage = namedtuple('CatalogPage', 'max_page_num items')\n",
    "\n",
    "def get_items(catalog_url, page_num):\n",
    "    page_url = catalog_url if page_num == 0 else catalog_url + 'page={}/'.format(page_num + 1)\n",
    "    \n",
    "    soup = BeautifulSoup(get_html(tvs_url), 'lxml')\n",
    "    \n",
    "    title_divs = tv_soup.find_all('div', class_ = 'g-i-tile-i-title clearfix') \n",
    "\n",
    "    titles = []\n",
    "    for div in title_divs:\n",
    "        a = div.find('a')\n",
    "        titles.append((a.get(\"href\"), a.text.strip()))\n",
    "        \n",
    "    page_items = tv_soup.find_all('li', class_ = 'paginator-catalog-l-i pos-fix')\n",
    "\n",
    "    max_page_num = [int(item.get('id').replace('page', '').strip()) for item in page_items][-1]    \n",
    "    \n",
    "    return CatalogPage(max_page_num, titles)"
   ]
  },
  {
   "cell_type": "code",
   "execution_count": 26,
   "metadata": {},
   "outputs": [],
   "source": [
    "page_0 = get_items(tvs_url, 0)"
   ]
  },
  {
   "cell_type": "code",
   "execution_count": 27,
   "metadata": {},
   "outputs": [
    {
     "data": {
      "text/plain": [
       "32"
      ]
     },
     "execution_count": 27,
     "metadata": {},
     "output_type": "execute_result"
    }
   ],
   "source": [
    "len(page_1.items)"
   ]
  },
  {
   "cell_type": "code",
   "execution_count": 24,
   "metadata": {},
   "outputs": [],
   "source": [
    "page_1 = get_items(tvs_url, 1)"
   ]
  },
  {
   "cell_type": "code",
   "execution_count": 25,
   "metadata": {},
   "outputs": [
    {
     "data": {
      "text/plain": [
       "32"
      ]
     },
     "execution_count": 25,
     "metadata": {},
     "output_type": "execute_result"
    }
   ],
   "source": [
    "len(page_1.items)"
   ]
  },
  {
   "cell_type": "code",
   "execution_count": 32,
   "metadata": {},
   "outputs": [],
   "source": [
    "item_url = 'https://rozetka.com.ua/philips_43pus6503_12/p39097504/'"
   ]
  },
  {
   "cell_type": "code",
   "execution_count": 68,
   "metadata": {},
   "outputs": [],
   "source": [
    "Comment = namedtuple('Comment', 'text up_count down_count replies')\n",
    "\n",
    "\n",
    "CommentsPage = namedtuple('CommentsPage', 'max_page_num comments')\n",
    "\n",
    "def get_comments(item_url, page_num):\n",
    "    comments_url = item_url + 'comments/'\n",
    "    page_url = comments_url if page_num == 0 else comments_url + 'page={}/'.format(page_num + 1)\n",
    "    \n",
    "    soup = BeautifulSoup(get_html(page_url), 'lxml')\n",
    "    article_divs = soup.find_all('article', class_ = 'pp-review-i')\n",
    "    \n",
    "    comments = []\n",
    "    \n",
    "    for div in article_divs:\n",
    "        text = [text_div.text.strip().replace(u'\\xa0', ' ') \\\n",
    "                for text_div in div.find_all('div', class_ = 'pp-review-text-i')]\n",
    "    \n",
    "        replies = [rep_div.text.strip().replace(u'\\xa0', ' ') \\\n",
    "                   for rep_div in div.find_all('div', class_ = 'pp-replies-text')]\n",
    "    \n",
    "        up_count = div.find('a', class_ = 'pp-review-vote-positive').\\\n",
    "            find('span', class_ = 'pp-review-vote-count').text.strip()\n",
    "        \n",
    "        down_count = div.find('a', class_ = 'pp-review-vote-negative').\\\n",
    "            find('span', class_ = 'pp-review-vote-count').text.strip()\n",
    "    \n",
    "        comments.append(Comment(text, int(up_count) if up_count else 0, \\\n",
    "                                int(down_count) if down_count else 0, replies))\n",
    "    \n",
    "    page_items = soup.find_all('li', class_ = 'paginator-catalog-l-i')\n",
    "    \n",
    "    max_page_num = [int(item.get('id').replace('page', '').strip()) for item in page_items][-1]\n",
    "    \n",
    "    return CommentsPage(max_page_num, comments)"
   ]
  },
  {
   "cell_type": "code",
   "execution_count": 69,
   "metadata": {},
   "outputs": [
    {
     "data": {
      "text/plain": [
       "CommentsPage(max_page_num=10, comments=[Comment(text=['До какого числа будет идти акция на данную модель?'], up_count=0, down_count=0, replies=[]), Comment(text=['', 'Недостатки: Постоянно сбрасываются настройки, перестали работать настройки сети'], up_count=0, down_count=1, replies=[]), Comment(text=['Подскажите пожалуйста для Ps4 Pro подойдет не будет ли флагов??'], up_count=0, down_count=2, replies=[]), Comment(text=['Добрый вечер! Кто может подсказать как подключить акустику через блютуз на данной модели ??? Нигде не могу найти. Буду благодарен за помощь!'], up_count=1, down_count=1, replies=[]), Comment(text=['Розетка не дала гарантийный талон потом прислали но при обращении в сервисный центр сказали что эта партия в Украине не зарегистрирована', 'Достоинства: Хорошо работал', 'Недостатки: Но не долго ремонт очень дорого по гарантии не чинят'], up_count=1, down_count=1, replies=['Это кто сказал такое? В сервис самой Розетки обращались?']), Comment(text=['У мен перестали запускаться все приложения, что мне делать? Пробовал переустановку - не помогает, не может собединиться с сервером', 'Недостатки: Сырая прошивка'], up_count=0, down_count=1, replies=['Здравствуйте!\\nОбратитесь пожалуйста на бесплатную горячую линию по ТВ Philips: 0 800 500 480.', 'Выключение из розетки и сброс настроек помогли']), Comment(text=['Добрий день, чи можна до телевізора підключити ps4 pro? І грати в фіфу 19 в 4K?'], up_count=0, down_count=2, replies=[]), Comment(text=['Куплено в листопаді.', 'Достоинства: Дизайн норм, канали, вайфай, встановились практично без проблем, до картинки в цифровій якості особливих нарікань не має.. Ютуб , 4к тв з флешки працює на ура. Діван тв, теж гарно працює в ньому. Можна до гугла підключитись і дивитись фільми онлайн як по компі.', 'Недостатки: Пульт дійсно бідося. Повна симетрія і береш його не тією стороною, а ще він шумний і тугий, одним словом.. не айс. Футбол .. з артефактами, це взагалі не добре, перепробував всі налаштування щодо подавлення цих мінусів, і нічого не дало.. незнаю, хто можливо може підкажіть якщо це можна полікувати. Сам тв може деколи зависати, коли користуєшся смарт тв, не часто, не смертельно, але буває.'], up_count=0, down_count=1, replies=[]), Comment(text=['1. Пульт. ВСЕГДА берешь его вверх ногами, так у всех, у меня у жены, у гостей 2. Из смарт тв можно пользоваться только Youtube, ВСЕ остальное требует отдельной платы. 3. Воспроизведение с компа по сети настолько тугое, что бесит... 4. У видеоплеера нельзя перемотать быстро, только включить перемотку X32 и ждать. Я вспомнил свой видик на кассетах((( 5. Браузер не поддерживает Flash, музыку и видео (за очень редким исключением) включить не получится, полезность его = 0. Телевизор подойдет для просмотра каналов Youtube и с флешки. На большее не расчитывайте', 'Достоинства: Неплохое изображение', 'Недостатки: Пульт, СмартТВ, Браузер'], up_count=2, down_count=2, replies=['Пульт это да, симметрия одним словом. Вот по всему остальному не понятно, есть же Мегого, там есть бесплатный контент или вы хотели сразу чтобы все пиратские сервисы были в телевизоре. Перемотка 1, мда, в 21 веке не камильфо. Браузер с Флэшем, вы шутите, может покажите, где в ТВ есть Флеш, уже года как 4 свернули поддержку Флеша вообще везде. Ну да, каналы и Ютуб это основа.']), Comment(text=['благодаря простому, интуитивному интерфейсу быстро удалось все настроить, подключить к антене и вайфай, смарт тв и браузер работают нормально, скорость работы в пределах допустимого...', 'Достоинства: качество изображения, цена, простота', 'Недостатки: платформа смарт тв не андроид'], up_count=2, down_count=0, replies=[])])"
      ]
     },
     "execution_count": 69,
     "metadata": {},
     "output_type": "execute_result"
    }
   ],
   "source": [
    "get_comments(item_url, 0)"
   ]
  },
  {
   "cell_type": "code",
   "execution_count": 70,
   "metadata": {},
   "outputs": [
    {
     "data": {
      "text/plain": [
       "CommentsPage(max_page_num=10, comments=[Comment(text=['Добрий день. Чи встановлюється на цей телевізор Oll.TV і Megogo?'], up_count=0, down_count=1, replies=['Добрий день!\\nДані сервіси передвстановлені у всіх смарт-телевізорах Philips.']), Comment(text=['А какая оперативка и жёсткий?'], up_count=2, down_count=2, replies=[]), Comment(text=['Поддерживает ли этот тв голосовое управление (поиск)? Если да, то какой пульт подойдёт?'], up_count=0, down_count=1, replies=['Здравствуйте, Максим! Данная модель телевизора на имеет функции голосового поиска.']), Comment(text=['Софи сырая плотформа глючит постоянно', 'Достоинства: Екран', 'Недостатки: Софи'], up_count=0, down_count=2, replies=['Евгений, здравствуйте!\\nВозможно вы поделитесь информацией о ваших проблемах с данным ТВ?', 'Заказал две недели назад. Сейчас уже вернул ьы и поменял на Самсунг. Странная картинка в динамике при просмотре того же футбола на Megogo или OLLtv. Еще очень глючит в этих приложениях, постоянно что-то не так происходит, то при перемотке записанной программы он на следующую переключает, то зависает, если активно перематывать. Приложения сами по себе нормальные, так как есть Самсунг в спальне и там этих проблем нет. Еще момент при просмотре видео с флешки очень скудный фунционал при перемотке - нет такого чтоб перемотать на 1 час вперед, просто есть ускоренное воспроизведение 2х 8х и тд. Очень недоволен покупкой, пожелания к компании Philips - давайте уже сделайте обновления', 'У меня все четко, вообще ничего не беспокоит, правда, пользуюсь только Мегого. Приложение работает нормально, но судя по всему это приложение оно разное для разных брендов. На втором ТВ, не буду писать какой марки, был период, что вообще работало жесть, при этом на Филипсе все работало как нужно -и это в одном доме в одной сетке. Это потом меня просветили на службе поддержки, что приложения у всех разные и нужно ждать обновление от сервиса для конкретного бренда, т.е. не всегда ваш тв является причиной проблемы.']), Comment(text=['Кто знает!? Видит ли этот ТВ HDD на 2ТБ и флешку на 128Гб (ExFat)???) Спасибо!)'], up_count=1, down_count=0, replies=['Видит флешку на 128Гб в (NTFS)']), Comment(text=['Скажите пожалуйста, как можно оформить рассрочку на этот телевизор?'], up_count=3, down_count=0, replies=[]), Comment(text=['можно смотреть видео с разных сайтов', 'Достоинства: работает', 'Недостатки: не обнаружил'], up_count=1, down_count=5, replies=['Какой полезный отзыв (нет)']), Comment(text=['Какая матрица, IPS?'], up_count=2, down_count=0, replies=[]), Comment(text=['Какой кранштейн подойдёт лучше всего к данной модели телевизора ?'], up_count=0, down_count=0, replies=['Здравствуйте, Dima Yakovlev! Предлагаем Вам перейти в раздел \"Покупают вместе\". Там предоставлены варианты, которые отлично подходят к данному телевизору.', 'Vogels W50070 Идеальный!)))']), Comment(text=['Скажите, сколько в телевизоре оперативной памяти?'], up_count=1, down_count=0, replies=[])])"
      ]
     },
     "execution_count": 70,
     "metadata": {},
     "output_type": "execute_result"
    }
   ],
   "source": [
    "get_comments(item_url, 1)"
   ]
  }
 ],
 "metadata": {
  "kernelspec": {
   "display_name": "Python 3",
   "language": "python",
   "name": "python3"
  },
  "language_info": {
   "codemirror_mode": {
    "name": "ipython",
    "version": 3
   },
   "file_extension": ".py",
   "mimetype": "text/x-python",
   "name": "python",
   "nbconvert_exporter": "python",
   "pygments_lexer": "ipython3",
   "version": "3.7.2"
  }
 },
 "nbformat": 4,
 "nbformat_minor": 2
}
