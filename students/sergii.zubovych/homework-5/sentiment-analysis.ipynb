{
 "cells": [
  {
   "cell_type": "code",
   "execution_count": 1,
   "metadata": {},
   "outputs": [],
   "source": [
    "from bs4 import BeautifulSoup\n",
    "import requests\n",
    "import re\n",
    "import json"
   ]
  },
  {
   "cell_type": "code",
   "execution_count": 2,
   "metadata": {},
   "outputs": [],
   "source": [
    "def get_html(url):\n",
    "    response = requests.get(url)\n",
    "    return response.text"
   ]
  },
  {
   "cell_type": "code",
   "execution_count": 3,
   "metadata": {},
   "outputs": [],
   "source": [
    "tvs_url = 'https://rozetka.com.ua/all-tv/c80037/'"
   ]
  },
  {
   "cell_type": "code",
   "execution_count": 4,
   "metadata": {},
   "outputs": [
    {
     "data": {
      "text/plain": [
       "'all-tv_c80037'"
      ]
     },
     "execution_count": 4,
     "metadata": {},
     "output_type": "execute_result"
    }
   ],
   "source": [
    "from urllib.parse import urlparse\n",
    "\n",
    "def entity_name(url):\n",
    "    return urlparse(url).path[1:-1].replace('/','_')\n",
    "\n",
    "entity_name(tvs_url)"
   ]
  },
  {
   "cell_type": "code",
   "execution_count": 144,
   "metadata": {},
   "outputs": [],
   "source": [
    "from collections import namedtuple\n",
    "\n",
    "CatalogPage = namedtuple('CatalogPage', 'max_page_num items')\n",
    "\n",
    "def get_items_page(catalog_url, page_num, log = None):\n",
    "    page_url = catalog_url if page_num == 0 else catalog_url + 'page={}/'.format(page_num + 1)\n",
    "    \n",
    "    soup = BeautifulSoup(get_html(page_url), 'lxml')\n",
    "    \n",
    "    title_divs = soup.find_all('div', class_ = 'g-i-tile-i-title clearfix') \n",
    "\n",
    "    titles = []\n",
    "    for div in title_divs:\n",
    "        a = div.find('a')\n",
    "        titles.append((a.get(\"href\"), a.text.strip()))\n",
    "        \n",
    "    page_items = soup.find_all('li', class_ = 'paginator-catalog-l-i pos-fix')\n",
    "\n",
    "    max_page_num = [int(item.get('id').replace('page', '').strip()) for item in page_items][-1] \n",
    "    \n",
    "    if not (log is None):\n",
    "        print('{} {}'.format(catalog_url, page_num), file = log, end = \"\\n\")\n",
    "        log.flush()\n",
    "    \n",
    "    return CatalogPage(max_page_num, titles)"
   ]
  },
  {
   "cell_type": "code",
   "execution_count": 6,
   "metadata": {},
   "outputs": [],
   "source": [
    "item_url = 'https://rozetka.com.ua/philips_43pus6503_12/p39097504/'"
   ]
  },
  {
   "cell_type": "code",
   "execution_count": 7,
   "metadata": {},
   "outputs": [
    {
     "data": {
      "text/plain": [
       "'philips_43pus6503_12_p39097504'"
      ]
     },
     "execution_count": 7,
     "metadata": {},
     "output_type": "execute_result"
    }
   ],
   "source": [
    "entity_name(item_url)"
   ]
  },
  {
   "cell_type": "code",
   "execution_count": 148,
   "metadata": {},
   "outputs": [],
   "source": [
    "import time\n",
    "import json\n",
    "\n",
    "def scrape_catalog(catalog_url, data_path):\n",
    "    pages = []\n",
    "    \n",
    "    with open(data_path + entity_name(catalog_url) + '.log', 'a') as log:\n",
    "    \n",
    "        pages.append(get_items_page(catalog_url, 0, log)) \n",
    "        max_page_num = pages[-1].max_page_num\n",
    "    \n",
    "        page_num = 1\n",
    "        while page_num < max_page_num:\n",
    "            time.sleep(3)\n",
    "            pages.append(get_items_page(catalog_url, page_num, log))\n",
    "            page_num += 1\n",
    "        \n",
    "    with open(data_path + entity_name(catalog_url) + '.jsonl', 'w') as result:\n",
    "        json.dump(pages, result)"
   ]
  },
  {
   "cell_type": "code",
   "execution_count": 15,
   "metadata": {},
   "outputs": [
    {
     "name": "stdout",
     "output_type": "stream",
     "text": [
      "https://rozetka.com.ua/all-tv/c80037/ 0\n",
      "https://rozetka.com.ua/all-tv/c80037/ 1\n",
      "https://rozetka.com.ua/all-tv/c80037/ 2\n",
      "https://rozetka.com.ua/all-tv/c80037/ 3\n",
      "https://rozetka.com.ua/all-tv/c80037/ 4\n",
      "https://rozetka.com.ua/all-tv/c80037/ 5\n",
      "https://rozetka.com.ua/all-tv/c80037/ 6\n",
      "https://rozetka.com.ua/all-tv/c80037/ 7\n",
      "https://rozetka.com.ua/all-tv/c80037/ 8\n",
      "https://rozetka.com.ua/all-tv/c80037/ 9\n",
      "https://rozetka.com.ua/all-tv/c80037/ 10\n",
      "https://rozetka.com.ua/all-tv/c80037/ 11\n",
      "https://rozetka.com.ua/all-tv/c80037/ 12\n",
      "https://rozetka.com.ua/all-tv/c80037/ 13\n",
      "https://rozetka.com.ua/all-tv/c80037/ 14\n",
      "https://rozetka.com.ua/all-tv/c80037/ 15\n",
      "https://rozetka.com.ua/all-tv/c80037/ 16\n",
      "https://rozetka.com.ua/all-tv/c80037/ 17\n",
      "https://rozetka.com.ua/all-tv/c80037/ 18\n",
      "https://rozetka.com.ua/all-tv/c80037/ 19\n",
      "https://rozetka.com.ua/all-tv/c80037/ 20\n",
      "https://rozetka.com.ua/all-tv/c80037/ 21\n",
      "https://rozetka.com.ua/all-tv/c80037/ 22\n",
      "https://rozetka.com.ua/all-tv/c80037/ 23\n"
     ]
    }
   ],
   "source": [
    "#scrape_catalog(tvs_url, 'data/')"
   ]
  },
  {
   "cell_type": "code",
   "execution_count": 68,
   "metadata": {},
   "outputs": [
    {
     "data": {
      "text/plain": [
       "[['https://rozetka.com.ua/lg_43uk6200plb1/p61571186/',\n",
       "  'Телевизор LG 43UK6200PLA Оплата частями 24 мес.!'],\n",
       " ['https://rozetka.com.ua/hisense_h43a6100_/p40090880/',\n",
       "  'Телевизор Hisense H43A6100 Smart TV, 4K, 43\"'],\n",
       " ['https://rozetka.com.ua/samsung_ue58nu7100uxua/p54812544/',\n",
       "  'Телевизор Samsung UE58NU7100UXUA или Оплата частями на 24 мес.!'],\n",
       " ['https://rozetka.com.ua/samsung_ue49n5500auxua/p46780456/',\n",
       "  'Телевизор Samsung UE49N5500AUXUA Оплата частями на 12 мес.!'],\n",
       " ['https://rozetka.com.ua/philips_50pfs5823_12/p52131804/',\n",
       "  'Телевизор Philips 50PFS5823/12 + 0% Кредит на 10 мес!'],\n",
       " ['https://rozetka.com.ua/samsung_qe49q6fnauxua/p46776608/',\n",
       "  'Телевизор Samsung QE49Q6FNAUXUA Оплата частями на 24 мес.!'],\n",
       " ['https://rozetka.com.ua/ergo_le40ct5530ak/p62757784/',\n",
       "  'Телевизор Ergo LE40CT5530AK + Оплата частями на 10 платежей!'],\n",
       " ['https://rozetka.com.ua/panasonic_tx_32dr400/p12689378/',\n",
       "  'Телевизор Panasonic Viera TX-32DR400 32\", HD, T2 Оплата частями на 12 мес. или Сертификат на 500грн. в подарок!'],\n",
       " ['https://rozetka.com.ua/samsung_ue43nu7120uxua/p59718461/',\n",
       "  'Телевизор Samsung UE43NU7120UXUA'],\n",
       " ['https://rozetka.com.ua/tcl_55dp600/p58499974/',\n",
       "  'Телевизор TCL 4K HDR Smart 55DP600 + Кредит 0% на 10 мес!']]"
      ]
     },
     "execution_count": 68,
     "metadata": {},
     "output_type": "execute_result"
    }
   ],
   "source": [
    "catalog = []\n",
    "with open('data/' + entity_name(tvs_url) + '.jsonl') as f_cat:\n",
    "    catalog = [item for page in json.load(f_cat) for item in page[1]]\n",
    "\n",
    "catalog[:10]"
   ]
  },
  {
   "cell_type": "code",
   "execution_count": 20,
   "metadata": {},
   "outputs": [
    {
     "data": {
      "text/plain": [
       "758"
      ]
     },
     "execution_count": 20,
     "metadata": {},
     "output_type": "execute_result"
    }
   ],
   "source": [
    "len(catalog)"
   ]
  },
  {
   "cell_type": "code",
   "execution_count": 59,
   "metadata": {},
   "outputs": [],
   "source": [
    "import re\n",
    "\n",
    "Comment = namedtuple('Comment', 'text stars replies')\n",
    "\n",
    "\n",
    "CommentsPage = namedtuple('CommentsPage', 'max_page_num comments')\n",
    "\n",
    "def get_comments_page(item_url, page_num, log = None):\n",
    "    comments_url = item_url + 'comments/'\n",
    "    page_url = comments_url if page_num == 0 else comments_url + 'page={}/'.format(page_num + 1)\n",
    "    \n",
    "    soup = BeautifulSoup(get_html(page_url), 'lxml')\n",
    "    article_divs = soup.find_all('pp-product-comment')\n",
    "    \n",
    "    comments = []\n",
    "    \n",
    "    for div in article_divs:\n",
    "        text = [text_div.text.strip().replace(u'\\xa0', ' ') \\\n",
    "                for text_div in div.find_all('div', class_ = re.compile('pp-review-text-i.*'))]\n",
    "    \n",
    "        replies = [rep_div.text.strip().replace(u'\\xa0', ' ') \\\n",
    "                   for rep_div in div.find_all('div', class_ = re.compile('pp-replies-text.*'))]\n",
    "        \n",
    "        ratingMeta = div.find('meta', { 'itemprop' :'ratingValue'} )\n",
    "        stars = 0\n",
    "        if ratingMeta:\n",
    "            stars = int(ratingMeta.get('content').strip())\n",
    "    \n",
    "        comments.append(Comment(text, stars, replies))\n",
    "    \n",
    "    page_items = soup.find_all('li', class_ = re.compile('paginator-l-i.*'))\n",
    "    \n",
    "    max_page_num = max([int(item.text.replace('...','0').strip()) for item in page_items]) if page_items else 1\n",
    "    \n",
    "    if not (log is None):\n",
    "        print('{} {}'.format(item_url, page_num), file = log, end = \"\\n\")\n",
    "        log.flush()\n",
    "    \n",
    "    return CommentsPage(max_page_num, comments)"
   ]
  },
  {
   "cell_type": "code",
   "execution_count": 88,
   "metadata": {},
   "outputs": [],
   "source": [
    "def last_item_url(log_name):\n",
    "    with open(log_name, 'r') as catalog_log:\n",
    "        last_uncompleted = ''\n",
    "        for entry in catalog_log:\n",
    "            if entry.startswith('Start'):\n",
    "                last_uncompleted = entry.split('-')[1]\n",
    "\n",
    "        return last_uncompleted.strip()        \n",
    "    \n",
    "def scrape_comments(catalog_url, catalog, data_path):\n",
    "    log_name = data_path + entity_name(catalog_url) + '-comments.log'\n",
    "    with open(log_name, 'a') as catalog_log:\n",
    "        last_url = last_item_url(log_name)\n",
    "        print(\"Continue - {}\".format(last_url))\n",
    "        start_index = list(map(lambda i: i[0], catalog)).index(last_url) if last_url else 0\n",
    "        for item in catalog[start_index:]:\n",
    "            item_url = item[0]\n",
    "            print(\"Start - {}\".format(item_url), file = catalog_log, end = '\\n')\n",
    "            catalog_log.flush()\n",
    "            with open(data_path + entity_name(item_url) + '-comments.log', 'a') as log:\n",
    "                pages = []\n",
    "                pages.append(get_comments_page(item_url, 0, log))\n",
    "                max_page_num = pages[-1].max_page_num\n",
    "                page_num = 1\n",
    "                while page_num < max_page_num:\n",
    "                    time.sleep(3)\n",
    "                    pages.append(get_comments_page(item_url, page_num, log))\n",
    "                    page_num += 1\n",
    "\n",
    "                with open(data_path + entity_name(item_url) + '-comments.jsonl', 'w') as result:\n",
    "                    json.dump(pages, result)\n",
    "                    \n",
    "            print(\"Complete - {}\".format(item_url), file = catalog_log, end = '\\n')\n",
    "            catalog_log.flush()\n"
   ]
  },
  {
   "cell_type": "code",
   "execution_count": 90,
   "metadata": {},
   "outputs": [
    {
     "name": "stdout",
     "output_type": "stream",
     "text": [
      "Continue - https://rozetka.com.ua/toshiba_32s2850ev/p64695862/\n"
     ]
    }
   ],
   "source": [
    "scrape_comments(tvs_url, catalog, 'data/')"
   ]
  },
  {
   "cell_type": "code",
   "execution_count": 99,
   "metadata": {},
   "outputs": [
    {
     "name": "stdout",
     "output_type": "stream",
     "text": [
      "-rw-r--r--  1 serg  staff   746K Apr 23 12:01 data/xiaomi_l32m5_al_p63291772-comments.jsonl\r\n",
      "-rw-r--r--  1 serg  staff   650K Apr 23 00:41 data/panasonic_tx_32dr400_p12689378-comments.jsonl\r\n",
      "-rw-r--r--  1 serg  staff   621K Apr 23 00:36 data/hisense_h43a6100__p40090880-comments.jsonl\r\n",
      "-rw-r--r--  1 serg  staff   596K Apr 23 01:13 data/tcl_43dp600_p58499962-comments.jsonl\r\n",
      "-rw-r--r--  1 serg  staff   577K Apr 23 01:11 data/samsung_ue32m5500auxua_p17170562-comments.jsonl\r\n",
      "-rw-r--r--  1 serg  staff   543K Apr 23 11:14 data/samsung_ue_22h5600_p699334-comments.jsonl\r\n",
      "-rw-r--r--  1 serg  staff   492K Apr 23 11:31 data/sony_kdl40rd453br_p9252786-comments.jsonl\r\n",
      "-rw-r--r--  1 serg  staff   428K Apr 23 10:45 data/ergo_le32ct5025ak_p56799339-comments.jsonl\r\n",
      "-rw-r--r--  1 serg  staff   406K Apr 23 10:24 data/philips_32pfs4132_12_p17969604-comments.jsonl\r\n",
      "-rw-r--r--  1 serg  staff   400K Apr 23 01:08 data/kivi_43up50gu_p53672628-comments.jsonl\r\n"
     ]
    }
   ],
   "source": [
    "!ls -Slh data/*-comments.jsonl | head -n 10"
   ]
  },
  {
   "cell_type": "code",
   "execution_count": 100,
   "metadata": {},
   "outputs": [
    {
     "name": "stdout",
     "output_type": "stream",
     "text": [
      "     758\r\n"
     ]
    }
   ],
   "source": [
    "!ls data/*-comments.jsonl | wc -l"
   ]
  },
  {
   "cell_type": "code",
   "execution_count": 122,
   "metadata": {},
   "outputs": [],
   "source": [
    "import glob\n",
    "\n",
    "def load_comments(data_dir):\n",
    "    files = glob.glob(\"{}/*-comments.jsonl\".format(data_dir))\n",
    "    comments = []\n",
    "    for file in files:\n",
    "        with open(file) as f:\n",
    "            comments.extend([Comment(comment[0], comment[1], comment[2]) for page in json.load(f) \\\n",
    "                             for comment in page[1]])\n",
    "    return comments    "
   ]
  },
  {
   "cell_type": "code",
   "execution_count": 123,
   "metadata": {},
   "outputs": [
    {
     "data": {
      "text/plain": [
       "21425"
      ]
     },
     "execution_count": 123,
     "metadata": {},
     "output_type": "execute_result"
    }
   ],
   "source": [
    "comments = load_comments('data')\n",
    "len(comments)"
   ]
  },
  {
   "cell_type": "code",
   "execution_count": 125,
   "metadata": {},
   "outputs": [
    {
     "data": {
      "text/plain": [
       "[Comment(text=['Мой первый телевизор со смарт ТВ , даже не смотрел в сторону Самсунгов Лыж и тд.Качество картинки это что-то .Покупал в другой сети с подпиской Мегого максимальный на год . Нету времени перечислять плюсы этой модели и производителя . Берите ,не разочарует .Встроенных динамиков на 20 Вт вполне хватает ,немного неудобно расположены кнопки на пульте.Вай фай по воздуху , все работает как часы.В характеристиках указано 16 гиг ,в параметрах самого телевизора 8 ,но этого вполне достаточно тоже', 'Достоинства:Андроид ,Сони , Картинка ,Звук , и еще много чего', 'Недостатки:Единственное - кнопки пульта расположены неудобно'], stars=5, replies=['То что вы не смотрели в сторону других производителей не означает что их продукция хуже))) У меня к примеру LG 2017 года и я следуя вашим словам не смотрю в сторону Sony не потому что пренебрегаю их продукцией а потому что меня всё устраивает в моём телевизоре.', 'Не смотрел ,так как вся продукция сделана в России', 'А еще другие бренды стали скрывать что их продукция сделана в россии, поэтому тоже планирую остановиться на  Sony.']),\n",
       " Comment(text=['Купил себе эту модель из того что мне нужны были именно вот такие параметры \\n4K+HDR\\nAndroidTV кстати кто не знаком то это самая богатая платформа на разнообразный контент и т.д среди своих конкурентов\\nВообщем могу сказать она того стоит', 'Достоинства:я очень доволен выбирал его долго и в разных магазинах', 'Недостатки:Из недостатков можно сказать это маленький процент полностью без платного контента который установлен уже с завода, а все остальное очень радует глаз и самое главное это выбирать сервисы с умом и не покупать все что есть в play Маркет'], stars=5, replies=[]),\n",
       " Comment(text=['телевізор чудовий  але є запитання до спеціалістів магазину .нам невдається налаштувати т2 \\nчерез наш тюнер працює а через вмонтований-ні\\nу знайомих таж проблема.чому вмонтований тюнер не працює.і супутник не бачить.,?', 'Недостатки:не працює вмонтований т2.не можна налаштувати супутникову антену до нього'], stars=5, replies=[]),\n",
       " Comment(text=['купили неделю назад,очень понравился,хорошее изображение,но почему то не видит спутниковую антену', 'Достоинства:хорошее изображение', 'Недостатки:не видит спутниковую антену'], stars=4, replies=[]),\n",
       " Comment(text=['Пользуюсь данным девайсом уже 9 мес. Покупал не здесь.Отличный телевизор. Качество изображения очень высокое. Все приложения встали без проблем. Единственный минус не смог подключить к нему блютуз наушники, хотя в этом телевизоре он есть. Похоже, что в этой модели блютуз только для пульта. Может я не разобрался, подскажите кто сталкивался с такой проблемой.', 'Достоинства:Отличная картинка, смарт работает шустро и без тормозов.', 'Недостатки:Не смог подключить блютуз наушники'], stars=5, replies=['Все дешовые модели и 2019г в том числе не имеют профиля A2DP - поэтому Ваши \"уши\" и не раб) с ПДУ та же песня!) Вот к примеру только премиум модели имеют поддержку нового кодека DOLBY AC-4!)'])]"
      ]
     },
     "execution_count": 125,
     "metadata": {},
     "output_type": "execute_result"
    }
   ],
   "source": [
    "comments[:5]"
   ]
  },
  {
   "cell_type": "code",
   "execution_count": 130,
   "metadata": {},
   "outputs": [
    {
     "data": {
      "text/plain": [
       "'uk'"
      ]
     },
     "execution_count": 130,
     "metadata": {},
     "output_type": "execute_result"
    }
   ],
   "source": [
    "detect('Добрий день любі друзі.')"
   ]
  },
  {
   "cell_type": "code",
   "execution_count": null,
   "metadata": {},
   "outputs": [],
   "source": [
    "import langdetect as ld\n",
    "import numpy as np\n",
    "\n",
    "langs = []\n",
    "contents = []\n",
    "for r in warc.records[1:]:\n",
    "    content = bytes(r.content_block).decode('utf-8')\n",
    "    contents.append(content)\n",
    "    if content:\n",
    "        try:\n",
    "            langs.append(ld.detect(content[:256]))\n",
    "        except ld.detector.LangDetectException as e:\n",
    "            langs.append(np.NaN)"
   ]
  },
  {
   "cell_type": "code",
   "execution_count": 135,
   "metadata": {},
   "outputs": [],
   "source": [
    "from langdetect import detect\n",
    "\n",
    "ua_comments = []\n",
    "\n",
    "for comment in comments:\n",
    "    try:\n",
    "        if comment.text and detect(comment.text[0]) == 'uk':\n",
    "            ua_comments.append(comment)\n",
    "    except langdetect.detector.LangDetectException as e: \n",
    "        continue"
   ]
  },
  {
   "cell_type": "code",
   "execution_count": 136,
   "metadata": {},
   "outputs": [
    {
     "data": {
      "text/plain": [
       "4254"
      ]
     },
     "execution_count": 136,
     "metadata": {},
     "output_type": "execute_result"
    }
   ],
   "source": [
    "len(ua_comments)"
   ]
  },
  {
   "cell_type": "code",
   "execution_count": 137,
   "metadata": {},
   "outputs": [
    {
     "data": {
      "text/plain": [
       "[Comment(text=['телевізор чудовий  але є запитання до спеціалістів магазину .нам невдається налаштувати т2 \\nчерез наш тюнер працює а через вмонтований-ні\\nу знайомих таж проблема.чому вмонтований тюнер не працює.і супутник не бачить.,?', 'Недостатки:не працює вмонтований т2.не можна налаштувати супутникову антену до нього'], stars=5, replies=[]),\n",
       " Comment(text=['Яка відстань між ніжками ?'], stars=4, replies=[]),\n",
       " Comment(text=['Достоинства:Прекрасний телевізор', 'Недостатки:немає'], stars=5, replies=[]),\n",
       " Comment(text=['Чи можливо до нього підключити bluetooth-наушники?'], stars=0, replies=[]),\n",
       " Comment(text=['Я надіюсь він ще буде в наявності?'], stars=0, replies=['Нажмите на конверт \" Сообщите, когда появиться\". Как появиться, то на почту упадет оповещение', 'Я знаю об этом. Мне интересно стоит ли вообще ждать его появления.'])]"
      ]
     },
     "execution_count": 137,
     "metadata": {},
     "output_type": "execute_result"
    }
   ],
   "source": [
    "ua_comments[:5]"
   ]
  },
  {
   "cell_type": "code",
   "execution_count": 138,
   "metadata": {},
   "outputs": [],
   "source": [
    "import pandas as pd\n",
    "ua_comments_df = pd.DataFrame(ua_comments)"
   ]
  },
  {
   "cell_type": "code",
   "execution_count": 142,
   "metadata": {},
   "outputs": [
    {
     "data": {
      "text/plain": [
       "text       2016\n",
       "stars      2016\n",
       "replies    2016\n",
       "dtype: int64"
      ]
     },
     "execution_count": 142,
     "metadata": {},
     "output_type": "execute_result"
    }
   ],
   "source": [
    "ua_comments_df[ua_comments_df['stars'] > 0].count()"
   ]
  },
  {
   "cell_type": "code",
   "execution_count": 149,
   "metadata": {},
   "outputs": [],
   "source": [
    "scrape_catalog('https://rozetka.com.ua/tablets/c130309/filter/', 'tablets/')"
   ]
  },
  {
   "cell_type": "code",
   "execution_count": 151,
   "metadata": {},
   "outputs": [
    {
     "data": {
      "text/plain": [
       "[['https://rozetka.com.ua/prestigio_pmt3771_3g_d/p70759382/',\n",
       "  'Планшет Prestigio Wize PMT3771 3G 16GB Black (PMT3771_3G_D)'],\n",
       " ['https://rozetka.com.ua/cube_u65gt_16_/p62993957/',\n",
       "  'Планшет Cube Talk9X (U65GT_16)'],\n",
       " ['https://rozetka.com.ua/samsung-tab-e-96-3g/g8670696/',\n",
       "  'Планшет Samsung Galaxy Tab E 9.6\" 3G Black (SM-T561NZKASEK) + карта памяти Samsung 64GB в подарок!'],\n",
       " ['https://rozetka.com.ua/lenovo_tab_e7_za400002ua/p57236391/',\n",
       "  'Планшет Lenovo Tab E7 TB-7104F Wi-Fi 1/8GB Slate Black (ZA400002UA)'],\n",
       " ['https://rozetka.com.ua/lenovo_za480031ua/p73233039/',\n",
       "  'Планшет Lenovo Tab M10 WiFi 3/32GB Slate Black (ZA480031UA)'],\n",
       " ['https://rozetka.com.ua/huawei_mediapad_t3_10_grey/p47731582/',\n",
       "  'Планшет Huawei MediaPad T3 10 WiFi Grey'],\n",
       " ['https://rozetka.com.ua/samsung_sm_t580nzkasek/p9788307/',\n",
       "  'Планшет Samsung Galaxy Tab A 10.1\" Black (SM-T580NZKASEK) + карта памяти Samsung 64GB в подарок!'],\n",
       " ['https://rozetka.com.ua/asus-zenpad-10-2-32gb/g7572119/',\n",
       "  'Планшет Asus ZenPad 10 2/32GB Wi-Fi Dark Grey (Z301M-1H033A)'],\n",
       " ['https://rozetka.com.ua/lenovo-tab-4-10-lte-16gb/g2664467/',\n",
       "  'Планшет Lenovo Tab 4 10 LTE 16GB Slate Black (ZA2K0054UA)'],\n",
       " ['https://rozetka.com.ua/samsung-galaxy-tab-a-10.1-lte/g5796807/',\n",
       "  'Планшет Samsung Galaxy Tab A 10.1\" LTE Black (SM-T585NZKASEK) + карта памяти Samsung 64GB в подарок!']]"
      ]
     },
     "execution_count": 151,
     "metadata": {},
     "output_type": "execute_result"
    }
   ],
   "source": [
    "tablets_catalog = []\n",
    "with open('tablets/' + entity_name('https://rozetka.com.ua/tablets/c130309/filter/') + '.jsonl') as f_cat:\n",
    "    tablets_catalog = [item for page in json.load(f_cat) for item in page[1]]\n",
    "\n",
    "tablets_catalog[:10]"
   ]
  },
  {
   "cell_type": "code",
   "execution_count": 153,
   "metadata": {},
   "outputs": [
    {
     "name": "stdout",
     "output_type": "stream",
     "text": [
      "Continue - \n"
     ]
    }
   ],
   "source": [
    "scrape_comments('https://rozetka.com.ua/tablets/c130309/filter/', tablets_catalog, 'tablets/')"
   ]
  },
  {
   "cell_type": "code",
   "execution_count": null,
   "metadata": {},
   "outputs": [],
   "source": []
  }
 ],
 "metadata": {
  "kernelspec": {
   "display_name": "Python 3",
   "language": "python",
   "name": "python3"
  },
  "language_info": {
   "codemirror_mode": {
    "name": "ipython",
    "version": 3
   },
   "file_extension": ".py",
   "mimetype": "text/x-python",
   "name": "python",
   "nbconvert_exporter": "python",
   "pygments_lexer": "ipython3",
   "version": "3.7.2"
  }
 },
 "nbformat": 4,
 "nbformat_minor": 2
}
