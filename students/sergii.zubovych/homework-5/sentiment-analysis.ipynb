{
 "cells": [
  {
   "cell_type": "code",
   "execution_count": 2,
   "metadata": {},
   "outputs": [],
   "source": [
    "from bs4 import BeautifulSoup\n",
    "import requests\n",
    "import re\n",
    "import json"
   ]
  },
  {
   "cell_type": "code",
   "execution_count": 3,
   "metadata": {},
   "outputs": [],
   "source": [
    "def get_html(url):\n",
    "    response = requests.get(url)\n",
    "    return response.text"
   ]
  },
  {
   "cell_type": "code",
   "execution_count": 4,
   "metadata": {},
   "outputs": [],
   "source": [
    "tvs_url = 'https://rozetka.com.ua/all-tv/c80037/'"
   ]
  },
  {
   "cell_type": "code",
   "execution_count": 5,
   "metadata": {},
   "outputs": [
    {
     "data": {
      "text/plain": [
       "'all-tv_c80037'"
      ]
     },
     "execution_count": 5,
     "metadata": {},
     "output_type": "execute_result"
    }
   ],
   "source": [
    "from urllib.parse import urlparse\n",
    "\n",
    "def entity_name(url):\n",
    "    return urlparse(url).path[1:-1].replace('/','_')\n",
    "\n",
    "entity_name(tvs_url)"
   ]
  },
  {
   "cell_type": "code",
   "execution_count": 6,
   "metadata": {},
   "outputs": [],
   "source": [
    "from collections import namedtuple\n",
    "\n",
    "CatalogPage = namedtuple('CatalogPage', 'max_page_num items')\n",
    "\n",
    "def get_items_page(catalog_url, page_num, log = None):\n",
    "    page_url = catalog_url if page_num == 0 else catalog_url + 'page={}/'.format(page_num + 1)\n",
    "    \n",
    "    soup = BeautifulSoup(get_html(page_url), 'lxml')\n",
    "    \n",
    "    title_divs = soup.find_all('div', class_ = 'g-i-tile-i-title clearfix') \n",
    "\n",
    "    titles = []\n",
    "    for div in title_divs:\n",
    "        a = div.find('a')\n",
    "        titles.append((a.get(\"href\"), a.text.strip()))\n",
    "        \n",
    "    page_items = soup.find_all('li', class_ = 'paginator-catalog-l-i pos-fix')\n",
    "\n",
    "    max_page_num = [int(item.get('id').replace('page', '').strip()) for item in page_items][-1] \n",
    "    \n",
    "    if not (log is None):\n",
    "        print('{} {}'.format(catalog_url, page_num), file = log, end = \"\\n\")\n",
    "    \n",
    "    return CatalogPage(max_page_num, titles)"
   ]
  },
  {
   "cell_type": "code",
   "execution_count": 7,
   "metadata": {},
   "outputs": [],
   "source": [
    "item_url = 'https://rozetka.com.ua/philips_43pus6503_12/p39097504/'"
   ]
  },
  {
   "cell_type": "code",
   "execution_count": 8,
   "metadata": {},
   "outputs": [
    {
     "data": {
      "text/plain": [
       "'philips_43pus6503_12_p39097504'"
      ]
     },
     "execution_count": 8,
     "metadata": {},
     "output_type": "execute_result"
    }
   ],
   "source": [
    "entity_name(item_url)"
   ]
  },
  {
   "cell_type": "code",
   "execution_count": 36,
   "metadata": {},
   "outputs": [],
   "source": [
    "import re\n",
    "\n",
    "Comment = namedtuple('Comment', 'text starts replies')\n",
    "\n",
    "\n",
    "CommentsPage = namedtuple('CommentsPage', 'max_page_num comments')\n",
    "\n",
    "def get_comments_page(item_url, page_num, log = None):\n",
    "    comments_url = item_url + 'comments/'\n",
    "    page_url = comments_url if page_num == 0 else comments_url + 'page={}/'.format(page_num + 1)\n",
    "    \n",
    "    soup = BeautifulSoup(get_html(page_url), 'lxml')\n",
    "    article_divs = soup.find_all('pp-product-comment')\n",
    "    \n",
    "    comments = []\n",
    "    \n",
    "    for div in article_divs:\n",
    "        text = [text_div.text.strip().replace(u'\\xa0', ' ') \\\n",
    "                for text_div in div.find_all('div', class_ = re.compile('pp-review-text-i.*'))]\n",
    "    \n",
    "        replies = [rep_div.text.strip().replace(u'\\xa0', ' ') \\\n",
    "                   for rep_div in div.find_all('div', class_ = re.compile('pp-replies-text.*'))]\n",
    "    \n",
    "        comments.append(Comment(text, 0, replies))\n",
    "    \n",
    "    page_items = soup.find_all('li', class_ = re.compile('paginator-l-i.*'))\n",
    "    \n",
    "    max_page_num = max([int(item.text.replace('...','0').strip()) for item in page_items])\n",
    "    \n",
    "    if not (log is None):\n",
    "        print('{} {}'.format(item_url, page_num), file = log, end = \"\\n\")\n",
    "    \n",
    "    return CommentsPage(max_page_num, comments)"
   ]
  },
  {
   "cell_type": "code",
   "execution_count": null,
   "metadata": {},
   "outputs": [],
   "source": [
    "<div class=\"hidden ng-star-inserted\" itemprop=\"reviewRating\"\n",
    "itemscope=\"\" itemtype=\"http://schema.org/Rating\"><meta content=\"1\" itemprop=\"worstRating\"\n",
    "><meta content=\"5\" itemprop=\"bestRating\"><meta itemprop=\"ratingValue\" content=\"5\"></div>"
   ]
  },
  {
   "cell_type": "code",
   "execution_count": 10,
   "metadata": {},
   "outputs": [],
   "source": [
    "import time\n",
    "import json\n",
    "\n",
    "def scrape_catalog(catalog_url, data_path):\n",
    "    pages = []\n",
    "    \n",
    "    with open(data_path + entity_name(catalog_url) + '.log', 'a') as log:\n",
    "    \n",
    "        pages.append(get_items_page(catalog_url, 0, log)) \n",
    "        max_page_num = pages[-1].max_page_num\n",
    "    \n",
    "        page_num = 1\n",
    "        while page_num < max_page_num:\n",
    "            time.sleep(10)\n",
    "            pages.append(get_items_page(catalog_url, page_num, log))\n",
    "            page_num += 1\n",
    "        \n",
    "    with open(data_path + entity_name(catalog_url) + '.json', 'w') as result:\n",
    "        json.dump(pages, result)"
   ]
  },
  {
   "cell_type": "code",
   "execution_count": 15,
   "metadata": {},
   "outputs": [
    {
     "name": "stdout",
     "output_type": "stream",
     "text": [
      "https://rozetka.com.ua/all-tv/c80037/ 0\n",
      "https://rozetka.com.ua/all-tv/c80037/ 1\n",
      "https://rozetka.com.ua/all-tv/c80037/ 2\n",
      "https://rozetka.com.ua/all-tv/c80037/ 3\n",
      "https://rozetka.com.ua/all-tv/c80037/ 4\n",
      "https://rozetka.com.ua/all-tv/c80037/ 5\n",
      "https://rozetka.com.ua/all-tv/c80037/ 6\n",
      "https://rozetka.com.ua/all-tv/c80037/ 7\n",
      "https://rozetka.com.ua/all-tv/c80037/ 8\n",
      "https://rozetka.com.ua/all-tv/c80037/ 9\n",
      "https://rozetka.com.ua/all-tv/c80037/ 10\n",
      "https://rozetka.com.ua/all-tv/c80037/ 11\n",
      "https://rozetka.com.ua/all-tv/c80037/ 12\n",
      "https://rozetka.com.ua/all-tv/c80037/ 13\n",
      "https://rozetka.com.ua/all-tv/c80037/ 14\n",
      "https://rozetka.com.ua/all-tv/c80037/ 15\n",
      "https://rozetka.com.ua/all-tv/c80037/ 16\n",
      "https://rozetka.com.ua/all-tv/c80037/ 17\n",
      "https://rozetka.com.ua/all-tv/c80037/ 18\n",
      "https://rozetka.com.ua/all-tv/c80037/ 19\n",
      "https://rozetka.com.ua/all-tv/c80037/ 20\n",
      "https://rozetka.com.ua/all-tv/c80037/ 21\n",
      "https://rozetka.com.ua/all-tv/c80037/ 22\n",
      "https://rozetka.com.ua/all-tv/c80037/ 23\n"
     ]
    }
   ],
   "source": [
    "#scrape_catalog(tvs_url, 'data/')"
   ]
  },
  {
   "cell_type": "code",
   "execution_count": 11,
   "metadata": {},
   "outputs": [
    {
     "data": {
      "text/plain": [
       "[['https://rozetka.com.ua/lg_43uk6200plb1/p61571186/',\n",
       "  'Телевизор LG 43UK6200PLA Оплата частями 24 мес.!'],\n",
       " ['https://rozetka.com.ua/hisense_h43a6100_/p40090880/',\n",
       "  'Телевизор Hisense H43A6100 Smart TV, 4K, 43\"'],\n",
       " ['https://rozetka.com.ua/samsung_ue58nu7100uxua/p54812544/',\n",
       "  'Телевизор Samsung UE58NU7100UXUA или Оплата частями на 24 мес.!'],\n",
       " ['https://rozetka.com.ua/samsung_ue49n5500auxua/p46780456/',\n",
       "  'Телевизор Samsung UE49N5500AUXUA Оплата частями на 12 мес.!'],\n",
       " ['https://rozetka.com.ua/philips_50pfs5823_12/p52131804/',\n",
       "  'Телевизор Philips 50PFS5823/12 + 0% Кредит на 10 мес!'],\n",
       " ['https://rozetka.com.ua/samsung_qe49q6fnauxua/p46776608/',\n",
       "  'Телевизор Samsung QE49Q6FNAUXUA Оплата частями на 24 мес.!'],\n",
       " ['https://rozetka.com.ua/ergo_le40ct5530ak/p62757784/',\n",
       "  'Телевизор Ergo LE40CT5530AK + Оплата частями на 10 платежей!'],\n",
       " ['https://rozetka.com.ua/panasonic_tx_32dr400/p12689378/',\n",
       "  'Телевизор Panasonic Viera TX-32DR400 32\", HD, T2 Оплата частями на 12 мес. или Сертификат на 500грн. в подарок!'],\n",
       " ['https://rozetka.com.ua/samsung_ue43nu7120uxua/p59718461/',\n",
       "  'Телевизор Samsung UE43NU7120UXUA'],\n",
       " ['https://rozetka.com.ua/tcl_55dp600/p58499974/',\n",
       "  'Телевизор TCL 4K HDR Smart 55DP600 + Кредит 0% на 10 мес!']]"
      ]
     },
     "execution_count": 11,
     "metadata": {},
     "output_type": "execute_result"
    }
   ],
   "source": [
    "catalog = []\n",
    "with open('data/' + entity_name(tvs_url) + '.json') as f_cat:\n",
    "    catalog = [item for page in json.load(f_cat) for item in page[1]]\n",
    "\n",
    "catalog[:10]"
   ]
  },
  {
   "cell_type": "code",
   "execution_count": 20,
   "metadata": {},
   "outputs": [
    {
     "data": {
      "text/plain": [
       "758"
      ]
     },
     "execution_count": 20,
     "metadata": {},
     "output_type": "execute_result"
    }
   ],
   "source": [
    "len(catalog)"
   ]
  },
  {
   "cell_type": "code",
   "execution_count": 15,
   "metadata": {},
   "outputs": [],
   "source": [
    "soup = BeautifulSoup(get_html(catalog[0][0] + 'comments/'), 'lxml')"
   ]
  },
  {
   "cell_type": "code",
   "execution_count": 27,
   "metadata": {},
   "outputs": [
    {
     "data": {
      "text/plain": [
       "[<li class=\"paginator-l-i active ng-star-inserted\"><!-- --><span class=\"novisited paginator-l-link ng-star-inserted\">1</span><!-- --></li>,\n",
       " <li class=\"paginator-l-i ng-star-inserted\"><!-- --><a class=\"novisited paginator-l-link ng-star-inserted\" href=\"/lg_43uk6200plb1/p61571186/comments/page=2/\">2</a><!-- --></li>,\n",
       " <li class=\"paginator-l-i ng-star-inserted\"><!-- --><a class=\"novisited paginator-l-link ng-star-inserted\" href=\"/lg_43uk6200plb1/p61571186/comments/page=3/\">...</a><!-- --></li>,\n",
       " <li class=\"paginator-l-i ng-star-inserted\"><!-- --><a class=\"novisited paginator-l-link ng-star-inserted\" href=\"/lg_43uk6200plb1/p61571186/comments/page=10/\">10</a><!-- --></li>]"
      ]
     },
     "execution_count": 27,
     "metadata": {},
     "output_type": "execute_result"
    }
   ],
   "source": [
    "soup.find_all('article', class_ = r'detail-review-article.*')\n",
    "\n",
    "article_divs[0].find('div', class_ = 'pp-review-text').text\n",
    "soup.find_all('li', class_ = re.compile('paginator-l-i.*'))"
   ]
  },
  {
   "cell_type": "code",
   "execution_count": 26,
   "metadata": {},
   "outputs": [],
   "source": [
    "def scrape_comments(catalog, data_path):\n",
    "    for item in catalog:\n",
    "        item_url = item[0]\n",
    "        with open(data_path + entity_name(item_url) + '-comments.log', 'a') as log:\n",
    "            pages = []\n",
    "            pages.append(get_comments_page(item_url, 0, log))\n",
    "            max_page_num = pages[-1].max_page_num\n",
    "            page_num = 1\n",
    "            while page_num < max_page_num:\n",
    "                time.sleep(3)\n",
    "                pages.append(get_comments_page(item_url, page_num, log))\n",
    "                \n",
    "            with open(data_path + entity_name(item_url) + '-comments.json', 'w') as result:\n",
    "                json.dump(pages, result)    \n",
    "        "
   ]
  },
  {
   "cell_type": "code",
   "execution_count": 37,
   "metadata": {},
   "outputs": [
    {
     "data": {
      "text/plain": [
       "CommentsPage(max_page_num=10, comments=[Comment(text=['Дивимось 3 тижні. Без ейфорії і без шаленої радості ))) Просто нормальний телевізор зі своїми плюсами і мінусами. Найбільше, що втішило, так це проста настройка. Реально все просто і швидко настроїли, провели авто настройку, підключили вайфай, розібралися в додатках. Що засмутило - картинка якби матова... Як для мене, замало контрасту і яскравості. Вечером і навіть вдень вистачає, картинка деталізована, чітка і дуже реалістична, але хотілося більшої живості, контрастності... Ну от такі враження в цілому. Поставив 5 зірок, бо при нормальному відео, переглянув пару фільмів в 4к - просто супер якість зображення!!! І такі фільми нормально переглянули онлайн з Megogo по вайфай!!! Не по LANу, а саме по вайфай! Без найменших тормозів і фейків. Більше ніби і нічого не треба...'], starts=0, replies=[]), Comment(text=['Доброго дня,\\n\\nПланую брати цей ТВ. \\nВ комплекты йде пуль \"Magic Remote\" чи якийсь інший?\\n\\nДякую'], starts=0, replies=[]), Comment(text=['Здравствуйте подскажите,что обозначает приставка PLA и в чем разница между моделями где эта приставка есть и в той которой нет?Заранее спасибо.'], starts=0, replies=[]), Comment(text=['Великий, з повним функціоналом, як на сьогоднішній день, є навіть вбудований блютуз! Конектиться зі смартфонами по блютузу швидко, музику, кліпи відтворює без затримок і без відставання звуку від відео на екрані. Це стосується і виходу звуку з телевізора на додаткову акустику, що теж можна по блютузу. Весь функціонал робочий. Роздільність екрану UHD дозволяє дивитись такий великий телевізор навіть з 2,5-3 метри - ніяких кліточок і зернистості на екрані не побачите.'], starts=0, replies=[]), Comment(text=['Скажите пожалуйста в этой моделе есть HDR?'], starts=0, replies=['Алексей, добрый день. Да есть, поддерживает 2 стандарта HDR 10 Pro, HDR HLG Pro, и собственная обработка изображения HDR Effect.']), Comment(text=['Своим выбором мы остались довольны. Купили отличный телевизор. Рады, что не ошиблись с выбором. Все самостоятельно настроили, без проблем, совсем не сложно.  Звук отличный,  картинка контрастная чистая.  Интерет тянет хорошо. За время работы не подводил.  Меня все устраивает.', 'Достоинства:отлично работает без проишествий'], starts=0, replies=[]), Comment(text=['LG всегда на высоте,  мы в єтом  никогда не сомневались, поэтому  купили этот телевизор. Картинка отличная, цвета настоящие насыщенные. Есть пуль - меджик в комплекте. С ним удобно.  Эфект от 4К отличный. Есть полный доступ к нету.  Картинка не залипает.  Смотрю что хочу.', 'Достоинства:Отлично прорабатывает динамику'], starts=0, replies=[]), Comment(text=['Большой выбор телевизоров, не просто выбрать хороший, боялись купить не то.Долго присматривались. По функционалу почти все телики одинаковые, а вот по изображению нет.  Нас привлекло изображение на этом телевизоре. Вот и остановились на этой моделе.  Пока довольны.  Все отлично. Наслаждаемся. Картинка удивительная. Желаем всем иметь в доме качественный телевизор.', 'Достоинства:4К', 'Недостатки:нет'], starts=0, replies=[]), Comment(text=['Телевізор хороший, але звук не дуже сподобався, до цього був самсунг з 4к такої ж діагоналі, трохи дешевший, але звучання в ньому на рівень краще. Картинка в lg дуже якісна як на мене, чорний і білий колір просто супер, хоча на різних форумах читав, що в даній моделі не зовсім 4к, так як тут rgbw матриця.'], starts=0, replies=[]), Comment(text=['Здравствуйте, вопрос к пердставителю LG, возможно в даный телевизор установить Skype и подключить камеру, если да, то какая камера подойдет?'], starts=0, replies=['Добрый день. На сегодня  нет телевизоров с поддержкой Skype.']), Comment(text=['Получили телевизор.Пока все отлично.Подскажите какой кронштейн на него подойдет?И как заполнить гарантийный талон?', 'Достоинства:Изображение,звук.', 'Недостатки:Пока нет'], starts=0, replies=['Добрый день, Алена! Приносим свои извинения за причиненные неудобства. С подробной инструкцией по получению или заполнению гарантийного талона Вы можете ознакомиться по  ссылке . Также Вы можете обратиться к нашим менеджерам по номеру (044) 364-83-65, и они помогут Вам в решении данного вопроса.', 'Предлагаем Вам перейти в раздел \"Покупают вместе\". Там предоставлены варианты, которые отлично подходят к данному телевизору.'])])"
      ]
     },
     "execution_count": 37,
     "metadata": {},
     "output_type": "execute_result"
    }
   ],
   "source": [
    "get_comments_page(catalog[0][0], 0)"
   ]
  },
  {
   "cell_type": "code",
   "execution_count": 27,
   "metadata": {},
   "outputs": [
    {
     "ename": "IndexError",
     "evalue": "list index out of range",
     "output_type": "error",
     "traceback": [
      "\u001b[0;31m---------------------------------------------------------------------------\u001b[0m",
      "\u001b[0;31mIndexError\u001b[0m                                Traceback (most recent call last)",
      "\u001b[0;32m<ipython-input-27-0ae044013aa6>\u001b[0m in \u001b[0;36m<module>\u001b[0;34m\u001b[0m\n\u001b[0;32m----> 1\u001b[0;31m \u001b[0mscrape_comments\u001b[0m\u001b[0;34m(\u001b[0m\u001b[0mcatalog\u001b[0m\u001b[0;34m,\u001b[0m \u001b[0;34m'data/'\u001b[0m\u001b[0;34m)\u001b[0m\u001b[0;34m\u001b[0m\u001b[0;34m\u001b[0m\u001b[0m\n\u001b[0m",
      "\u001b[0;32m<ipython-input-26-204d8d4fbf11>\u001b[0m in \u001b[0;36mscrape_comments\u001b[0;34m(catalog, data_path)\u001b[0m\n\u001b[1;32m      4\u001b[0m         \u001b[0;32mwith\u001b[0m \u001b[0mopen\u001b[0m\u001b[0;34m(\u001b[0m\u001b[0mdata_path\u001b[0m \u001b[0;34m+\u001b[0m \u001b[0mentity_name\u001b[0m\u001b[0;34m(\u001b[0m\u001b[0mitem_url\u001b[0m\u001b[0;34m)\u001b[0m \u001b[0;34m+\u001b[0m \u001b[0;34m'-comments.log'\u001b[0m\u001b[0;34m,\u001b[0m \u001b[0;34m'a'\u001b[0m\u001b[0;34m)\u001b[0m \u001b[0;32mas\u001b[0m \u001b[0mlog\u001b[0m\u001b[0;34m:\u001b[0m\u001b[0;34m\u001b[0m\u001b[0;34m\u001b[0m\u001b[0m\n\u001b[1;32m      5\u001b[0m             \u001b[0mpages\u001b[0m \u001b[0;34m=\u001b[0m \u001b[0;34m[\u001b[0m\u001b[0;34m]\u001b[0m\u001b[0;34m\u001b[0m\u001b[0;34m\u001b[0m\u001b[0m\n\u001b[0;32m----> 6\u001b[0;31m             \u001b[0mpages\u001b[0m\u001b[0;34m.\u001b[0m\u001b[0mappend\u001b[0m\u001b[0;34m(\u001b[0m\u001b[0mget_comments_page\u001b[0m\u001b[0;34m(\u001b[0m\u001b[0mitem_url\u001b[0m\u001b[0;34m,\u001b[0m \u001b[0;36m0\u001b[0m\u001b[0;34m,\u001b[0m \u001b[0mlog\u001b[0m\u001b[0;34m)\u001b[0m\u001b[0;34m)\u001b[0m\u001b[0;34m\u001b[0m\u001b[0;34m\u001b[0m\u001b[0m\n\u001b[0m\u001b[1;32m      7\u001b[0m             \u001b[0mmax_page_num\u001b[0m \u001b[0;34m=\u001b[0m \u001b[0mpages\u001b[0m\u001b[0;34m[\u001b[0m\u001b[0;34m-\u001b[0m\u001b[0;36m1\u001b[0m\u001b[0;34m]\u001b[0m\u001b[0;34m.\u001b[0m\u001b[0mmax_page_num\u001b[0m\u001b[0;34m\u001b[0m\u001b[0;34m\u001b[0m\u001b[0m\n\u001b[1;32m      8\u001b[0m             \u001b[0mpage_num\u001b[0m \u001b[0;34m=\u001b[0m \u001b[0;36m1\u001b[0m\u001b[0;34m\u001b[0m\u001b[0;34m\u001b[0m\u001b[0m\n",
      "\u001b[0;32m<ipython-input-22-4f0653cd9d07>\u001b[0m in \u001b[0;36mget_comments_page\u001b[0;34m(item_url, page_num, log)\u001b[0m\n\u001b[1;32m     31\u001b[0m     \u001b[0mpage_items\u001b[0m \u001b[0;34m=\u001b[0m \u001b[0msoup\u001b[0m\u001b[0;34m.\u001b[0m\u001b[0mfind_all\u001b[0m\u001b[0;34m(\u001b[0m\u001b[0;34m'li'\u001b[0m\u001b[0;34m,\u001b[0m \u001b[0mclass_\u001b[0m \u001b[0;34m=\u001b[0m \u001b[0;34m'paginator-catalog-l-i'\u001b[0m\u001b[0;34m)\u001b[0m\u001b[0;34m\u001b[0m\u001b[0;34m\u001b[0m\u001b[0m\n\u001b[1;32m     32\u001b[0m \u001b[0;34m\u001b[0m\u001b[0m\n\u001b[0;32m---> 33\u001b[0;31m     \u001b[0mmax_page_num\u001b[0m \u001b[0;34m=\u001b[0m \u001b[0;34m[\u001b[0m\u001b[0mint\u001b[0m\u001b[0;34m(\u001b[0m\u001b[0mitem\u001b[0m\u001b[0;34m.\u001b[0m\u001b[0mget\u001b[0m\u001b[0;34m(\u001b[0m\u001b[0;34m'id'\u001b[0m\u001b[0;34m)\u001b[0m\u001b[0;34m.\u001b[0m\u001b[0mreplace\u001b[0m\u001b[0;34m(\u001b[0m\u001b[0;34m'page'\u001b[0m\u001b[0;34m,\u001b[0m \u001b[0;34m''\u001b[0m\u001b[0;34m)\u001b[0m\u001b[0;34m.\u001b[0m\u001b[0mstrip\u001b[0m\u001b[0;34m(\u001b[0m\u001b[0;34m)\u001b[0m\u001b[0;34m)\u001b[0m \u001b[0;32mfor\u001b[0m \u001b[0mitem\u001b[0m \u001b[0;32min\u001b[0m \u001b[0mpage_items\u001b[0m\u001b[0;34m]\u001b[0m\u001b[0;34m[\u001b[0m\u001b[0;34m-\u001b[0m\u001b[0;36m1\u001b[0m\u001b[0;34m]\u001b[0m\u001b[0;34m\u001b[0m\u001b[0;34m\u001b[0m\u001b[0m\n\u001b[0m\u001b[1;32m     34\u001b[0m \u001b[0;34m\u001b[0m\u001b[0m\n\u001b[1;32m     35\u001b[0m     \u001b[0;32mif\u001b[0m \u001b[0;32mnot\u001b[0m \u001b[0;34m(\u001b[0m\u001b[0mlog\u001b[0m \u001b[0;32mis\u001b[0m \u001b[0;32mNone\u001b[0m\u001b[0;34m)\u001b[0m\u001b[0;34m:\u001b[0m\u001b[0;34m\u001b[0m\u001b[0;34m\u001b[0m\u001b[0m\n",
      "\u001b[0;31mIndexError\u001b[0m: list index out of range"
     ]
    }
   ],
   "source": [
    "scrape_comments(catalog, 'data/')"
   ]
  }
 ],
 "metadata": {
  "kernelspec": {
   "display_name": "Python 3",
   "language": "python",
   "name": "python3"
  },
  "language_info": {
   "codemirror_mode": {
    "name": "ipython",
    "version": 3
   },
   "file_extension": ".py",
   "mimetype": "text/x-python",
   "name": "python",
   "nbconvert_exporter": "python",
   "pygments_lexer": "ipython3",
   "version": "3.7.2"
  }
 },
 "nbformat": 4,
 "nbformat_minor": 2
}
