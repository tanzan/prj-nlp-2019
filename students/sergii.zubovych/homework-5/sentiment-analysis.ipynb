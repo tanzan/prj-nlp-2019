{
 "cells": [
  {
   "cell_type": "code",
   "execution_count": 1,
   "metadata": {},
   "outputs": [],
   "source": [
    "from bs4 import BeautifulSoup\n",
    "import requests\n",
    "import re\n",
    "import json"
   ]
  },
  {
   "cell_type": "code",
   "execution_count": 2,
   "metadata": {},
   "outputs": [],
   "source": [
    "def get_html(url):\n",
    "    response = requests.get(url)\n",
    "    return response.text"
   ]
  },
  {
   "cell_type": "code",
   "execution_count": 3,
   "metadata": {},
   "outputs": [],
   "source": [
    "tvs_url = 'https://rozetka.com.ua/all-tv/c80037/'"
   ]
  },
  {
   "cell_type": "code",
   "execution_count": 4,
   "metadata": {},
   "outputs": [],
   "source": [
    "tv_soup = BeautifulSoup(get_html(tvs_url), 'lxml')"
   ]
  },
  {
   "cell_type": "code",
   "execution_count": 11,
   "metadata": {},
   "outputs": [
    {
     "data": {
      "text/plain": [
       "[('https://rozetka.com.ua/lg_43lk6200pld/p39024464/',\n",
       "  'Телевизор LG 43LK6200PLD Оплата частями 12 мес. или Сертификат на 1500грн. в подарок!'),\n",
       " ('https://rozetka.com.ua/hisense_h43a6100_/p40090880/',\n",
       "  'Телевизор Hisense H43A6100 Smart TV, 4K, 43\"'),\n",
       " ('https://rozetka.com.ua/samsung_ue58nu7100uxua/p54812544/',\n",
       "  'Телевизор Samsung UE58NU7100UXUA или Оплата частями на 24 мес.!'),\n",
       " ('https://rozetka.com.ua/samsung_ue49n5500auxua/p46780456/',\n",
       "  'Телевизор Samsung UE49N5500AUXUA Оплата частями на 12 мес.!'),\n",
       " ('https://rozetka.com.ua/hisense_h55a6100/p40130128/',\n",
       "  'Телевизор Hisense H55A6100 Smart TV, 4K, 55\"')]"
      ]
     },
     "execution_count": 11,
     "metadata": {},
     "output_type": "execute_result"
    }
   ],
   "source": [
    "tv_title_divs = tv_soup.find_all('div', class_ = 'g-i-tile-i-title clearfix') \n",
    "\n",
    "tv_titles = []\n",
    "for div in tv_title_divs:\n",
    "    a = div.find('a')\n",
    "    tv_titles.append((a.get(\"href\"), a.text.strip()))\n",
    "    \n",
    "tv_titles[:5]"
   ]
  },
  {
   "cell_type": "code",
   "execution_count": 16,
   "metadata": {},
   "outputs": [
    {
     "data": {
      "text/plain": [
       "26"
      ]
     },
     "execution_count": 16,
     "metadata": {},
     "output_type": "execute_result"
    }
   ],
   "source": [
    "page_items = tv_soup.find_all('li', class_ = 'paginator-catalog-l-i pos-fix')\n",
    "\n",
    "max_page_num = [int(item.get('id').replace('page', '')) for item in page_items][-1]\n",
    "\n",
    "max_page_num"
   ]
  },
  {
   "cell_type": "code",
   "execution_count": 22,
   "metadata": {},
   "outputs": [],
   "source": [
    "from collections import namedtuple\n",
    "\n",
    "CatalogPage = namedtuple('CatalogPage', 'max_page_num items')\n",
    "\n",
    "def get_items(catalog_url, page_num):\n",
    "    page_url = catalog_url if page_num == 0 else catalog_url + 'page={}/'.format(page_num + 1)\n",
    "    \n",
    "    soup = BeautifulSoup(get_html(tvs_url), 'lxml')\n",
    "    \n",
    "    title_divs = tv_soup.find_all('div', class_ = 'g-i-tile-i-title clearfix') \n",
    "\n",
    "    titles = []\n",
    "    for div in title_divs:\n",
    "        a = div.find('a')\n",
    "        titles.append((a.get(\"href\"), a.text.strip()))\n",
    "        \n",
    "    page_items = tv_soup.find_all('li', class_ = 'paginator-catalog-l-i pos-fix')\n",
    "\n",
    "    max_page_num = [int(item.get('id').replace('page', '')) for item in page_items][-1]    \n",
    "    \n",
    "    return CatalogPage(max_page_num, titles)"
   ]
  },
  {
   "cell_type": "code",
   "execution_count": 26,
   "metadata": {},
   "outputs": [],
   "source": [
    "page_0 = get_items(tvs_url, 0)"
   ]
  },
  {
   "cell_type": "code",
   "execution_count": 27,
   "metadata": {},
   "outputs": [
    {
     "data": {
      "text/plain": [
       "32"
      ]
     },
     "execution_count": 27,
     "metadata": {},
     "output_type": "execute_result"
    }
   ],
   "source": [
    "len(page_1.items)"
   ]
  },
  {
   "cell_type": "code",
   "execution_count": 24,
   "metadata": {},
   "outputs": [],
   "source": [
    "page_1 = get_items(tvs_url, 1)"
   ]
  },
  {
   "cell_type": "code",
   "execution_count": 25,
   "metadata": {},
   "outputs": [
    {
     "data": {
      "text/plain": [
       "32"
      ]
     },
     "execution_count": 25,
     "metadata": {},
     "output_type": "execute_result"
    }
   ],
   "source": [
    "len(page_1.items)"
   ]
  },
  {
   "cell_type": "code",
   "execution_count": null,
   "metadata": {},
   "outputs": [],
   "source": [
    "<a href=\"https://rozetka.com.ua/philips_43pus6503_12/p39097504/comments/\" class=\"novisited nav-tabs-link\">\n",
    "Отзывы<span class=\"nav-tabs-i-comments\">91</span></a>"
   ]
  }
 ],
 "metadata": {
  "kernelspec": {
   "display_name": "Python 3",
   "language": "python",
   "name": "python3"
  },
  "language_info": {
   "codemirror_mode": {
    "name": "ipython",
    "version": 3
   },
   "file_extension": ".py",
   "mimetype": "text/x-python",
   "name": "python",
   "nbconvert_exporter": "python",
   "pygments_lexer": "ipython3",
   "version": "3.7.2"
  }
 },
 "nbformat": 4,
 "nbformat_minor": 2
}
