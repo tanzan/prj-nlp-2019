{
 "cells": [
  {
   "cell_type": "code",
   "execution_count": 1,
   "metadata": {},
   "outputs": [
    {
     "name": "stdout",
     "output_type": "stream",
     "text": [
      "  % Total    % Received % Xferd  Average Speed   Time    Time     Time  Current\n",
      "                                 Dload  Upload   Total   Spent    Left  Speed\n",
      "100  257M  100  257M    0     0  1955k      0  0:02:14  0:02:14 --:--:-- 2770k6k\n"
     ]
    }
   ],
   "source": [
    "!curl https://conceptnet.s3.amazonaws.com/downloads/2017/numberbatch/numberbatch-en-17.06.txt.gz --output numberbatch-en-17.06.txt.gz"
   ]
  },
  {
   "cell_type": "markdown",
   "metadata": {},
   "source": [
    "https://github.com/loretoparisi/word2vec-twitter"
   ]
  },
  {
   "cell_type": "code",
   "execution_count": 5,
   "metadata": {},
   "outputs": [],
   "source": [
    "#!gunzip numberbatch-en-17.06.txt.gz"
   ]
  },
  {
   "cell_type": "code",
   "execution_count": 376,
   "metadata": {},
   "outputs": [
    {
     "name": "stdout",
     "output_type": "stream",
     "text": [
      "  % Total    % Received % Xferd  Average Speed   Time    Time     Time  Current\n",
      "                                 Dload  Upload   Total   Spent    Left  Speed\n",
      "100   326  100   326    0     0    765      0 --:--:-- --:--:-- --:--:--   765\n"
     ]
    }
   ],
   "source": [
    "!curl http://nlp.stanford.edu/data/wordvecs/glove.twitter.27B.zip --output glove.twitter.27B.zip"
   ]
  },
  {
   "cell_type": "code",
   "execution_count": 68,
   "metadata": {},
   "outputs": [
    {
     "name": "stdout",
     "output_type": "stream",
     "text": [
      "Archive:  crawl-300d-2M-subword.zip\n",
      "  inflating: crawl-300d-2M-subword.vec  \n",
      "  inflating: crawl-300d-2M-subword.bin  \n"
     ]
    }
   ],
   "source": [
    "!unzip crawl-300d-2M-subword.zip"
   ]
  },
  {
   "cell_type": "code",
   "execution_count": 377,
   "metadata": {},
   "outputs": [
    {
     "name": "stdout",
     "output_type": "stream",
     "text": [
      "Archive:  glove.twitter.27B.zip\n",
      "  inflating: glove.twitter.27B.25d.txt  \n",
      "  inflating: glove.twitter.27B.50d.txt  \n",
      "  inflating: glove.twitter.27B.100d.txt  \n",
      "  inflating: glove.twitter.27B.200d.txt  \n"
     ]
    }
   ],
   "source": [
    "!unzip glove.twitter.27B.zip"
   ]
  },
  {
   "cell_type": "code",
   "execution_count": 67,
   "metadata": {},
   "outputs": [
    {
     "name": "stdout",
     "output_type": "stream",
     "text": [
      "  % Total    % Received % Xferd  Average Speed   Time    Time     Time  Current\n",
      "                                 Dload  Upload   Total   Spent    Left  Speed\n",
      "100 5558M  100 5558M    0     0   9.8M      0  0:09:23  0:09:23 --:--:-- 7807k  3  211M    0     0  9059k      0  0:10:28  0:00:23  0:10:05  9.9M 5  301M    0     0  9390k      0  0:10:06  0:00:32  0:09:34 10.0M  0  9905k      0  0:09:34  0:01:16  0:08:18 10.0M:45  0:06:37 10.0M  0:09:20  0:03:42  0:05:38 10.0MM      0  0:09:19  0:04:34  0:04:45 10.0M3263M    0     0   9.9M      0  0:09:18  0:05:27  0:03:51 10.0MM  0  0:09:17  0:07:05  0:02:12 10.0MM   77 4310M    0     0   9.9M      0  0:09:16  0:07:11  0:02:05 10.0M   0   9.9M      0  0:09:16  0:07:14  0:02:02 10.1M9:18  0:09:04  0:00:14 7763k\n"
     ]
    }
   ],
   "source": [
    "!curl https://dl.fbaipublicfiles.com/fasttext/vectors-english/crawl-300d-2M-subword.zip --output crawl-300d-2M-subword.zip"
   ]
  },
  {
   "cell_type": "code",
   "execution_count": 2,
   "metadata": {},
   "outputs": [],
   "source": [
    "from gensim.models import KeyedVectors\n",
    "from gensim.test.utils import datapath, get_tmpfile\n",
    "from gensim.scripts.glove2word2vec import glove2word2vec\n",
    "\n",
    "#tmp_file = get_tmpfile(\"glove_word2vec.txt\")\n",
    "#_ = glove2word2vec('glove.twitter.27B.200d.txt', tmp_file)\n",
    "\n",
    "#glove = KeyedVectors.load_word2vec_format(tmp_file)"
   ]
  },
  {
   "cell_type": "code",
   "execution_count": 2,
   "metadata": {},
   "outputs": [
    {
     "data": {
      "text/plain": [
       "[('gloves', 0.7430825233459473),\n",
       " ('helmet', 0.6035714149475098),\n",
       " ('cleats', 0.5549577474594116),\n",
       " ('shoe', 0.5447742938995361),\n",
       " ('boot', 0.5390670299530029),\n",
       " ('leather', 0.5314798355102539),\n",
       " ('hand', 0.5252668857574463),\n",
       " ('pads', 0.523605227470398),\n",
       " ('gear', 0.5217989683151245),\n",
       " ('coat', 0.5216744542121887)]"
      ]
     },
     "execution_count": 2,
     "metadata": {},
     "output_type": "execute_result"
    }
   ],
   "source": [
    "glove.most_similar(['glove'])"
   ]
  },
  {
   "cell_type": "code",
   "execution_count": 2,
   "metadata": {},
   "outputs": [],
   "source": [
    "numberbatch = KeyedVectors.load_word2vec_format(\"numberbatch-en-17.06.txt.gz\", binary=False)"
   ]
  },
  {
   "cell_type": "code",
   "execution_count": 3,
   "metadata": {},
   "outputs": [
    {
     "name": "stderr",
     "output_type": "stream",
     "text": [
      "/home/szubovych/.virtualenvs/nlp/lib/python3.6/site-packages/gensim/models/keyedvectors.py:2356: RuntimeWarning: invalid value encountered in true_divide\n",
      "  return (m / dist).astype(REAL)\n"
     ]
    },
    {
     "data": {
      "text/plain": [
       "[('contravariant_functor', 0.9674091935157776),\n",
       " ('forgetful_functor', 0.9666687250137329),\n",
       " ('yoneda_embedding', 0.9497337937355042),\n",
       " ('endofunctor', 0.9360368847846985),\n",
       " ('representable_functor', 0.9314213991165161),\n",
       " ('cofunctor', 0.9296932220458984),\n",
       " ('natural_transformation', 0.9164144992828369),\n",
       " ('yoneda_lemma', 0.9022417664527893),\n",
       " ('coaugmentation', 0.8871707320213318),\n",
       " ('category_theory', 0.8751257658004761)]"
      ]
     },
     "execution_count": 3,
     "metadata": {},
     "output_type": "execute_result"
    }
   ],
   "source": [
    "numberbatch.most_similar(['functor'])"
   ]
  },
  {
   "cell_type": "code",
   "execution_count": 3,
   "metadata": {},
   "outputs": [],
   "source": [
    "google = KeyedVectors.load_word2vec_format(\"GoogleNews-vectors-negative300.bin.gz\", binary=True)"
   ]
  },
  {
   "cell_type": "code",
   "execution_count": 5,
   "metadata": {},
   "outputs": [
    {
     "data": {
      "text/plain": [
       "[('apples', 0.7203598022460938),\n",
       " ('pear', 0.6450696587562561),\n",
       " ('fruit', 0.6410146355628967),\n",
       " ('berry', 0.6302294731140137),\n",
       " ('pears', 0.6133961081504822),\n",
       " ('strawberry', 0.6058261394500732),\n",
       " ('peach', 0.6025873422622681),\n",
       " ('potato', 0.596093475818634),\n",
       " ('grape', 0.5935864448547363),\n",
       " ('blueberry', 0.5866668224334717)]"
      ]
     },
     "execution_count": 5,
     "metadata": {},
     "output_type": "execute_result"
    }
   ],
   "source": [
    "google.most_similar(['apple'])"
   ]
  },
  {
   "cell_type": "code",
   "execution_count": 3,
   "metadata": {},
   "outputs": [],
   "source": [
    "fasttext = KeyedVectors.load_word2vec_format(\"5d7b5525-b769-4579-9d6f-1aa9d8d1a1b1 \", binary=False)"
   ]
  },
  {
   "cell_type": "code",
   "execution_count": 4,
   "metadata": {},
   "outputs": [],
   "source": [
    "from collections import namedtuple\n",
    "\n",
    "Phrase = namedtuple('Phrase', 'original candidate label')\n",
    "Token = namedtuple('Token', 'text tags')\n",
    "\n",
    "def split_tokens(sent):\n",
    "    tokens = []\n",
    "    for token in sent.split():\n",
    "        tags = token.split('/')\n",
    "        tokens.append(Token(tags[0].lower(), tuple(tags[1:])))\n",
    "    return tokens\n",
    "\n",
    "\n",
    "def readData(filename, eval_label, ignoreNone):\n",
    "    data = []\n",
    "    with open(filename) as f:\n",
    "        for line in f:\n",
    "            fields = line.strip().split('\\t')\n",
    "            if len(fields) == 7:\n",
    "                (trendid, trendname, origsent, candsent, judge, origsenttag, candsenttag) = fields\n",
    "            else:\n",
    "                continue\n",
    "            label = eval_label(judge)\n",
    "            if ((label is None) and ignoreNone):\n",
    "                continue\n",
    "            data.append(Phrase(split_tokens(origsenttag), split_tokens(candsenttag), label))\n",
    "    \n",
    "    return data\n",
    "                \n",
    "def eval_amt_label(label):\n",
    "    nYes = eval(label)[0]            \n",
    "    \n",
    "    if nYes >= 3:\n",
    "        return True\n",
    "    elif nYes <= 1:\n",
    "        return False\n",
    "    \n",
    "    return None\n",
    "\n",
    "def eval_expert_label(label):\n",
    "    nYes = int(label[0])\n",
    "    \n",
    "    if nYes >= 4:\n",
    "        return True\n",
    "    elif nYes <= 2:\n",
    "        return False\n",
    "    \n",
    "    return None\n",
    "\n",
    "\n",
    "def readTrainData(filename):\n",
    "    return readData(filename, eval_amt_label, True)\n",
    "\n",
    "def readTestData(filename):\n",
    "    return readData(filename, eval_expert_label, False)"
   ]
  },
  {
   "cell_type": "code",
   "execution_count": 5,
   "metadata": {},
   "outputs": [],
   "source": [
    "train_data = readTrainData(\"SemEval-PIT2015-py3/data/train.data\")\n",
    "dev_data = readTrainData(\"SemEval-PIT2015-py3/data/dev.data\")\n",
    "test_data = [p for p in readTestData(\"SemEval-PIT2015-py3/data/test.data\") if p.label is not None]"
   ]
  },
  {
   "cell_type": "code",
   "execution_count": 6,
   "metadata": {},
   "outputs": [
    {
     "data": {
      "text/plain": [
       "11530"
      ]
     },
     "execution_count": 6,
     "metadata": {},
     "output_type": "execute_result"
    }
   ],
   "source": [
    "len(train_data)"
   ]
  },
  {
   "cell_type": "code",
   "execution_count": 7,
   "metadata": {},
   "outputs": [
    {
     "data": {
      "text/plain": [
       "838"
      ]
     },
     "execution_count": 7,
     "metadata": {},
     "output_type": "execute_result"
    }
   ],
   "source": [
    "len(test_data)"
   ]
  },
  {
   "cell_type": "code",
   "execution_count": 8,
   "metadata": {},
   "outputs": [
    {
     "data": {
      "text/plain": [
       "[Phrase(original=[Token(text='ej', tags=('B-person', 'NNP', 'B-NP', 'O')), Token(text='manuel', tags=('I-person', 'NNP', 'B-VP', 'O')), Token(text='the', tags=('O', 'DT', 'B-NP', 'O')), Token(text='1st', tags=('O', 'CD', 'I-NP', 'O')), Token(text='qb', tags=('O', 'NNP', 'I-NP', 'O')), Token(text='to', tags=('O', 'TO', 'B-VP', 'O')), Token(text='go', tags=('O', 'VB', 'I-VP', 'B-EVENT')), Token(text='in', tags=('O', 'IN', 'B-PP', 'I-EVENT')), Token(text='this', tags=('O', 'DT', 'B-NP', 'O')), Token(text='draft', tags=('O', 'NN', 'I-NP', 'O'))], candidate=[Token(text='but', tags=('O', 'CC', 'O', 'O')), Token(text='my', tags=('O', 'PRP$', 'B-NP', 'O')), Token(text='bro', tags=('O', 'NN', 'I-NP', 'O')), Token(text='from', tags=('O', 'IN', 'B-PP', 'O')), Token(text='the', tags=('O', 'DT', 'B-NP', 'O')), Token(text='757', tags=('O', 'CD', 'I-NP', 'O')), Token(text='ej', tags=('B-person', 'NNP', 'I-NP', 'O')), Token(text='manuel', tags=('I-person', 'NNP', 'I-NP', 'O')), Token(text='is', tags=('O', 'VBZ', 'B-VP', 'O')), Token(text='the', tags=('O', 'DT', 'B-NP', 'O')), Token(text='1st', tags=('O', 'CD', 'I-NP', 'O')), Token(text='qb', tags=('O', 'NNP', 'I-NP', 'O')), Token(text='gone', tags=('O', 'NN', 'I-NP', 'O'))], label=True),\n",
       " Phrase(original=[Token(text='ej', tags=('B-person', 'NNP', 'B-NP', 'O')), Token(text='manuel', tags=('I-person', 'NNP', 'B-VP', 'O')), Token(text='the', tags=('O', 'DT', 'B-NP', 'O')), Token(text='1st', tags=('O', 'CD', 'I-NP', 'O')), Token(text='qb', tags=('O', 'NNP', 'I-NP', 'O')), Token(text='to', tags=('O', 'TO', 'B-VP', 'O')), Token(text='go', tags=('O', 'VB', 'I-VP', 'B-EVENT')), Token(text='in', tags=('O', 'IN', 'B-PP', 'I-EVENT')), Token(text='this', tags=('O', 'DT', 'B-NP', 'O')), Token(text='draft', tags=('O', 'NN', 'I-NP', 'O'))], candidate=[Token(text='can', tags=('O', 'MD', 'B-VP', 'O')), Token(text='believe', tags=('O', 'VB', 'I-VP', 'B-EVENT')), Token(text='ej', tags=('B-person', 'NNP', 'B-NP', 'O')), Token(text='manuel', tags=('I-person', 'NNP', 'I-NP', 'O')), Token(text='went', tags=('O', 'VBD', 'B-VP', 'O')), Token(text='as', tags=('O', 'IN', 'B-PP', 'O')), Token(text='the', tags=('O', 'DT', 'B-NP', 'O')), Token(text='1st', tags=('O', 'CD', 'I-NP', 'O')), Token(text='qb', tags=('O', 'NNP', 'I-NP', 'O')), Token(text='in', tags=('O', 'IN', 'B-PP', 'O')), Token(text='the', tags=('O', 'DT', 'B-NP', 'O')), Token(text='draft', tags=('O', 'NN', 'I-NP', 'O'))], label=True),\n",
       " Phrase(original=[Token(text='ej', tags=('B-person', 'NNP', 'B-NP', 'O')), Token(text='manuel', tags=('I-person', 'NNP', 'B-VP', 'O')), Token(text='the', tags=('O', 'DT', 'B-NP', 'O')), Token(text='1st', tags=('O', 'CD', 'I-NP', 'O')), Token(text='qb', tags=('O', 'NNP', 'I-NP', 'O')), Token(text='to', tags=('O', 'TO', 'B-VP', 'O')), Token(text='go', tags=('O', 'VB', 'I-VP', 'B-EVENT')), Token(text='in', tags=('O', 'IN', 'B-PP', 'I-EVENT')), Token(text='this', tags=('O', 'DT', 'B-NP', 'O')), Token(text='draft', tags=('O', 'NN', 'I-NP', 'O'))], candidate=[Token(text='ej', tags=('B-person', 'NNP', 'B-NP', 'O')), Token(text='manuel', tags=('I-person', 'NNP', 'I-NP', 'O')), Token(text='is', tags=('O', 'VBZ', 'B-VP', 'O')), Token(text='the', tags=('O', 'DT', 'B-NP', 'O')), Token(text='1st', tags=('O', 'CD', 'I-NP', 'O')), Token(text='qb', tags=('O', 'NNP', 'I-NP', 'O')), Token(text='what', tags=('O', 'WP', 'I-NP', 'O'))], label=True)]"
      ]
     },
     "execution_count": 8,
     "metadata": {},
     "output_type": "execute_result"
    }
   ],
   "source": [
    "train_data[:3]"
   ]
  },
  {
   "cell_type": "code",
   "execution_count": 9,
   "metadata": {},
   "outputs": [
    {
     "data": {
      "text/plain": [
       "[Phrase(original=[Token(text='all', tags=('O', 'DT', 'B-NP', 'O')), Token(text='the', tags=('O', 'DT', 'I-NP', 'O')), Token(text='home', tags=('O', 'NN', 'I-NP', 'O')), Token(text='alones', tags=('O', 'VBZ', 'B-VP', 'O')), Token(text='watching', tags=('O', 'VBG', 'I-VP', 'B-EVENT')), Token(text='8', tags=('O', 'CD', 'B-NP', 'O')), Token(text='mile', tags=('O', 'NN', 'I-NP', 'O'))], candidate=[Token(text='the', tags=('O', 'DT', 'B-NP', 'O')), Token(text='last', tags=('O', 'JJ', 'I-NP', 'O')), Token(text='rap', tags=('O', 'NN', 'I-NP', 'B-EVENT')), Token(text='battle', tags=('O', 'NN', 'I-NP', 'B-EVENT')), Token(text='in', tags=('O', 'IN', 'B-PP', 'O')), Token(text='8', tags=('O', 'CD', 'B-NP', 'O')), Token(text='mile', tags=('O', 'NNP', 'I-NP', 'O')), Token(text='nevr', tags=('O', 'NN', 'I-NP', 'O')), Token(text='gets', tags=('O', 'VBZ', 'B-VP', 'O')), Token(text='old', tags=('O', 'JJ', 'B-NP', 'O')), Token(text='ahah', tags=('O', 'JJ', 'I-NP', 'O'))], label=False),\n",
       " Phrase(original=[Token(text='all', tags=('O', 'DT', 'B-NP', 'O')), Token(text='the', tags=('O', 'DT', 'I-NP', 'O')), Token(text='home', tags=('O', 'NN', 'I-NP', 'O')), Token(text='alones', tags=('O', 'VBZ', 'B-VP', 'O')), Token(text='watching', tags=('O', 'VBG', 'I-VP', 'B-EVENT')), Token(text='8', tags=('O', 'CD', 'B-NP', 'O')), Token(text='mile', tags=('O', 'NN', 'I-NP', 'O'))], candidate=[Token(text='the', tags=('O', 'DT', 'B-NP', 'O')), Token(text='rap', tags=('O', 'NN', 'I-NP', 'O')), Token(text='battle', tags=('O', 'NN', 'I-NP', 'B-EVENT')), Token(text='at', tags=('O', 'IN', 'B-PP', 'O')), Token(text='the', tags=('O', 'DT', 'B-NP', 'O')), Token(text='end', tags=('O', 'NN', 'I-NP', 'O')), Token(text='of', tags=('O', 'IN', 'B-PP', 'O')), Token(text='8', tags=('O', 'CD', 'B-NP', 'O')), Token(text='mile', tags=('O', 'NN', 'I-NP', 'O')), Token(text='gets', tags=('O', 'VBZ', 'B-VP', 'O')), Token(text='me', tags=('O', 'PRP', 'B-NP', 'O')), Token(text='so', tags=('O', 'RB', 'B-ADVP', 'O')), Token(text='hype', tags=('O', 'JJ', 'I-ADVP', 'O'))], label=False),\n",
       " Phrase(original=[Token(text='the', tags=('O', 'DT', 'B-NP', 'O')), Token(text='ending', tags=('O', 'VBG', 'I-NP', 'B-EVENT')), Token(text='to', tags=('O', 'TO', 'I-NP', 'O')), Token(text='8', tags=('O', 'CD', 'I-NP', 'O')), Token(text='mile', tags=('O', 'NNP', 'I-NP', 'O')), Token(text='is', tags=('O', 'VBZ', 'B-VP', 'O')), Token(text='my', tags=('O', 'PRP$', 'B-NP', 'O')), Token(text='fav', tags=('O', 'JJ', 'I-NP', 'O')), Token(text='part', tags=('O', 'NN', 'I-NP', 'O')), Token(text='of', tags=('O', 'IN', 'B-PP', 'O')), Token(text='the', tags=('O', 'DT', 'B-NP', 'O')), Token(text='whole', tags=('O', 'JJ', 'I-NP', 'O')), Token(text='movie', tags=('O', 'NN', 'I-NP', 'B-EVENT'))], candidate=[Token(text='rabbit', tags=('O', 'NNP', 'B-NP', 'O')), Token(text='on', tags=('O', 'IN', 'B-PP', 'O')), Token(text='8', tags=('O', 'CD', 'B-NP', 'O')), Token(text='mile', tags=('O', 'NN', 'I-NP', 'O')), Token(text='out', tags=('O', 'IN', 'B-PP', 'O')), Token(text='of', tags=('O', 'IN', 'B-PP', 'O')), Token(text='place', tags=('O', 'NN', 'B-NP', 'O')), Token(text='but', tags=('O', 'CC', 'O', 'O')), Token(text='determined', tags=('O', 'VBD', 'B-VP', 'B-EVENT')), Token(text='to', tags=('O', 'TO', 'I-VP', 'O')), Token(text='make', tags=('O', 'VB', 'I-VP', 'O')), Token(text='it', tags=('O', 'PRP', 'B-NP', 'O'))], label=False)]"
      ]
     },
     "execution_count": 9,
     "metadata": {},
     "output_type": "execute_result"
    }
   ],
   "source": [
    "test_data[:3]"
   ]
  },
  {
   "cell_type": "code",
   "execution_count": 8,
   "metadata": {},
   "outputs": [],
   "source": [
    "from nltk.corpus import stopwords\n",
    "from tqdm import tqdm_notebook\n",
    "\n",
    "NUM = set(['1st'])\n",
    "\n",
    "def clean_sent(sent):\n",
    "    new_sent = []\n",
    "    for token in sent:\n",
    "        if token.tags[0].startswith('B-'):\n",
    "            new_sent.append(token.tags[0].split('-')[1])\n",
    "            continue\n",
    "        if token.tags[0].startswith('I-'): #or token.text in stopwords.words('english'):\n",
    "            continue\n",
    "        if token.tags[1] == 'CD' or token.text in NUM or token.text.isnumeric():\n",
    "            new_sent.append('number')\n",
    "            continue\n",
    "        new_sent.append(token.text)\n",
    "                            \n",
    "    return new_sent\n",
    "\n",
    "def clean_data(data):\n",
    "    return [Phrase(clean_sent(phrase.original), clean_sent(phrase.candidate), phrase.label) \\\n",
    "            for phrase in tqdm_notebook(data)]"
   ]
  },
  {
   "cell_type": "code",
   "execution_count": 9,
   "metadata": {},
   "outputs": [
    {
     "data": {
      "application/vnd.jupyter.widget-view+json": {
       "model_id": "ade1bb76cbf348ad9742638cae33bd58",
       "version_major": 2,
       "version_minor": 0
      },
      "text/plain": [
       "HBox(children=(IntProgress(value=0, max=11530), HTML(value='')))"
      ]
     },
     "metadata": {},
     "output_type": "display_data"
    },
    {
     "name": "stdout",
     "output_type": "stream",
     "text": [
      "\n"
     ]
    }
   ],
   "source": [
    "clean_train_data = clean_data(train_data)"
   ]
  },
  {
   "cell_type": "code",
   "execution_count": 10,
   "metadata": {},
   "outputs": [
    {
     "data": {
      "application/vnd.jupyter.widget-view+json": {
       "model_id": "03865ccfa9654f54be17a4b69e7f5b15",
       "version_major": 2,
       "version_minor": 0
      },
      "text/plain": [
       "HBox(children=(IntProgress(value=0, max=4142), HTML(value='')))"
      ]
     },
     "metadata": {},
     "output_type": "display_data"
    },
    {
     "name": "stdout",
     "output_type": "stream",
     "text": [
      "\n"
     ]
    }
   ],
   "source": [
    "clean_dev_data = clean_data(dev_data)"
   ]
  },
  {
   "cell_type": "code",
   "execution_count": 11,
   "metadata": {},
   "outputs": [
    {
     "data": {
      "application/vnd.jupyter.widget-view+json": {
       "model_id": "836d87bb43fa499b95e42d17ba4fcf64",
       "version_major": 2,
       "version_minor": 0
      },
      "text/plain": [
       "HBox(children=(IntProgress(value=0, max=838), HTML(value='')))"
      ]
     },
     "metadata": {},
     "output_type": "display_data"
    },
    {
     "name": "stdout",
     "output_type": "stream",
     "text": [
      "\n"
     ]
    }
   ],
   "source": [
    "clean_test_data = clean_data(test_data)"
   ]
  },
  {
   "cell_type": "code",
   "execution_count": 12,
   "metadata": {},
   "outputs": [
    {
     "data": {
      "text/plain": [
       "[Phrase(original=['person', 'the', 'number', 'qb', 'to', 'go', 'in', 'this', 'draft'], candidate=['but', 'my', 'bro', 'from', 'the', 'number', 'person', 'is', 'the', 'number', 'qb', 'gone'], label=True),\n",
       " Phrase(original=['person', 'the', 'number', 'qb', 'to', 'go', 'in', 'this', 'draft'], candidate=['can', 'believe', 'person', 'went', 'as', 'the', 'number', 'qb', 'in', 'the', 'draft'], label=True),\n",
       " Phrase(original=['person', 'the', 'number', 'qb', 'to', 'go', 'in', 'this', 'draft'], candidate=['person', 'is', 'the', 'number', 'qb', 'what'], label=True)]"
      ]
     },
     "execution_count": 12,
     "metadata": {},
     "output_type": "execute_result"
    }
   ],
   "source": [
    "clean_train_data[:3]"
   ]
  },
  {
   "cell_type": "code",
   "execution_count": 13,
   "metadata": {},
   "outputs": [
    {
     "data": {
      "text/plain": [
       "8920"
      ]
     },
     "execution_count": 13,
     "metadata": {},
     "output_type": "execute_result"
    }
   ],
   "source": [
    "from gensim.corpora import Dictionary\n",
    "\n",
    "def phrase_tokens(phrase):\n",
    "    return [token for token in (phrase.original + phrase.candidate)]\n",
    "    \n",
    "\n",
    "vocab = Dictionary([phrase_tokens(p) for p in clean_train_data + clean_dev_data + clean_test_data])\n",
    "\n",
    "len(vocab)"
   ]
  },
  {
   "cell_type": "code",
   "execution_count": 14,
   "metadata": {},
   "outputs": [
    {
     "name": "stdout",
     "output_type": "stream",
     "text": [
      "8921\n"
     ]
    }
   ],
   "source": [
    "VOCAB_SIZE = len(vocab) + 1 # +1 for padding\n",
    "\n",
    "print(VOCAB_SIZE)"
   ]
  },
  {
   "cell_type": "code",
   "execution_count": 15,
   "metadata": {},
   "outputs": [],
   "source": [
    "id2token = dict([(i, token)for token, i in vocab.token2id.items()])"
   ]
  },
  {
   "cell_type": "code",
   "execution_count": 16,
   "metadata": {},
   "outputs": [],
   "source": [
    "def text_to_sequence(words):\n",
    "    return [i + 1 for i in vocab.doc2idx(words)]\n",
    "\n",
    "def sequence_to_text(seq):\n",
    "    return [id2token[i - 1] for i in seq if i]"
   ]
  },
  {
   "cell_type": "code",
   "execution_count": 17,
   "metadata": {},
   "outputs": [
    {
     "name": "stdout",
     "output_type": "stream",
     "text": [
      "11530\n",
      "11530\n",
      "11530\n"
     ]
    }
   ],
   "source": [
    "def data_to_sequences(data):\n",
    "    \n",
    "    encoder_seqs = []\n",
    "    decoder_seqs = []\n",
    "    labels = []\n",
    "    \n",
    "    for phrase in data:\n",
    "        encoder_seqs.append(text_to_sequence([t for t in phrase.original]))\n",
    "        decoder_seqs.append(text_to_sequence([t for t in phrase.candidate]))\n",
    "        labels.append(phrase.label)\n",
    "        \n",
    "    return encoder_seqs, decoder_seqs, labels \n",
    "\n",
    "train_encoder_seqs, train_decoder_seqs, train_labels = data_to_sequences(clean_train_data)\n",
    "\n",
    "print(len(train_encoder_seqs))\n",
    "print(len(train_decoder_seqs))\n",
    "print(len(train_labels))"
   ]
  },
  {
   "cell_type": "code",
   "execution_count": 18,
   "metadata": {},
   "outputs": [
    {
     "name": "stdout",
     "output_type": "stream",
     "text": [
      "['person', 'the', 'number', 'qb', 'to', 'go', 'in', 'this', 'draft']\n",
      "['but', 'my', 'bro', 'from', 'the', 'number', 'person', 'is', 'the', 'number', 'qb', 'gone']\n",
      "True\n"
     ]
    }
   ],
   "source": [
    "print(sequence_to_text(train_encoder_seqs[0]))\n",
    "print(sequence_to_text(train_decoder_seqs[0]))\n",
    "print(train_labels[0])"
   ]
  },
  {
   "cell_type": "code",
   "execution_count": 19,
   "metadata": {},
   "outputs": [],
   "source": [
    "dev_encoder_seqs, dev_decoder_seqs, dev_labels = data_to_sequences(clean_dev_data)"
   ]
  },
  {
   "cell_type": "code",
   "execution_count": 20,
   "metadata": {},
   "outputs": [],
   "source": [
    "test_encoder_seqs, test_decoder_seqs, test_labels = data_to_sequences(clean_test_data)"
   ]
  },
  {
   "cell_type": "code",
   "execution_count": null,
   "metadata": {},
   "outputs": [],
   "source": [
    "test_encoder_seqs, test_decoder_seqs, test_labels = data_to_sequences(clean_test_data)"
   ]
  },
  {
   "cell_type": "code",
   "execution_count": 21,
   "metadata": {},
   "outputs": [
    {
     "name": "stdout",
     "output_type": "stream",
     "text": [
      "18\n"
     ]
    }
   ],
   "source": [
    "MAX_SEQ_LEN = max([len(seq) for seq in (train_encoder_seqs + train_decoder_seqs + \\\n",
    "                                       dev_encoder_seqs + dev_decoder_seqs + \\\n",
    "                                       test_decoder_seqs + test_encoder_seqs)])\n",
    "\n",
    "print(MAX_SEQ_LEN)"
   ]
  },
  {
   "cell_type": "code",
   "execution_count": 22,
   "metadata": {},
   "outputs": [
    {
     "name": "stderr",
     "output_type": "stream",
     "text": [
      "Using TensorFlow backend.\n"
     ]
    }
   ],
   "source": [
    "from keras.preprocessing.sequence import pad_sequences\n",
    "\n",
    "def padding(sequences):\n",
    "    return pad_sequences(sequences, maxlen=MAX_SEQ_LEN, dtype='int32', padding='post', truncating='post')"
   ]
  },
  {
   "cell_type": "code",
   "execution_count": 23,
   "metadata": {},
   "outputs": [],
   "source": [
    "EMBEDDING_SIZE = 300"
   ]
  },
  {
   "cell_type": "code",
   "execution_count": 27,
   "metadata": {},
   "outputs": [],
   "source": [
    "from nltk.stem.snowball import SnowballStemmer \n",
    "\n",
    "stemmer = SnowballStemmer('english')"
   ]
  },
  {
   "cell_type": "code",
   "execution_count": 24,
   "metadata": {},
   "outputs": [
    {
     "name": "stdout",
     "output_type": "stream",
     "text": [
      "977\n"
     ]
    }
   ],
   "source": [
    "import numpy as np\n",
    "\n",
    "EMBEDDING_MATRIX = np.zeros((VOCAB_SIZE, EMBEDDING_SIZE))\n",
    "\n",
    "def get_glove(word):\n",
    "    try:\n",
    "        return glove[word]\n",
    "    except KeyError:\n",
    "        pass\n",
    "    return np.zeros(200)\n",
    "\n",
    "def get_numberbatch(word):\n",
    "    try:\n",
    "        return numberbatch[word]\n",
    "    except KeyError:\n",
    "        pass\n",
    "    return np.zeros(300)\n",
    "\n",
    "missed = set([])\n",
    "\n",
    "for word, i in vocab.token2id.items():   \n",
    "    try:\n",
    "        EMBEDDING_MATRIX[i] = fasttext[word]\n",
    "    except KeyError:\n",
    "        \n",
    "        missed.add(word)\n",
    "\n",
    "print(len(missed))"
   ]
  },
  {
   "cell_type": "code",
   "execution_count": 25,
   "metadata": {},
   "outputs": [
    {
     "name": "stdout",
     "output_type": "stream",
     "text": [
      "{'borussia', 'tasticdrews', 'cheick', 'leandowski', 'cowboysnation', 'ogmfmddkd', 'usain', 'sotheresthat', 'lovebenzox', 'yussss', 'ilyyyy', 'uuuuup', 'kcchiefs', 'subtchicago', 'oscarhe', 'mnwild', 'poppycorn', 'rbatto', 'chuddyer', 'theletout', 'relativeperspec', 'naterobinson', 'threepoint', 'jennabreanne13', 'cutondime25', 'muniscis', 'gundogan', 'xx11', 'holllllleeerrrrrred', 'idealware', 'caliendo', 'ashtonirwow', 'rightfooted', 'jbflexes', 'belivin', 'alidoee', 'skxidjjjxhhsjahxnja', 'secbig', 'beautifuuuuul', 'pourjeinventoryblowout', 'chieck', 'bowwowymcmb', 'zumbathon', 'dysert', 'yesto', 'reginaboy', 'this25', 'jetaime', 'unbealivable', 'prototypeversion', 'couldshould', 'fareal', 'goodasgold', 'quickaintfair', 'letsgo', 'gullit', 'instaclassic', 'dallascowboy', 'ballive', 'bigmeeks5', 'lhhatl', 'roubd', 'wusup', 'aauthorsmusic', 'newsmichael', 'chrissmoove', 'prayforkrista', 'jamiesalud1d', 'saramcmann', 'tripledouble', 'hollywoodcelebrity', 'solomonswisdom', 'devaneykk', '3ot', 'thordarkworld', 'offfield', 'ugghe', 'sheeeitttt', 'seleccionan', 'forazerbaijan', 'nhlbruins', '2325million', 'youngrest', 'syleenajohnson', 'premarch', 'jptheasshole', 'kingdont', 'yorka', 'nialler', 'thurmanthomas', 'paaigeenicolee', 'calisi', 'uglass', 'hardingu', 'guarddddd', 'hellionvladimir', 'hitmansteviej', 'norbit', 'phaty', 'drinko', 'coog', 'abbeyview', 'davidsbackpack', 'davemorin', 'highestpaid', 'toshfromthebill', 'harveyday', 'bigmoney', 'steelernation', 'replyfollow', 'runnerrrgirl1', 'boomd', 'sheeesssh', 'latahhhh', 'cantwont', 'maiikfc', 'liggins', 'eeeeverything', 'cryy', 'wardell', 'sjsharks', 'wattermelon', 'coleworld', 'reggaetton', '40yard', 'dsgahhgadf', 'sissshie', 'hotcole', 'fightshoving', 'bestlookingever', 'scandalabc', 'tbfh', 'davidarchie', 'wannnaaaa', 'haaaaaard', 'stellasus', 'michaelmoore', 'firstdraft', 'kachidgameboi', 'kingdomlion', 'twizy', 'frankcaliendo', 'fingerool', 'whitesux', 'lotulelei', 'sleeppppp', 'slothanator', 'dreamchasers', '1littleliongirl', 'tmlt', 'collegeboard', 'lemieuxdraper', 'dwighthoward', 'dinnerpowwow', '1hitter', 'candices', 'floping', 'playpffs', 'nonhockey', 'gametheyre', 'caaaaant', 'thecross87', 'hienas', 'legisl', 'inittowinit', 'beyonc', 'outshit', 'pedalnyc', 'lobbin', 'thefieldhouse', 'bobsaget', 'varane', 'datone', 'jondeuce', 'airrielle', 'mairs', 'arminvanbuuren', 'asdfghjklajajdkxhskwixbelwuwpwieozkeurpvkd', 'brookelyn', 'bihhh', 'prespinning', 'lizziemcguire', 'yikketty', 'checc', 'lawddd', 'mclvkdd', 'reporterchris', 'livvveeee', 'shondarhimes', 'beattheblock', 'barkevious', 'nbaplayoffs', 'itzjessicahoex3', 'benzino', 'delaplaine', 'lmaaaaaaaaaaaaaaaaaoooo', 'ilovecheese', 'mmxii', 'itineraryim', 'northsiderrr', 'timtebow', 'saaanging', 'amareisreal', 'wholllllllllle', 'oomgggg', 'adamvduke', 'questionsobamawontanswer', 'sdchargers', 'iamshake', 'lmaoooooooo', 'wowim', '2ndround', 'theyslacking', 'relyin', 'dtafted', 'tearyeyes', 'baaaallin', 'actualllyyyy', 'nfldraftthat', 'nicklomax', 'myyyyyyyyyy', 'chivettes', 'allwest', 'cbnc', 'bumbass', 'biiiiiitccchhhhhh', 'steppd', 'izamakarewicz', 'surfthechannel', 'bitsoftheworldwhichsoundfunny', 'buttcentric', 'ashshayse', 'clipperstrippys', 'candiceai12', 'manryu', 'shumperts', 'sidehug', 'anyhtjjng', 'ianoconnor', 'tomlinshiit', 'shamarko', 'dayyy', 'pittcon', 'venceu', 'dellorto', 'distroyd', 'todayeven', 'goudelock', 'peytonshead', 'haaaaang', 'downtoearth', 'woaaaaah', 'pfdc', 'buttfumble', 'espnnfcnblog', 'hackaasik', 'eamaddennfl', 'holddd', 'michael5sos', 'dortmundcant', 'booooomm', 'tripleh', '3rdthat', 'ashleyblove', 'hellthat', 'momentuem', 'whhhhaaaat', 'nouisniam', '2nyt', 'todayy', 'yeaaaaaaaaaah', 'wahoooo', 'donzell', 'bullsvsnets', 'birdgang', 'daterape', 'yammin', 'kaykay032', 'bostonbombing', 'lmfaoooooooooo', 'sbomb', 'shamarko21ya', 'liveeee', 'heatbucks', '1future', 'spursvslakers', 'vakation', 'backtoback', 'dstern', 'thooooo', 'fergies', 'nckxnxkx', 'wolfmanwerewolf', 'heatnationthat', 'rulegoverence', 'kidrauhlflexes', 'lightskinnedmixed', 'aumf', 'sumnerpaschke', 'mickjagger', 'cheik', 'alskiiii', 'farried', 'yammed', 'alecdaley', 'lmfaaaaooooo', 'bishhhhhhh', 'daylabour', 'sighmon', 'logic301', 'buffalobills', 'iamsb3', 'dvntownsend', 'cryinggg', 'duuuunked', 'ilysfmluke', 'ohdont', 'tearyeyed', 'eole', 'fucktheotherteams', 'furori', 'dezduron', 'yayay', 'nbcthevoice', 'amaazinggg', 'uwv', 'sticksaveswag', 'beatt', 'syrus', 'stacey79', 'knicksboston', 'pancackes', 'ozsome', 'firstofitskind', 'fivemonth', 'cochampions', 'hackashaq', 'ggmu', 'walmarttarget', 'grooooooown', 'experimentaion', 'turnersportsej', 'saleannnnnd', 'babak1', 'mcmann', 'dieit', 'geziparki', 'twitchyteam', 'qualitty', 'goldsons', 'nfldraft2013', 'legendim', 'posturized', 'bmthofficial', 'timmywhitehead', 'otog', 'theatrea', 'guideshop', 'bullshett', 'lydiais', 'damontre', 'congratrs', 'patrickquirky', 'championsleague', 'knocced', 'dortmunddestruction', 'dayummmmmm', 'poprap', 'netsbulls', 'ayyyy', '243jaibrooks1', 'udonis', 'poopyourtrousers', 'gongcha', 'bargains4wahms', 'taureandirect', 'interestedjeff', 'sportsteam', 'clippersgrizzlies', 'treykell', 'amarder5', 'blakegriffin32', 'thexx', 'gurlll', 'mshasnothingonme', 'allaccess', 'studentprintz', 'joneschael', 'butler182', 'nepick', 'lavergne', 'kinkybootsbway', 'respusha', 'masterton', 'spingebob', 'goodnat', 'whodatnation', 'biggnbadd', 'watchn', 'wgitmo', 'spgreenwood', 'concievec', 'tuneinradio', 'ugliests', 'jonnysaraceno', 'todayyyy', 'krisskross', 'mazzi', 'kjmayorjohnson', 'rustyrockets', 'therealjrsmith', 'promarriage', 'stephenasmith', 'pinecove', 'omgggggggggggffhkeekneeieirbrvejriiehw', 'redskinsnation', 'kb78', 'imskipsgirl', 'fener', 'frontfacing', 'miggitymac', 'josevancouver', 'canshould', 'germansa', 'gobraves', 'outtttt', 'parkerighile', 'xmaggiepayne', 'doublefoul', 'startribune', 'syleena', 'miscontrol', 'griffinzach', 'fellani', 'meast', 'uofh', 'testosteronic', 'at34', 'sumall', 'liebary', 'cinderellaill', 'atlantafalcons', 'bricktown', 'realsummerwwe', 'comparingcontrasting', 'expresidents', 'richjeff', 'yanksmets', 'elliedelancey', 'ukbig', 'arabiya', 'heyyyitslizz', 'russwest44', 'toddlerlike', 'colbyculbertson', 'gkkbkn', 'asujhbasda', 'withchu', 'wildavs', 'ovaaa', 'boosiest', 'trulyyours2', 'abcfamily', 'todoautosurplus', 's2g', 'leeeetsss', 'nhlplayoffs', 'dortmunds', 'okcs', 'raaaiiiiders', 'vancouveryoure', 'hollldddd', 'adone', 'womancrushwednesday', 'xx20', 'reald', 'asdfgjkl', 'bushcenter', 'costellosband', 'iloveyousomuch5', 'dahvie', 'todaywhere', 'bizarrolebron', 'steadmon', 'xxoxoxo', 'calummmm', 'baaaaaaaaaddddd', '9inning', 'aaaaaaaaaaaaaahahaha', 'nonqb', 'dzhokhar', 'ooowee', 'knockes', 'tayshauntony', 'quincey', 'sagfasgakfgafsdas', '40cant', 'homewreaker', 'wmark', 'teamnovapetey', 'sexxyy', 'joanrivers', 'itsstephsoricex', 'clipgrizz', 'lhhhh', 'solaveiregionals', 'cstodd89', 'tweetgrubes', 'superbound', 'someonesomething', 'caliendos', 'cinddyyrelaa', 'threepointers', 'sportsnation', 'bispingbelcher', 'lamicheal', 'tablazo', 'desirableziall', 'landeskog', 'frictio', 'sircharles', 'hannahbush', 'recommendeds', 'jaibrooks1', 'freeeeeeeeeeee', 'kershawzito', 'wmy', 'ammieee94', 'burritolirry', 'adjustmentdevelopment', 'askscandal', 'regularseason', 'blutbad', 'sfresno', 'onball', 'thras', 'bacarri', 'thibs', 'heeeeeated', 'migiddy', 'assel', 'gezwxm87', 'goldenstate', 'bostonmarathon', 'seewhatididtheir', 'googleio', 'yellowbastard', 'babyyyyyyy', 'lemonier', 'grandelaughs', 'killllllll', 'gundagun', 'glab', 'toyotaowners400', 'holanouis', '3pointer', 'marxmegu', 'dreamchasin23', 'thourpe', 'soccersix', 'blaxpolitation', 'mosnter', 'corookies', 'drakee', 'punkd', 'dooed', 'dawgggg', 'belieee', 'aileybayrae', 'itsyaraaa', 'madden25', 'ckwinter12', 'simbas', 'dirtyyyyyy', 'godddddd', 'falgs', 'oonnnnn', 'nacwc', 'govteducationcompanies', 'lenseless', 'laurennolinf', 'nebtd', 'thebushcenter', 'thejetontnt', 'killaa', 'patriotsnation', 'mixtapeseps', 'spossed', 'sosighit', 'chicagoitll', 'hopegrace10', 'defuk', 'nokxl', 'joanuh', 'pangosallamericancamp', 'schumaker', 'foul2', 'uberfa6ma', 'andforcing', 'newsseattle', 'herabotdfsgtc4l', 'ollydawes', 'grammywinning', 'stephencurry30', 'glenperkins', 'againnnn', 'haaaaaaater', 'stratfordavery', 'gigure', 'magalhaes', 'thecowboys', 'iosandroid', 'outboarding', 'strombone1', 'ayeeee', 'cutiecalum', 'cbaire1', 'ridics', 'goshhhhhh', 'hardinghe', 'maddym17', 'poyer', 'queeeeeen', 'celebritory', 'mensiscus', 'mysportslegion', 'kylieeeee4', 'usmalumni', 'buzzerbeater', 'shaqtin', 'zoovie', 'iphonehacks', 'advisegiver', 'diccckkkk', 'mehd', 'yorkbased', 'daaanng', 'lifesocial', 'hayjdbieber', 'alleyooped', 'playofs', 'heeeeer', 'casilas', 'hboboxing', 'hooooray', 'tmht', 'wantknows', 'leftfoot', 'frfr', 'dunkfaced', 'watchibg', 'hanbyul', 'foxyashell', 'miggidy', 'cordarelle', 'ccccrrrrraaaaazzzzzzyyyyyy', 'kriskross', 'griffens', 'dfish', 'seleciona', 'ltrauzzi', 'tminus', 'overunder', 'mrsh', 'singledigit', 'violentcbs', 'theirgroupie', 'boutta', 'jpmontoya', 'tylerwinkeljohn', 'ruvilla', 'courside', 'scraming', 'miamibucks', 'westsidehell', 'safirah', 'twitcam', 'doeeee', 'dpbrugler', 'guilitine', 'whhaaattt', 'godbad', 'drayaface', 'cuuuuuuuuute', 'ravensplus', 'bullsnation', 'ayyee', 'mediadriven', 'raceoff', 'bynes', 'gotze', 'getglue', 'tayvon', 'mayerhawthorne', 'thoooouuugh', 'dukies', 'watchung', 'mutting', 'thunderup', 'famm', 'khedndiby', 'backwardsclothes', '93wibc', 'madriddortmund', 'hinduon', 'meshugeneh', 'lewondoski', 'illkay', 'ectwins', 'zxxxxxxx', 'sanchize', 'lmfaoooooo', 'plazzzzzzz', 'thunderingherd', 'joaning', 'tmcdonaldjr', 'hahgayy', 'panthersoft', 'reversesit', 'real3d', 'togethermoms', 'heartingselena', 'nonhd', 'shmedium', 'threeandahalf', 'roynelsonmma', 'canuckssharks', 'transportredoing', 'tattaz', 'terriewilliams', 'dourtmound', 'margella', 'itsabouttime', 'exok', 'colbertbuschsc', 'mallys', 'wellid', 'leahmclaren', 'fromyale', 'jonnybones', 'ssfootball', 'vanphan86', 'todayhell', 'vendorsthe', 'lakersk', 'hebitch', 'teamvedo', '27footers', 'you19', 'vedothesinger', 'nofloorseats', 'kleinspencer', 'bgcomgmoments', 'techworker', 'chocolatevanilla', 'yamming', 'zdnetgoogle', 'chillz', '5sosupdate', 'blackstrapbbq', 'eeeeeevvvviiiilll', 'mikaelaloves1dx', 'conerback', 'thercms', 'mozgovd', 'niggga', 'chesmar', 'lutzenkirchen', 'javale', 'jox', 'wadeshaq', 'sykesational', 'shaunwkeaveny', 'prisilla', 'migitty', 'v103atlanta', 'perolawiberg', 'ninersnation', 'untouchablejay4', 'saldivar', 'huddy', 'wwtt', 'shiited', 'thisnesrine', 'gulliet', 'righttt', 'wooooooooow', 'heatvspacers', 'andrewbogut', 'favv', 'bruhhhhhhhhh', 'sciencegoogle', 'kuntry', 'harvardmagazine', 'smackabitch', 'stealsproper', 'beautybenzo', 'percilla', 'mikevick', 'amslingshots', 'hanneman', 'yeeaahhh', 'pointwe', 'thehalfpintnyc', 'biggnaicaa', 'samepage', 'whysomad', 'haswellbased', 'goodgood', 'dmcfadden20', 'nunggu', 'dagauvins', 'miggitymiggitymiggitymiggity', 'lyknx', 'kunalmerchant', 'sbjsvsjwjw', 'jobaint', 'dawgg', 'jrsmith', 'indirecting', 'offfff', 'sctop10', 'thirdstraight', 'liamlbdr', 'joeyorck', 'mccelroy', 'tomgreenlive', 'nbahall', 'popsbeadles', 'nthn', 'playiiin', 'netflixinstant', 'weswelker', 'nbaguru', 'sharieff', 'rewtardid', 'celticsknicks', 'mazzzzz', 'okiestate', 'fbis', 'bkst', 'modelsinger', 'khlarica', 'shwd', 'awzum', 'almondnarry', 'sacramentokings', 'reald3d', 'chicagobears', 'teamusher', 'shittttt', 'ncst', 'poppppin', 'celebrityapprentice', 'kreedom', 'whattttt', 'gryba', 'purplearmy', '1900hawaii', 'moloofs', 'lmboooooo', 'forealtho', 'louding', 'maloofs', 'nonosquito', 'ctfuuu', 'dammnnnnnn', 'miggity', 'jumpjumpin', 'sigb', 'cuhh', 'lmfaoooo', 'knicksnation', 'yestrdy', 'stellahudgens', 'fittz', 'abdelkader', 'mentiontag', 'mickid', 'lawwddd', 'brooklynnets', 'hairim', 'congressgovt', 'bbqbrolaws', 'pinkmartini', 'nygiants', 'lordd', 'marksanford', 'hipho', 'pleeeeeeeease', 'ungeekedeliteschicago', 'lawwwwdddd', 'favesssss', 'csart', 'spinpm', 'softrocker', 'toinght', 'murphwatkins', 'muuuud', 'usbelgium', 'azlottery', 'sharrif', 'nbaontnt', 'twaz', 'sewins', 'firouzabadi', 'marriageequality', 'nfldraft', 'dawwwwwwg', 'lagbt', 'raidernation', 'yooooooo', 'lesean', 'biiiiiitch', 'podiumgame', 'iilovecheese', 'foulthing', 'coentrao', 'latttwoone', 'jonesgreen', 'hackasik', 'sumisin', 'grizclips', 'dortmundreal', 'ttlyteala', 'simoncowell', 'comjng', 'greatlate', 'fivehole', 'tweetlimit', 'calumhooding', 'scuffeddeflected', 'broskeeeeeeeez', 'maaaannnn', 'sexfactory', 'teennick', 'yannah', 'bihh', '1500espnreusse', 'telana', 'nitery', 'tarryandzella', 'meetingsstuff', 'priscillamnyc', 'calum5sos', 'beastt', 'at127', 'tkod', 'therecant', 'niallofficial', 'grimble', 'selecionou', 'kuukuwa', 'damnbackstrom', 'heatpacer', 'stalkerstage', 'warriorsnuggets', 'mikereiss', 'borrusia', 'theoph', 'reginasnow', 'nyknicks', 'kerrywashington', '957thegame', 'bayerndortmund', 'ravensnation', 'vintagezarry', 'iphoneipad', 'midnightfuze', 'anyssaayala', 'kdtrey5', 'flynnkatie', 'chicagocultural', 'danfischer17', 'amerson', 'jcolenc', 'timecatconvo'}\n"
     ]
    }
   ],
   "source": [
    "print(missed)"
   ]
  },
  {
   "cell_type": "code",
   "execution_count": 26,
   "metadata": {},
   "outputs": [
    {
     "data": {
      "text/plain": [
       "0.10952914798206279"
      ]
     },
     "execution_count": 26,
     "metadata": {},
     "output_type": "execute_result"
    }
   ],
   "source": [
    "len(missed)/len(vocab)"
   ]
  },
  {
   "cell_type": "code",
   "execution_count": 27,
   "metadata": {},
   "outputs": [],
   "source": [
    "train_data_missed = [(p, t) for p in clean_train_data for t in p.original + p.candidate if t in missed]"
   ]
  },
  {
   "cell_type": "code",
   "execution_count": 28,
   "metadata": {},
   "outputs": [
    {
     "data": {
      "text/plain": [
       "0.3258456201214224"
      ]
     },
     "execution_count": 28,
     "metadata": {},
     "output_type": "execute_result"
    }
   ],
   "source": [
    "len(train_data_missed)/len(train_data)"
   ]
  },
  {
   "cell_type": "code",
   "execution_count": 168,
   "metadata": {},
   "outputs": [
    {
     "data": {
      "text/plain": [
       "[(Phrase(original=['person', 'the', 'number', 'qb', 'to', 'go', 'in', 'this', 'draft'], candidate=['wow', 'person', 'fsu', 'number', 'qb', 'taken'], label=True),\n",
       "  'fsu'),\n",
       " (Phrase(original=['so', 'person', 'is', 'the', 'number', 'qb', 'taken'], candidate=['bills', 'take', 'sportsteam', 'number', 'qb', 'off', 'the', 'board'], label=True),\n",
       "  'sportsteam'),\n",
       " (Phrase(original=['person', 'is', 'the', 'number', 'qb', 'in', 'the', 'draft'], candidate=['wow', 'person', 'fsu', 'number', 'qb', 'taken'], label=True),\n",
       "  'fsu'),\n",
       " (Phrase(original=['person', 'was', 'the', 'number', 'qb', 'picked', 'overall'], candidate=['number', 'qb', 'taken', 'in', 'the', 'draft', 'go', 'noles'], label=True),\n",
       "  'noles'),\n",
       " (Phrase(original=['person', 'was', 'the', 'number', 'qb', 'picked', 'overall'], candidate=['sportsteam', 's', 'person', 'was', 'the', 'number', 'qb', 'taken'], label=True),\n",
       "  'sportsteam'),\n",
       " (Phrase(original=['person', 'was', 'the', 'number', 'qb', 'picked', 'overall'], candidate=['so', 'to', 'my', 'boy', 'cbaire1', 'for', 'person', 'being', 'the', 'number', 'qb', 'taken'], label=True),\n",
       "  'cbaire1'),\n",
       " (Phrase(original=['person', 'number', 'qb', 'taken', 'in', 'the', 'nfldraft'], candidate=['number', 'qb', 'taken', 'on', 'the', '17th', 'pick', 'in', 'geo', 'different'], label=True),\n",
       "  'nfldraft'),\n",
       " (Phrase(original=['person', 'number', 'qb', 'taken', 'in', 'the', 'nfldraft'], candidate=['number', 'qb', 'taken', 'on', 'the', '17th', 'pick', 'in', 'geo', 'different'], label=True),\n",
       "  '17th'),\n",
       " (Phrase(original=['person', 'number', 'qb', 'taken', 'in', 'the', 'nfldraft'], candidate=['number', 'stand', 'up', 'person', 'number', 'qb', 'in', 'the', 'number', 'draft'], label=True),\n",
       "  'nfldraft'),\n",
       " (Phrase(original=['person', 'number', 'qb', 'taken', 'in', 'the', 'nfldraft'], candidate=['person', 'did', 'go', 'NONE'], label=True),\n",
       "  'nfldraft')]"
      ]
     },
     "execution_count": 168,
     "metadata": {},
     "output_type": "execute_result"
    }
   ],
   "source": [
    "train_data_missed[:10]"
   ]
  },
  {
   "cell_type": "code",
   "execution_count": 31,
   "metadata": {},
   "outputs": [],
   "source": [
    "from keras.layers import Embedding\n",
    "\n",
    "embedding_layer = Embedding(input_dim = VOCAB_SIZE, \n",
    "                            output_dim = EMBEDDING_SIZE, \n",
    "                            input_length = MAX_SEQ_LEN,\n",
    "                            weights = [EMBEDDING_MATRIX], trainable = False)"
   ]
  },
  {
   "cell_type": "code",
   "execution_count": 32,
   "metadata": {},
   "outputs": [
    {
     "name": "stdout",
     "output_type": "stream",
     "text": [
      "WARNING:tensorflow:From /home/szubovych/.virtualenvs/nlp/lib/python3.6/site-packages/tensorflow/python/framework/op_def_library.py:263: colocate_with (from tensorflow.python.framework.ops) is deprecated and will be removed in a future version.\n",
      "Instructions for updating:\n",
      "Colocations handled automatically by placer.\n",
      "__________________________________________________________________________________________________\n",
      "Layer (type)                    Output Shape         Param #     Connected to                     \n",
      "==================================================================================================\n",
      "input_2 (InputLayer)            (None, 18)           0                                            \n",
      "__________________________________________________________________________________________________\n",
      "input_1 (InputLayer)            (None, 18)           0                                            \n",
      "__________________________________________________________________________________________________\n",
      "embedding_1 (Embedding)         (None, 18, 300)      2676300     input_1[0][0]                    \n",
      "                                                                 input_2[0][0]                    \n",
      "__________________________________________________________________________________________________\n",
      "lstm_1 (LSTM)                   [(None, 300), (None, 721200      embedding_1[0][0]                \n",
      "__________________________________________________________________________________________________\n",
      "lstm_2 (LSTM)                   [(None, 300), (None, 721200      embedding_1[1][0]                \n",
      "                                                                 lstm_1[0][1]                     \n",
      "                                                                 lstm_1[0][2]                     \n",
      "__________________________________________________________________________________________________\n",
      "dense_1 (Dense)                 (None, 1)            301         lstm_2[0][0]                     \n",
      "==================================================================================================\n",
      "Total params: 4,119,001\n",
      "Trainable params: 1,442,701\n",
      "Non-trainable params: 2,676,300\n",
      "__________________________________________________________________________________________________\n"
     ]
    }
   ],
   "source": [
    "from keras.layers import Input, LSTM, Embedding, TimeDistributed, Dense, Dropout\n",
    "from keras.models import Model\n",
    "from keras.optimizers import RMSprop\n",
    "\n",
    "HIDDEN_DIM = 300\n",
    "\n",
    "encoder_inputs = Input(shape=(MAX_SEQ_LEN, ), dtype='int32',)\n",
    "encoder_embedding = embedding_layer(encoder_inputs)\n",
    "encoder_LSTM = LSTM(HIDDEN_DIM, return_state=True)\n",
    "encoder_outputs, state_h, state_c = encoder_LSTM(encoder_embedding)\n",
    "    \n",
    "decoder_inputs = Input(shape=(MAX_SEQ_LEN, ), dtype='int32',)\n",
    "decoder_embedding = embedding_layer(decoder_inputs)\n",
    "decoder_LSTM = LSTM(HIDDEN_DIM, return_state=True)\n",
    "decoder_outputs, _, _ = decoder_LSTM(decoder_embedding, initial_state=[state_h, state_c])\n",
    "    \n",
    "outputs = Dense(1, activation='sigmoid')(decoder_outputs)\n",
    "model = Model([encoder_inputs, decoder_inputs], outputs)\n",
    "\n",
    "model.summary()\n",
    "model.compile(optimizer=RMSprop(lr=1e-4), loss='binary_crossentropy', metrics=['acc'])"
   ]
  },
  {
   "cell_type": "code",
   "execution_count": 33,
   "metadata": {},
   "outputs": [
    {
     "name": "stdout",
     "output_type": "stream",
     "text": [
      "WARNING:tensorflow:From /home/szubovych/.virtualenvs/nlp/lib/python3.6/site-packages/tensorflow/python/ops/math_ops.py:3066: to_int32 (from tensorflow.python.ops.math_ops) is deprecated and will be removed in a future version.\n",
      "Instructions for updating:\n",
      "Use tf.cast instead.\n",
      "Train on 11530 samples, validate on 4142 samples\n",
      "Epoch 1/5\n",
      "11530/11530 [==============================] - 12s 1ms/step - loss: 0.6459 - acc: 0.6517 - val_loss: 0.6469 - val_acc: 0.6451\n",
      "Epoch 2/5\n",
      "11530/11530 [==============================] - 10s 907us/step - loss: 0.6327 - acc: 0.6578 - val_loss: 0.6589 - val_acc: 0.6446\n",
      "Epoch 3/5\n",
      "11530/11530 [==============================] - 10s 873us/step - loss: 0.6140 - acc: 0.6690 - val_loss: 0.6918 - val_acc: 0.6470\n",
      "Epoch 4/5\n",
      "11530/11530 [==============================] - 10s 876us/step - loss: 0.5964 - acc: 0.6840 - val_loss: 0.6554 - val_acc: 0.6272\n",
      "Epoch 5/5\n",
      "11530/11530 [==============================] - 10s 875us/step - loss: 0.5879 - acc: 0.6879 - val_loss: 0.7008 - val_acc: 0.6420\n"
     ]
    },
    {
     "data": {
      "text/plain": [
       "<keras.callbacks.History at 0x7ff2e83bbcc0>"
      ]
     },
     "execution_count": 33,
     "metadata": {},
     "output_type": "execute_result"
    }
   ],
   "source": [
    "model.fit([padding(train_encoder_seqs), padding(train_encoder_seqs)], np.array(train_labels),\n",
    "          batch_size = 100, epochs = 5, validation_data=([padding(dev_encoder_seqs), padding(dev_encoder_seqs)], dev_labels))"
   ]
  },
  {
   "cell_type": "code",
   "execution_count": 34,
   "metadata": {},
   "outputs": [
    {
     "name": "stdout",
     "output_type": "stream",
     "text": [
      "              precision    recall  f1-score   support\n",
      "\n",
      "       False       0.65      0.98      0.78      2672\n",
      "        True       0.44      0.03      0.06      1470\n",
      "\n",
      "   micro avg       0.64      0.64      0.64      4142\n",
      "   macro avg       0.54      0.50      0.42      4142\n",
      "weighted avg       0.57      0.64      0.52      4142\n",
      "\n"
     ]
    }
   ],
   "source": [
    "from sklearn.metrics import classification_report\n",
    "\n",
    "print(classification_report(dev_labels, [prob.item() > 0.5 for prob in model.predict([padding(dev_encoder_seqs), padding(dev_decoder_seqs)])]))"
   ]
  },
  {
   "cell_type": "code",
   "execution_count": 35,
   "metadata": {},
   "outputs": [
    {
     "name": "stdout",
     "output_type": "stream",
     "text": [
      "              precision    recall  f1-score   support\n",
      "\n",
      "       False       0.80      0.98      0.88       663\n",
      "        True       0.42      0.05      0.08       175\n",
      "\n",
      "   micro avg       0.79      0.79      0.79       838\n",
      "   macro avg       0.61      0.51      0.48       838\n",
      "weighted avg       0.72      0.79      0.71       838\n",
      "\n"
     ]
    }
   ],
   "source": [
    "from sklearn.metrics import classification_report\n",
    "\n",
    "print(classification_report(test_labels, [prob.item() > 0.5 for prob in model.predict([padding(test_encoder_seqs), padding(test_decoder_seqs)])]))"
   ]
  },
  {
   "cell_type": "code",
   "execution_count": 62,
   "metadata": {},
   "outputs": [],
   "source": [
    "def dump_scores(filename, predicted_similarity):\n",
    "    with open(filename, 'w+') as f:\n",
    "        for estimate in predicted_similarity:                    \n",
    "            f.write(\"{}\\t{:.4f}\\n\".format(str(estimate.item() > 0.5).lower(), estimate.item()))"
   ]
  },
  {
   "cell_type": "code",
   "execution_count": 63,
   "metadata": {},
   "outputs": [],
   "source": [
    "dump_scores('PIT2015_zubovych_autoencoder.output', model.predict([padding(test_encoder_seqs), padding(test_decoder_seqs)]))"
   ]
  },
  {
   "cell_type": "code",
   "execution_count": 64,
   "metadata": {},
   "outputs": [
    {
     "name": "stdout",
     "output_type": "stream",
     "text": [
      "838\tzubovych\tautoencoder\t\tF: 0.256\tPrec: 0.398\tRec: 0.189\t\tP-corr: 0.150\tF1: 0.362\tPrec: 0.241\tRec: 0.726\r\n"
     ]
    }
   ],
   "source": [
    "!python SemEval-PIT2015-py3/scripts/pit2015_eval_single.py SemEval-PIT2015-py3/data/test_bin.label PIT2015_zubovych_autoencoder.output"
   ]
  },
  {
   "cell_type": "code",
   "execution_count": 37,
   "metadata": {},
   "outputs": [],
   "source": [
    "import keras\n",
    "import keras.backend as K\n",
    "from keras.models import Model\n",
    "from keras.layers import Activation, Dropout\n",
    "from keras.layers import Embedding, Input\n",
    "from keras.layers import LSTM, Lambda, concatenate\n",
    "from keras import regularizers\n",
    "from keras.optimizers import Adadelta"
   ]
  },
  {
   "cell_type": "code",
   "execution_count": 511,
   "metadata": {},
   "outputs": [],
   "source": [
    "HIDDEN_DIM=300\n",
    "\n",
    "def exponent_neg_manhattan_distance(x, hidden_size=HIDDEN_DIM):\n",
    "    ''' Helper function for the similarity estimate of the LSTMs outputs '''\n",
    "    return K.exp(-K.sum(K.abs(x[:,:hidden_size] - x[:,hidden_size:]), axis=1, keepdims=True))\n",
    "\n",
    "def exponent_neg_cosine_distance(x, hidden_size=HIDDEN_DIM):\n",
    "    ''' Helper function for the similarity estimate of the LSTMs outputs '''\n",
    "    leftNorm = K.l2_normalize(x[:,:hidden_size], axis=-1)\n",
    "    rightNorm = K.l2_normalize(x[:,hidden_size:], axis=-1)\n",
    "    return K.exp(K.sum(K.prod([leftNorm, rightNorm], axis=0), axis=1, keepdims=True))"
   ]
  },
  {
   "cell_type": "code",
   "execution_count": 169,
   "metadata": {},
   "outputs": [
    {
     "ename": "ValueError",
     "evalue": "\"input_length\" is 13, but received input has shape (None, 18)",
     "output_type": "error",
     "traceback": [
      "\u001b[0;31m---------------------------------------------------------------------------\u001b[0m",
      "\u001b[0;31mValueError\u001b[0m                                Traceback (most recent call last)",
      "\u001b[0;32m<ipython-input-169-a0118abcaa9f>\u001b[0m in \u001b[0;36m<module>\u001b[0;34m\u001b[0m\n\u001b[1;32m      2\u001b[0m \u001b[0mseq_2\u001b[0m \u001b[0;34m=\u001b[0m \u001b[0mInput\u001b[0m\u001b[0;34m(\u001b[0m\u001b[0mshape\u001b[0m\u001b[0;34m=\u001b[0m\u001b[0;34m(\u001b[0m\u001b[0mMAX_SEQ_LEN\u001b[0m\u001b[0;34m,\u001b[0m\u001b[0;34m)\u001b[0m\u001b[0;34m,\u001b[0m \u001b[0mdtype\u001b[0m\u001b[0;34m=\u001b[0m\u001b[0;34m'int32'\u001b[0m\u001b[0;34m,\u001b[0m \u001b[0mname\u001b[0m\u001b[0;34m=\u001b[0m\u001b[0;34m'sequence2'\u001b[0m\u001b[0;34m)\u001b[0m\u001b[0;34m\u001b[0m\u001b[0;34m\u001b[0m\u001b[0m\n\u001b[1;32m      3\u001b[0m \u001b[0;34m\u001b[0m\u001b[0m\n\u001b[0;32m----> 4\u001b[0;31m \u001b[0minput_1\u001b[0m \u001b[0;34m=\u001b[0m \u001b[0membedding_layer\u001b[0m\u001b[0;34m(\u001b[0m\u001b[0mseq_1\u001b[0m\u001b[0;34m)\u001b[0m\u001b[0;34m\u001b[0m\u001b[0;34m\u001b[0m\u001b[0m\n\u001b[0m\u001b[1;32m      5\u001b[0m \u001b[0minput_2\u001b[0m \u001b[0;34m=\u001b[0m \u001b[0membedding_layer\u001b[0m\u001b[0;34m(\u001b[0m\u001b[0mseq_2\u001b[0m\u001b[0;34m)\u001b[0m\u001b[0;34m\u001b[0m\u001b[0;34m\u001b[0m\u001b[0m\n\u001b[1;32m      6\u001b[0m \u001b[0;34m\u001b[0m\u001b[0m\n",
      "\u001b[0;32m~/.virtualenvs/nlp/lib/python3.6/site-packages/keras/engine/base_layer.py\u001b[0m in \u001b[0;36m__call__\u001b[0;34m(self, inputs, **kwargs)\u001b[0m\n\u001b[1;32m    472\u001b[0m             if all([s is not None\n\u001b[1;32m    473\u001b[0m                     for s in to_list(input_shape)]):\n\u001b[0;32m--> 474\u001b[0;31m                 \u001b[0moutput_shape\u001b[0m \u001b[0;34m=\u001b[0m \u001b[0mself\u001b[0m\u001b[0;34m.\u001b[0m\u001b[0mcompute_output_shape\u001b[0m\u001b[0;34m(\u001b[0m\u001b[0minput_shape\u001b[0m\u001b[0;34m)\u001b[0m\u001b[0;34m\u001b[0m\u001b[0;34m\u001b[0m\u001b[0m\n\u001b[0m\u001b[1;32m    475\u001b[0m             \u001b[0;32melse\u001b[0m\u001b[0;34m:\u001b[0m\u001b[0;34m\u001b[0m\u001b[0;34m\u001b[0m\u001b[0m\n\u001b[1;32m    476\u001b[0m                 \u001b[0;32mif\u001b[0m \u001b[0misinstance\u001b[0m\u001b[0;34m(\u001b[0m\u001b[0minput_shape\u001b[0m\u001b[0;34m,\u001b[0m \u001b[0mlist\u001b[0m\u001b[0;34m)\u001b[0m\u001b[0;34m:\u001b[0m\u001b[0;34m\u001b[0m\u001b[0;34m\u001b[0m\u001b[0m\n",
      "\u001b[0;32m~/.virtualenvs/nlp/lib/python3.6/site-packages/keras/layers/embeddings.py\u001b[0m in \u001b[0;36mcompute_output_shape\u001b[0;34m(self, input_shape)\u001b[0m\n\u001b[1;32m    131\u001b[0m                         raise ValueError(\n\u001b[1;32m    132\u001b[0m                             \u001b[0;34m'\"input_length\" is %s, but received input has shape %s'\u001b[0m \u001b[0;34m%\u001b[0m\u001b[0;34m\u001b[0m\u001b[0;34m\u001b[0m\u001b[0m\n\u001b[0;32m--> 133\u001b[0;31m                             (str(self.input_length), str(input_shape)))\n\u001b[0m\u001b[1;32m    134\u001b[0m                     \u001b[0;32melif\u001b[0m \u001b[0ms1\u001b[0m \u001b[0;32mis\u001b[0m \u001b[0;32mNone\u001b[0m\u001b[0;34m:\u001b[0m\u001b[0;34m\u001b[0m\u001b[0;34m\u001b[0m\u001b[0m\n\u001b[1;32m    135\u001b[0m                         \u001b[0min_lens\u001b[0m\u001b[0;34m[\u001b[0m\u001b[0mi\u001b[0m\u001b[0;34m]\u001b[0m \u001b[0;34m=\u001b[0m \u001b[0ms2\u001b[0m\u001b[0;34m\u001b[0m\u001b[0;34m\u001b[0m\u001b[0m\n",
      "\u001b[0;31mValueError\u001b[0m: \"input_length\" is 13, but received input has shape (None, 18)"
     ]
    }
   ],
   "source": [
    "seq_1 = Input(shape=(MAX_SEQ_LEN,), dtype='int32', name='sequence1')\n",
    "seq_2 = Input(shape=(MAX_SEQ_LEN,), dtype='int32', name='sequence2')\n",
    "\n",
    "input_1 = embedding_layer(seq_1)\n",
    "input_2 = embedding_layer(seq_2)\n",
    "\n",
    "l1 = LSTM(units=HIDDEN_DIM)\n",
    "\n",
    "l1_out = l1(input_1)\n",
    "l2_out = l1(input_2)\n",
    "\n",
    "concats = concatenate([l1_out, l2_out], axis=-1)\n",
    "\n",
    "#main_output = Lambda(exponent_neg_cosine_distance, output_shape=(1,))(concats)\n",
    "#main_output = Lambda(exponent_neg_manhattan_distance, output_shape=(1,))(concats)\n",
    "dense_ouput = Dense(1024, activation=\"relu\")(concats)\n",
    "main_output = Dense(1, activation=\"sigmoid\")(dense_ouput)\n",
    "\n",
    "model = Model(inputs=[seq_1, seq_2], outputs=[main_output])\n",
    "\n",
    "opt = keras.optimizers.Adadelta(lr = 0.1, clipnorm=1.25)\n",
    "\n",
    "#model.compile(optimizer=RMSprop(lr=1e-4), loss='mean_squared_error', metrics=['accuracy'])\n",
    "#model.compile(optimizer=RMSprop(lr=1e-4), loss='binary_crossentropy', metrics=['accuracy'])\n",
    "model.compile(optimizer=opt,loss='mean_squared_error', metrics=['accuracy'])\n",
    "model.summary()"
   ]
  },
  {
   "cell_type": "code",
   "execution_count": 46,
   "metadata": {},
   "outputs": [
    {
     "name": "stdout",
     "output_type": "stream",
     "text": [
      "__________________________________________________________________________________________________\n",
      "Layer (type)                    Output Shape         Param #     Connected to                     \n",
      "==================================================================================================\n",
      "input_7 (InputLayer)            (None, 18)           0                                            \n",
      "__________________________________________________________________________________________________\n",
      "input_8 (InputLayer)            (None, 18)           0                                            \n",
      "__________________________________________________________________________________________________\n",
      "embedding_1 (Embedding)         (None, 18, 300)      2676300     input_7[0][0]                    \n",
      "                                                                 input_8[0][0]                    \n",
      "__________________________________________________________________________________________________\n",
      "lstm_5 (LSTM)                   (None, 300)          721200      embedding_1[6][0]                \n",
      "                                                                 embedding_1[7][0]                \n",
      "__________________________________________________________________________________________________\n",
      "lambda_2 (Lambda)               (None, 1)            0           lstm_5[0][0]                     \n",
      "                                                                 lstm_5[1][0]                     \n",
      "==================================================================================================\n",
      "Total params: 3,397,500\n",
      "Trainable params: 721,200\n",
      "Non-trainable params: 2,676,300\n",
      "__________________________________________________________________________________________________\n"
     ]
    }
   ],
   "source": [
    "n_hidden = 300\n",
    "gradient_clipping_norm = 1.25\n",
    "batch_size = 64\n",
    "#n_epoch = 25\n",
    "\n",
    "def exponent_neg_manhattan_distance(left, right):\n",
    "    ''' Helper function for the similarity estimate of the LSTMs outputs'''\n",
    "    return K.exp(-K.sum(K.abs(left-right), axis=1, keepdims=True))\n",
    "\n",
    "# The visible layer\n",
    "left_input = Input(shape=(MAX_SEQ_LEN,), dtype='int32')\n",
    "right_input = Input(shape=(MAX_SEQ_LEN,), dtype='int32')\n",
    "\n",
    "#embedding_layer = Embedding(len(embeddings), embedding_dim, weights=[embeddings], input_length=max_seq_length, trainable=False)\n",
    "\n",
    "# Embedded version of the inputs\n",
    "encoded_left = embedding_layer(left_input)\n",
    "encoded_right = embedding_layer(right_input)\n",
    "\n",
    "# Since this is a siamese network, both sides share the same LSTM\n",
    "shared_lstm = LSTM(n_hidden)\n",
    "\n",
    "left_output = shared_lstm(encoded_left)\n",
    "right_output = shared_lstm(encoded_right)\n",
    "\n",
    "# Calculates the distance as defined by the MaLSTM model\n",
    "malstm_distance = Lambda(function=lambda x: exponent_neg_manhattan_distance(x[0], x[1]),output_shape=lambda x: (x[0][0], 1))([left_output, right_output])\n",
    "\n",
    "# Pack it all up into a model\n",
    "model = Model([left_input, right_input], [malstm_distance])\n",
    "\n",
    "# Adadelta optimizer, with gradient clipping by norm\n",
    "optimizer = Adadelta()#clipnorm=gradient_clipping_norm\n",
    "\n",
    "model.compile(loss='mean_squared_error', optimizer=optimizer, metrics=['accuracy'])\n",
    "model.summary()"
   ]
  },
  {
   "cell_type": "code",
   "execution_count": 56,
   "metadata": {},
   "outputs": [
    {
     "name": "stdout",
     "output_type": "stream",
     "text": [
      "Train on 11530 samples, validate on 4142 samples\n",
      "Epoch 1/2\n",
      "11530/11530 [==============================] - 13s 1ms/step - loss: 0.1789 - acc: 0.7414 - val_loss: 0.2176 - val_acc: 0.6569\n",
      "Epoch 2/2\n",
      "11530/11530 [==============================] - 13s 1ms/step - loss: 0.1755 - acc: 0.7475 - val_loss: 0.2645 - val_acc: 0.6543\n"
     ]
    },
    {
     "data": {
      "text/plain": [
       "<keras.callbacks.History at 0x7ff2348d9d68>"
      ]
     },
     "execution_count": 56,
     "metadata": {},
     "output_type": "execute_result"
    }
   ],
   "source": [
    "model.fit([padding(train_encoder_seqs), padding(train_decoder_seqs)], np.array(train_labels),\n",
    "          batch_size = 64, epochs = 2, validation_data = ([padding(dev_encoder_seqs), padding(dev_decoder_seqs)], dev_labels))"
   ]
  },
  {
   "cell_type": "code",
   "execution_count": 65,
   "metadata": {},
   "outputs": [
    {
     "name": "stdout",
     "output_type": "stream",
     "text": [
      "              precision    recall  f1-score   support\n",
      "\n",
      "       False       0.73      0.55      0.62      2672\n",
      "        True       0.43      0.63      0.51      1470\n",
      "\n",
      "   micro avg       0.57      0.57      0.57      4142\n",
      "   macro avg       0.58      0.59      0.57      4142\n",
      "weighted avg       0.62      0.57      0.58      4142\n",
      "\n"
     ]
    }
   ],
   "source": [
    "from sklearn.metrics import classification_report\n",
    "\n",
    "print(classification_report(dev_labels, [prob.item() > 0.1 for prob in model.predict([padding(dev_encoder_seqs), padding(dev_decoder_seqs)])]))"
   ]
  },
  {
   "cell_type": "code",
   "execution_count": 64,
   "metadata": {},
   "outputs": [
    {
     "name": "stdout",
     "output_type": "stream",
     "text": [
      "              precision    recall  f1-score   support\n",
      "\n",
      "       False       0.79      1.00      0.89       663\n",
      "        True       0.80      0.02      0.04       175\n",
      "\n",
      "   micro avg       0.79      0.79      0.79       838\n",
      "   macro avg       0.80      0.51      0.46       838\n",
      "weighted avg       0.80      0.79      0.71       838\n",
      "\n"
     ]
    }
   ],
   "source": [
    "from sklearn.metrics import classification_report\n",
    "\n",
    "print(classification_report(test_labels, [prob.item() > 0.5 for prob in model.predict([padding(test_encoder_seqs), padding(test_decoder_seqs)])]))"
   ]
  },
  {
   "cell_type": "code",
   "execution_count": 61,
   "metadata": {},
   "outputs": [
    {
     "data": {
      "text/plain": [
       "[array([0.19480483], dtype=float32),\n",
       " array([0.09724023], dtype=float32),\n",
       " array([0.1721062], dtype=float32),\n",
       " array([0.24150527], dtype=float32),\n",
       " array([0.01772683], dtype=float32),\n",
       " array([0.14233409], dtype=float32),\n",
       " array([0.03521702], dtype=float32),\n",
       " array([0.02362542], dtype=float32),\n",
       " array([0.05784016], dtype=float32),\n",
       " array([0.0470014], dtype=float32),\n",
       " array([0.05055037], dtype=float32),\n",
       " array([0.12591657], dtype=float32),\n",
       " array([0.02147567], dtype=float32),\n",
       " array([0.28779206], dtype=float32),\n",
       " array([0.09898105], dtype=float32),\n",
       " array([0.03990361], dtype=float32),\n",
       " array([0.08415841], dtype=float32),\n",
       " array([0.57341003], dtype=float32),\n",
       " array([0.10009886], dtype=float32),\n",
       " array([0.15213118], dtype=float32),\n",
       " array([0.32510757], dtype=float32),\n",
       " array([0.35704452], dtype=float32),\n",
       " array([0.19132434], dtype=float32),\n",
       " array([0.34612715], dtype=float32),\n",
       " array([0.02910237], dtype=float32),\n",
       " array([0.14084852], dtype=float32),\n",
       " array([0.05263627], dtype=float32),\n",
       " array([0.08430904], dtype=float32),\n",
       " array([0.16928096], dtype=float32),\n",
       " array([0.00295351], dtype=float32),\n",
       " array([0.08208766], dtype=float32),\n",
       " array([0.0375536], dtype=float32),\n",
       " array([0.02843101], dtype=float32),\n",
       " array([0.04095802], dtype=float32),\n",
       " array([0.0188254], dtype=float32),\n",
       " array([0.3049518], dtype=float32),\n",
       " array([0.09144872], dtype=float32),\n",
       " array([0.21412916], dtype=float32),\n",
       " array([0.12187062], dtype=float32),\n",
       " array([0.07903327], dtype=float32),\n",
       " array([0.29811296], dtype=float32),\n",
       " array([0.07666432], dtype=float32),\n",
       " array([0.03636356], dtype=float32),\n",
       " array([0.20457613], dtype=float32),\n",
       " array([0.06395482], dtype=float32),\n",
       " array([0.06448531], dtype=float32),\n",
       " array([0.11623374], dtype=float32),\n",
       " array([0.17603697], dtype=float32),\n",
       " array([0.41959387], dtype=float32),\n",
       " array([0.13717297], dtype=float32),\n",
       " array([0.17482111], dtype=float32),\n",
       " array([0.04141067], dtype=float32),\n",
       " array([0.02922047], dtype=float32),\n",
       " array([0.11779506], dtype=float32),\n",
       " array([0.04489053], dtype=float32),\n",
       " array([0.02559344], dtype=float32),\n",
       " array([0.00423115], dtype=float32),\n",
       " array([0.06223639], dtype=float32),\n",
       " array([0.03372935], dtype=float32),\n",
       " array([0.12605847], dtype=float32),\n",
       " array([0.05454887], dtype=float32),\n",
       " array([0.10834125], dtype=float32),\n",
       " array([0.04539473], dtype=float32),\n",
       " array([0.03959024], dtype=float32),\n",
       " array([0.11095513], dtype=float32),\n",
       " array([0.07711464], dtype=float32),\n",
       " array([0.0516386], dtype=float32),\n",
       " array([0.16554324], dtype=float32),\n",
       " array([0.01676524], dtype=float32),\n",
       " array([0.14231089], dtype=float32),\n",
       " array([0.12207047], dtype=float32),\n",
       " array([0.17904861], dtype=float32),\n",
       " array([0.03469662], dtype=float32),\n",
       " array([0.05736191], dtype=float32),\n",
       " array([0.05545167], dtype=float32),\n",
       " array([0.0480841], dtype=float32),\n",
       " array([1.014326e-05], dtype=float32),\n",
       " array([0.15774725], dtype=float32),\n",
       " array([0.18328637], dtype=float32),\n",
       " array([0.03749524], dtype=float32),\n",
       " array([0.0657026], dtype=float32),\n",
       " array([0.26563203], dtype=float32),\n",
       " array([0.0022653], dtype=float32),\n",
       " array([0.05533081], dtype=float32),\n",
       " array([0.19007777], dtype=float32),\n",
       " array([0.13105148], dtype=float32),\n",
       " array([0.05618818], dtype=float32),\n",
       " array([0.29585877], dtype=float32),\n",
       " array([0.00026777], dtype=float32),\n",
       " array([0.05670315], dtype=float32),\n",
       " array([0.29492384], dtype=float32),\n",
       " array([0.00701272], dtype=float32),\n",
       " array([0.01442316], dtype=float32),\n",
       " array([0.01610305], dtype=float32),\n",
       " array([0.03395738], dtype=float32),\n",
       " array([0.20745592], dtype=float32),\n",
       " array([0.10049973], dtype=float32),\n",
       " array([0.04303324], dtype=float32),\n",
       " array([0.20596907], dtype=float32),\n",
       " array([0.00794141], dtype=float32),\n",
       " array([5.4956153e-08], dtype=float32),\n",
       " array([0.05698896], dtype=float32),\n",
       " array([0.08934591], dtype=float32),\n",
       " array([0.06443947], dtype=float32),\n",
       " array([0.00199746], dtype=float32),\n",
       " array([0.00442172], dtype=float32),\n",
       " array([0.0039069], dtype=float32),\n",
       " array([0.00358975], dtype=float32),\n",
       " array([1.0258107e-13], dtype=float32),\n",
       " array([0.00253643], dtype=float32),\n",
       " array([0.02797738], dtype=float32),\n",
       " array([0.03389842], dtype=float32),\n",
       " array([0.04390022], dtype=float32),\n",
       " array([0.04224715], dtype=float32),\n",
       " array([0.03736506], dtype=float32),\n",
       " array([0.00282539], dtype=float32),\n",
       " array([0.05039519], dtype=float32),\n",
       " array([0.05789654], dtype=float32),\n",
       " array([0.02089562], dtype=float32),\n",
       " array([0.06342646], dtype=float32),\n",
       " array([0.03559138], dtype=float32),\n",
       " array([0.09118259], dtype=float32),\n",
       " array([0.0913861], dtype=float32),\n",
       " array([0.05433874], dtype=float32),\n",
       " array([0.11534037], dtype=float32),\n",
       " array([0.14054108], dtype=float32),\n",
       " array([0.0288038], dtype=float32),\n",
       " array([0.06242908], dtype=float32),\n",
       " array([0.14144407], dtype=float32),\n",
       " array([0.06870253], dtype=float32),\n",
       " array([0.04913308], dtype=float32),\n",
       " array([0.09446142], dtype=float32),\n",
       " array([0.16439404], dtype=float32),\n",
       " array([0.0963845], dtype=float32),\n",
       " array([0.08255096], dtype=float32),\n",
       " array([0.01920737], dtype=float32),\n",
       " array([0.08019832], dtype=float32),\n",
       " array([0.22828738], dtype=float32),\n",
       " array([0.06840612], dtype=float32),\n",
       " array([0.41647503], dtype=float32),\n",
       " array([0.30242595], dtype=float32),\n",
       " array([0.02296049], dtype=float32),\n",
       " array([0.17505664], dtype=float32),\n",
       " array([0.09078554], dtype=float32),\n",
       " array([0.1627143], dtype=float32),\n",
       " array([0.03120023], dtype=float32),\n",
       " array([0.1310731], dtype=float32),\n",
       " array([0.04954179], dtype=float32),\n",
       " array([0.08620008], dtype=float32),\n",
       " array([0.2326666], dtype=float32),\n",
       " array([0.03982556], dtype=float32),\n",
       " array([0.12725244], dtype=float32),\n",
       " array([0.05108614], dtype=float32),\n",
       " array([0.00384582], dtype=float32),\n",
       " array([0.0733038], dtype=float32),\n",
       " array([0.01471288], dtype=float32),\n",
       " array([0.31539437], dtype=float32),\n",
       " array([0.18720517], dtype=float32),\n",
       " array([0.04409482], dtype=float32),\n",
       " array([0.2797838], dtype=float32),\n",
       " array([0.17065626], dtype=float32),\n",
       " array([0.02667761], dtype=float32),\n",
       " array([0.10613384], dtype=float32),\n",
       " array([0.01622849], dtype=float32),\n",
       " array([0.05025276], dtype=float32),\n",
       " array([0.03946134], dtype=float32),\n",
       " array([0.1357479], dtype=float32),\n",
       " array([0.05939033], dtype=float32),\n",
       " array([0.12477362], dtype=float32),\n",
       " array([0.03338298], dtype=float32),\n",
       " array([0.0036917], dtype=float32),\n",
       " array([0.06484131], dtype=float32),\n",
       " array([0.02865534], dtype=float32),\n",
       " array([0.2228935], dtype=float32),\n",
       " array([0.01822376], dtype=float32),\n",
       " array([0.32478654], dtype=float32),\n",
       " array([0.20707825], dtype=float32),\n",
       " array([0.06213554], dtype=float32),\n",
       " array([0.07148823], dtype=float32),\n",
       " array([0.26501575], dtype=float32),\n",
       " array([0.08290719], dtype=float32),\n",
       " array([0.1445419], dtype=float32),\n",
       " array([0.02101834], dtype=float32),\n",
       " array([0.04804003], dtype=float32),\n",
       " array([0.06592805], dtype=float32),\n",
       " array([0.0067401], dtype=float32),\n",
       " array([0.00210579], dtype=float32),\n",
       " array([0.0001562], dtype=float32),\n",
       " array([0.21531732], dtype=float32),\n",
       " array([0.00181461], dtype=float32),\n",
       " array([0.2942647], dtype=float32),\n",
       " array([0.20096019], dtype=float32),\n",
       " array([0.31843325], dtype=float32),\n",
       " array([0.02314545], dtype=float32),\n",
       " array([0.01483875], dtype=float32),\n",
       " array([0.199142], dtype=float32),\n",
       " array([0.01852459], dtype=float32),\n",
       " array([0.02777752], dtype=float32),\n",
       " array([0.40934753], dtype=float32),\n",
       " array([0.44144857], dtype=float32),\n",
       " array([0.01828964], dtype=float32),\n",
       " array([0.08311132], dtype=float32),\n",
       " array([0.09289689], dtype=float32),\n",
       " array([0.07795341], dtype=float32),\n",
       " array([0.05861444], dtype=float32),\n",
       " array([0.12610997], dtype=float32),\n",
       " array([0.40170097], dtype=float32),\n",
       " array([0.09246202], dtype=float32),\n",
       " array([0.04629254], dtype=float32),\n",
       " array([0.2799326], dtype=float32),\n",
       " array([0.15444466], dtype=float32),\n",
       " array([0.25940114], dtype=float32),\n",
       " array([0.13419181], dtype=float32),\n",
       " array([0.1539602], dtype=float32),\n",
       " array([0.3880442], dtype=float32),\n",
       " array([1.2600882e-23], dtype=float32),\n",
       " array([2.4378964e-05], dtype=float32),\n",
       " array([0.07238543], dtype=float32),\n",
       " array([0.03542799], dtype=float32),\n",
       " array([0.02721876], dtype=float32),\n",
       " array([0.00292514], dtype=float32),\n",
       " array([0.02470951], dtype=float32),\n",
       " array([0.00463282], dtype=float32),\n",
       " array([0.00713168], dtype=float32),\n",
       " array([0.220419], dtype=float32),\n",
       " array([9.7846285e-05], dtype=float32),\n",
       " array([0.06574575], dtype=float32),\n",
       " array([0.24008237], dtype=float32),\n",
       " array([0.00090342], dtype=float32),\n",
       " array([0.2427628], dtype=float32),\n",
       " array([0.30978212], dtype=float32),\n",
       " array([0.03517333], dtype=float32),\n",
       " array([0.05627201], dtype=float32),\n",
       " array([0.0062142], dtype=float32),\n",
       " array([0.00107827], dtype=float32),\n",
       " array([0.32984805], dtype=float32),\n",
       " array([0.01721813], dtype=float32),\n",
       " array([0.09124263], dtype=float32),\n",
       " array([0.17737295], dtype=float32),\n",
       " array([0.22196858], dtype=float32),\n",
       " array([0.2680145], dtype=float32),\n",
       " array([0.22621824], dtype=float32),\n",
       " array([0.00660451], dtype=float32),\n",
       " array([0.00335839], dtype=float32),\n",
       " array([0.0206837], dtype=float32),\n",
       " array([0.13314952], dtype=float32),\n",
       " array([0.00037803], dtype=float32),\n",
       " array([0.11048019], dtype=float32),\n",
       " array([0.00787408], dtype=float32),\n",
       " array([0.00788997], dtype=float32),\n",
       " array([0.03341386], dtype=float32),\n",
       " array([0.06824755], dtype=float32),\n",
       " array([0.20534255], dtype=float32),\n",
       " array([0.06435544], dtype=float32),\n",
       " array([0.08474964], dtype=float32),\n",
       " array([0.03223706], dtype=float32),\n",
       " array([0.01016465], dtype=float32),\n",
       " array([0.01546836], dtype=float32),\n",
       " array([0.00487353], dtype=float32),\n",
       " array([0.00654113], dtype=float32),\n",
       " array([0.10114297], dtype=float32),\n",
       " array([0.24851017], dtype=float32),\n",
       " array([0.10130278], dtype=float32),\n",
       " array([0.03893285], dtype=float32),\n",
       " array([0.02168261], dtype=float32),\n",
       " array([0.00289507], dtype=float32),\n",
       " array([0.18735994], dtype=float32),\n",
       " array([0.22675906], dtype=float32),\n",
       " array([0.0842376], dtype=float32),\n",
       " array([0.1080849], dtype=float32),\n",
       " array([0.13222621], dtype=float32),\n",
       " array([0.2206938], dtype=float32),\n",
       " array([0.15438783], dtype=float32),\n",
       " array([0.12621118], dtype=float32),\n",
       " array([0.09694361], dtype=float32),\n",
       " array([0.08717495], dtype=float32),\n",
       " array([0.03881032], dtype=float32),\n",
       " array([0.01859611], dtype=float32),\n",
       " array([0.17971475], dtype=float32),\n",
       " array([0.07279044], dtype=float32),\n",
       " array([0.03495773], dtype=float32),\n",
       " array([0.03645488], dtype=float32),\n",
       " array([0.0576168], dtype=float32),\n",
       " array([0.10970974], dtype=float32),\n",
       " array([0.21116316], dtype=float32),\n",
       " array([0.30833837], dtype=float32),\n",
       " array([0.3230024], dtype=float32),\n",
       " array([0.1261916], dtype=float32),\n",
       " array([0.12639283], dtype=float32),\n",
       " array([0.19581825], dtype=float32),\n",
       " array([0.14816707], dtype=float32),\n",
       " array([0.18162005], dtype=float32),\n",
       " array([0.01242526], dtype=float32),\n",
       " array([0.11285897], dtype=float32),\n",
       " array([0.06638667], dtype=float32),\n",
       " array([0.1077732], dtype=float32),\n",
       " array([0.13547985], dtype=float32),\n",
       " array([0.0462172], dtype=float32),\n",
       " array([0.03296516], dtype=float32),\n",
       " array([9.74927e-05], dtype=float32),\n",
       " array([1.3268986e-08], dtype=float32),\n",
       " array([2.1761329e-08], dtype=float32),\n",
       " array([2.4342777e-08], dtype=float32),\n",
       " array([2.1386217e-09], dtype=float32),\n",
       " array([0.04259618], dtype=float32),\n",
       " array([0.00573231], dtype=float32),\n",
       " array([0.07371116], dtype=float32),\n",
       " array([0.0207261], dtype=float32),\n",
       " array([0.08981287], dtype=float32),\n",
       " array([0.00217409], dtype=float32),\n",
       " array([0.132222], dtype=float32),\n",
       " array([0.16549775], dtype=float32),\n",
       " array([0.00876227], dtype=float32),\n",
       " array([0.22866812], dtype=float32),\n",
       " array([0.04123385], dtype=float32),\n",
       " array([0.19385782], dtype=float32),\n",
       " array([0.00271711], dtype=float32),\n",
       " array([0.09598942], dtype=float32),\n",
       " array([0.17223932], dtype=float32),\n",
       " array([0.27560735], dtype=float32),\n",
       " array([0.14588425], dtype=float32),\n",
       " array([0.11492305], dtype=float32),\n",
       " array([0.00426531], dtype=float32),\n",
       " array([0.01394633], dtype=float32),\n",
       " array([0.03903263], dtype=float32),\n",
       " array([0.04364062], dtype=float32),\n",
       " array([0.4341399], dtype=float32),\n",
       " array([0.00132506], dtype=float32),\n",
       " array([0.22973576], dtype=float32),\n",
       " array([0.0734396], dtype=float32),\n",
       " array([0.44076145], dtype=float32),\n",
       " array([0.11482362], dtype=float32),\n",
       " array([0.03990661], dtype=float32),\n",
       " array([0.01293834], dtype=float32),\n",
       " array([0.04236694], dtype=float32),\n",
       " array([0.3803734], dtype=float32),\n",
       " array([0.06123554], dtype=float32),\n",
       " array([0.01063546], dtype=float32),\n",
       " array([0.0101068], dtype=float32),\n",
       " array([0.02362835], dtype=float32),\n",
       " array([0.20295197], dtype=float32),\n",
       " array([4.0225004e-06], dtype=float32),\n",
       " array([0.08944741], dtype=float32),\n",
       " array([0.5813458], dtype=float32),\n",
       " array([0.28222525], dtype=float32),\n",
       " array([0.24229364], dtype=float32),\n",
       " array([0.09520306], dtype=float32),\n",
       " array([0.00032737], dtype=float32),\n",
       " array([0.0003104], dtype=float32),\n",
       " array([0.01663354], dtype=float32),\n",
       " array([0.03270843], dtype=float32),\n",
       " array([0.20940012], dtype=float32),\n",
       " array([0.05779193], dtype=float32),\n",
       " array([0.07033123], dtype=float32),\n",
       " array([0.00773385], dtype=float32),\n",
       " array([0.04628117], dtype=float32),\n",
       " array([0.08117273], dtype=float32),\n",
       " array([0.1742748], dtype=float32),\n",
       " array([0.10238812], dtype=float32),\n",
       " array([0.12383105], dtype=float32),\n",
       " array([0.12055381], dtype=float32),\n",
       " array([0.09852791], dtype=float32),\n",
       " array([0.06751244], dtype=float32),\n",
       " array([0.0596696], dtype=float32),\n",
       " array([0.21333247], dtype=float32),\n",
       " array([0.09551735], dtype=float32),\n",
       " array([0.11598264], dtype=float32),\n",
       " array([0.06602127], dtype=float32),\n",
       " array([0.12965676], dtype=float32),\n",
       " array([0.30203694], dtype=float32),\n",
       " array([0.14599335], dtype=float32),\n",
       " array([0.14128701], dtype=float32),\n",
       " array([0.0571855], dtype=float32),\n",
       " array([0.2338583], dtype=float32),\n",
       " array([0.16833627], dtype=float32),\n",
       " array([0.23732874], dtype=float32),\n",
       " array([0.33442307], dtype=float32),\n",
       " array([0.25415534], dtype=float32),\n",
       " array([0.2275625], dtype=float32),\n",
       " array([0.15648617], dtype=float32),\n",
       " array([0.08219317], dtype=float32),\n",
       " array([0.01531837], dtype=float32),\n",
       " array([0.14293951], dtype=float32),\n",
       " array([0.05191804], dtype=float32),\n",
       " array([0.0337622], dtype=float32),\n",
       " array([0.16851449], dtype=float32),\n",
       " array([0.05088985], dtype=float32),\n",
       " array([0.03082485], dtype=float32),\n",
       " array([0.04037638], dtype=float32),\n",
       " array([0.01233203], dtype=float32),\n",
       " array([0.03241731], dtype=float32),\n",
       " array([0.00840886], dtype=float32),\n",
       " array([0.00086752], dtype=float32),\n",
       " array([0.00158606], dtype=float32),\n",
       " array([0.00383551], dtype=float32),\n",
       " array([0.00068759], dtype=float32),\n",
       " array([0.00042659], dtype=float32),\n",
       " array([0.04222298], dtype=float32),\n",
       " array([0.09524281], dtype=float32),\n",
       " array([0.00661734], dtype=float32),\n",
       " array([0.07226958], dtype=float32),\n",
       " array([0.23501486], dtype=float32),\n",
       " array([0.03365591], dtype=float32),\n",
       " array([0.34803262], dtype=float32),\n",
       " array([0.02921674], dtype=float32),\n",
       " array([0.48574734], dtype=float32),\n",
       " array([0.22007674], dtype=float32),\n",
       " array([0.17104957], dtype=float32),\n",
       " array([0.2433675], dtype=float32),\n",
       " array([0.14674889], dtype=float32),\n",
       " array([0.21921839], dtype=float32),\n",
       " array([0.07125968], dtype=float32),\n",
       " array([0.18339786], dtype=float32),\n",
       " array([0.08083158], dtype=float32),\n",
       " array([0.1571644], dtype=float32),\n",
       " array([0.01161792], dtype=float32),\n",
       " array([0.01535627], dtype=float32),\n",
       " array([0.07330092], dtype=float32),\n",
       " array([0.10604149], dtype=float32),\n",
       " array([0.06164005], dtype=float32),\n",
       " array([0.12458708], dtype=float32),\n",
       " array([0.07310977], dtype=float32),\n",
       " array([0.02384145], dtype=float32),\n",
       " array([0.08262007], dtype=float32),\n",
       " array([0.10289331], dtype=float32),\n",
       " array([0.09675238], dtype=float32),\n",
       " array([0.03937659], dtype=float32),\n",
       " array([0.3522257], dtype=float32),\n",
       " array([0.11451975], dtype=float32),\n",
       " array([0.03149781], dtype=float32),\n",
       " array([0.27010593], dtype=float32),\n",
       " array([0.03695291], dtype=float32),\n",
       " array([0.12840094], dtype=float32),\n",
       " array([0.09601615], dtype=float32),\n",
       " array([0.2739297], dtype=float32),\n",
       " array([0.26315588], dtype=float32),\n",
       " array([0.11683805], dtype=float32),\n",
       " array([0.07218035], dtype=float32),\n",
       " array([0.0136082], dtype=float32),\n",
       " array([0.04895285], dtype=float32),\n",
       " array([0.05648394], dtype=float32),\n",
       " array([0.12892553], dtype=float32),\n",
       " array([0.02880102], dtype=float32),\n",
       " array([0.4228702], dtype=float32),\n",
       " array([0.23861593], dtype=float32),\n",
       " array([0.3058838], dtype=float32),\n",
       " array([0.01853206], dtype=float32),\n",
       " array([0.11521812], dtype=float32),\n",
       " array([0.07183169], dtype=float32),\n",
       " array([0.19050099], dtype=float32),\n",
       " array([0.25079134], dtype=float32),\n",
       " array([0.03259486], dtype=float32),\n",
       " array([0.00245764], dtype=float32),\n",
       " array([0.11919615], dtype=float32),\n",
       " array([0.08566097], dtype=float32),\n",
       " array([0.02290404], dtype=float32),\n",
       " array([0.13795857], dtype=float32),\n",
       " array([0.01025148], dtype=float32),\n",
       " array([0.05011627], dtype=float32),\n",
       " array([0.26577222], dtype=float32),\n",
       " array([0.07320771], dtype=float32),\n",
       " array([0.31650957], dtype=float32),\n",
       " array([0.19350713], dtype=float32),\n",
       " array([0.00154752], dtype=float32),\n",
       " array([0.07211874], dtype=float32),\n",
       " array([0.53404284], dtype=float32),\n",
       " array([0.14825594], dtype=float32),\n",
       " array([0.36602363], dtype=float32),\n",
       " array([0.10365947], dtype=float32),\n",
       " array([0.14356449], dtype=float32),\n",
       " array([0.1915185], dtype=float32),\n",
       " array([0.0756375], dtype=float32),\n",
       " array([0.07457692], dtype=float32),\n",
       " array([0.20696446], dtype=float32),\n",
       " array([0.03094091], dtype=float32),\n",
       " array([0.14499763], dtype=float32),\n",
       " array([0.22496378], dtype=float32),\n",
       " array([0.00304141], dtype=float32),\n",
       " array([0.07656249], dtype=float32),\n",
       " array([6.4291266e-06], dtype=float32),\n",
       " array([1.8139712e-05], dtype=float32),\n",
       " array([8.931288e-06], dtype=float32),\n",
       " array([0.0689416], dtype=float32),\n",
       " array([0.08744851], dtype=float32),\n",
       " array([0.01180974], dtype=float32),\n",
       " array([0.01975609], dtype=float32),\n",
       " array([0.05531603], dtype=float32),\n",
       " array([0.06850193], dtype=float32),\n",
       " array([0.04870546], dtype=float32),\n",
       " array([0.15087527], dtype=float32),\n",
       " array([0.01946913], dtype=float32),\n",
       " array([0.04574133], dtype=float32),\n",
       " array([0.07717094], dtype=float32),\n",
       " array([0.00051148], dtype=float32),\n",
       " array([0.05851353], dtype=float32),\n",
       " array([0.17643692], dtype=float32),\n",
       " array([1.0604797e-06], dtype=float32),\n",
       " array([0.09615766], dtype=float32),\n",
       " array([0.11805132], dtype=float32),\n",
       " array([0.0503061], dtype=float32),\n",
       " array([5.9914905e-06], dtype=float32),\n",
       " array([0.06797656], dtype=float32),\n",
       " array([0.03010962], dtype=float32),\n",
       " array([0.07191502], dtype=float32),\n",
       " array([0.08914693], dtype=float32),\n",
       " array([0.2924888], dtype=float32),\n",
       " array([0.1441832], dtype=float32),\n",
       " array([0.14175089], dtype=float32),\n",
       " array([0.11714091], dtype=float32),\n",
       " array([0.248713], dtype=float32),\n",
       " array([0.1745669], dtype=float32),\n",
       " array([0.1324253], dtype=float32),\n",
       " array([0.06895525], dtype=float32),\n",
       " array([0.1300372], dtype=float32),\n",
       " array([0.08820576], dtype=float32),\n",
       " array([0.14965522], dtype=float32),\n",
       " array([4.598661e-06], dtype=float32),\n",
       " array([0.03155757], dtype=float32),\n",
       " array([0.17931901], dtype=float32),\n",
       " array([0.21988975], dtype=float32),\n",
       " array([0.1498782], dtype=float32),\n",
       " array([0.17355084], dtype=float32),\n",
       " array([0.21473701], dtype=float32),\n",
       " array([0.10913906], dtype=float32),\n",
       " array([0.01918316], dtype=float32),\n",
       " array([0.18203631], dtype=float32),\n",
       " array([0.19379923], dtype=float32),\n",
       " array([0.3293678], dtype=float32),\n",
       " array([0.26149052], dtype=float32),\n",
       " array([0.20988858], dtype=float32),\n",
       " array([0.00676073], dtype=float32),\n",
       " array([0.00583243], dtype=float32),\n",
       " array([0.3486881], dtype=float32),\n",
       " array([0.30302608], dtype=float32),\n",
       " array([0.06440401], dtype=float32),\n",
       " array([0.06719854], dtype=float32),\n",
       " array([0.15704577], dtype=float32),\n",
       " array([0.03258277], dtype=float32),\n",
       " array([0.10472157], dtype=float32),\n",
       " array([0.14649859], dtype=float32),\n",
       " array([0.14249611], dtype=float32),\n",
       " array([0.23610103], dtype=float32),\n",
       " array([0.47154918], dtype=float32),\n",
       " array([0.04772729], dtype=float32),\n",
       " array([0.37437317], dtype=float32),\n",
       " array([0.2260822], dtype=float32),\n",
       " array([0.2554368], dtype=float32),\n",
       " array([0.12570418], dtype=float32),\n",
       " array([0.444392], dtype=float32),\n",
       " array([0.3264213], dtype=float32),\n",
       " array([0.31677014], dtype=float32),\n",
       " array([0.0269245], dtype=float32),\n",
       " array([0.3060991], dtype=float32),\n",
       " array([0.11612876], dtype=float32),\n",
       " array([0.4415207], dtype=float32),\n",
       " array([0.20254685], dtype=float32),\n",
       " array([0.41298884], dtype=float32),\n",
       " array([0.42674604], dtype=float32),\n",
       " array([0.58855486], dtype=float32),\n",
       " array([0.2397172], dtype=float32),\n",
       " array([0.01870487], dtype=float32),\n",
       " array([0.07819488], dtype=float32),\n",
       " array([0.03139621], dtype=float32),\n",
       " array([0.32108173], dtype=float32),\n",
       " array([0.06153987], dtype=float32),\n",
       " array([0.10066827], dtype=float32),\n",
       " array([0.28376845], dtype=float32),\n",
       " array([0.02046245], dtype=float32),\n",
       " array([0.00220541], dtype=float32),\n",
       " array([0.08444482], dtype=float32),\n",
       " array([0.08179215], dtype=float32),\n",
       " array([0.11734385], dtype=float32),\n",
       " array([0.15729444], dtype=float32),\n",
       " array([0.05868672], dtype=float32),\n",
       " array([0.25135213], dtype=float32),\n",
       " array([0.08165666], dtype=float32),\n",
       " array([0.20968832], dtype=float32),\n",
       " array([0.10187232], dtype=float32),\n",
       " array([0.32072031], dtype=float32),\n",
       " array([0.02449121], dtype=float32),\n",
       " array([0.21806741], dtype=float32),\n",
       " array([0.10793158], dtype=float32),\n",
       " array([0.00516311], dtype=float32),\n",
       " array([0.09821768], dtype=float32),\n",
       " array([0.08151952], dtype=float32),\n",
       " array([0.03601493], dtype=float32),\n",
       " array([0.12328565], dtype=float32),\n",
       " array([0.28392246], dtype=float32),\n",
       " array([0.29869553], dtype=float32),\n",
       " array([0.09162245], dtype=float32),\n",
       " array([0.06624578], dtype=float32),\n",
       " array([0.10273203], dtype=float32),\n",
       " array([0.17571771], dtype=float32),\n",
       " array([0.13079172], dtype=float32),\n",
       " array([0.21149653], dtype=float32),\n",
       " array([0.5943061], dtype=float32),\n",
       " array([0.2770776], dtype=float32),\n",
       " array([0.0060989], dtype=float32),\n",
       " array([0.00701022], dtype=float32),\n",
       " array([9.157913e-12], dtype=float32),\n",
       " array([0.14549145], dtype=float32),\n",
       " array([0.16290021], dtype=float32),\n",
       " array([0.11994336], dtype=float32),\n",
       " array([0.019097], dtype=float32),\n",
       " array([0.04177503], dtype=float32),\n",
       " array([0.14443062], dtype=float32),\n",
       " array([0.07664052], dtype=float32),\n",
       " array([0.37935966], dtype=float32),\n",
       " array([0.3908333], dtype=float32),\n",
       " array([0.16801962], dtype=float32),\n",
       " array([0.00407143], dtype=float32),\n",
       " array([0.06159699], dtype=float32),\n",
       " array([0.08879818], dtype=float32),\n",
       " array([0.05000857], dtype=float32),\n",
       " array([0.05325066], dtype=float32),\n",
       " array([0.03191511], dtype=float32),\n",
       " array([0.00524549], dtype=float32),\n",
       " array([0.00591098], dtype=float32),\n",
       " array([0.02272498], dtype=float32),\n",
       " array([0.03147433], dtype=float32),\n",
       " array([0.11931201], dtype=float32),\n",
       " array([0.05420164], dtype=float32),\n",
       " array([0.08655095], dtype=float32),\n",
       " array([0.14465341], dtype=float32),\n",
       " array([0.30066115], dtype=float32),\n",
       " array([0.17033863], dtype=float32),\n",
       " array([0.11857011], dtype=float32),\n",
       " array([0.07587906], dtype=float32),\n",
       " array([0.12235057], dtype=float32),\n",
       " array([0.25354573], dtype=float32),\n",
       " array([0.05503865], dtype=float32),\n",
       " array([0.12524767], dtype=float32),\n",
       " array([0.14394696], dtype=float32),\n",
       " array([0.23087788], dtype=float32),\n",
       " array([0.02728876], dtype=float32),\n",
       " array([0.27328506], dtype=float32),\n",
       " array([0.17203921], dtype=float32),\n",
       " array([0.16619746], dtype=float32),\n",
       " array([0.08263422], dtype=float32),\n",
       " array([0.13895513], dtype=float32),\n",
       " array([0.0892931], dtype=float32),\n",
       " array([0.0345434], dtype=float32),\n",
       " array([0.0987809], dtype=float32),\n",
       " array([0.1778999], dtype=float32),\n",
       " array([0.02423301], dtype=float32),\n",
       " array([0.12635276], dtype=float32),\n",
       " array([0.48491627], dtype=float32),\n",
       " array([0.21972772], dtype=float32),\n",
       " array([0.11737619], dtype=float32),\n",
       " array([0.10931268], dtype=float32),\n",
       " array([0.1009979], dtype=float32),\n",
       " array([0.2829136], dtype=float32),\n",
       " array([0.13551904], dtype=float32),\n",
       " array([0.0931027], dtype=float32),\n",
       " array([0.02286042], dtype=float32),\n",
       " array([0.4043142], dtype=float32),\n",
       " array([0.1679703], dtype=float32),\n",
       " array([0.12431185], dtype=float32),\n",
       " array([0.17823587], dtype=float32),\n",
       " array([0.00017266], dtype=float32),\n",
       " array([0.0001097], dtype=float32),\n",
       " array([7.913498e-06], dtype=float32),\n",
       " array([0.16653475], dtype=float32),\n",
       " array([0.16224277], dtype=float32),\n",
       " array([0.09117831], dtype=float32),\n",
       " array([0.05659839], dtype=float32),\n",
       " array([0.08005358], dtype=float32),\n",
       " array([0.06064684], dtype=float32),\n",
       " array([0.06269132], dtype=float32),\n",
       " array([0.13080993], dtype=float32),\n",
       " array([0.00268062], dtype=float32),\n",
       " array([0.268871], dtype=float32),\n",
       " array([0.01146782], dtype=float32),\n",
       " array([0.00539856], dtype=float32),\n",
       " array([0.41874075], dtype=float32),\n",
       " array([0.06973672], dtype=float32),\n",
       " array([0.16919626], dtype=float32),\n",
       " array([0.16109848], dtype=float32),\n",
       " array([0.02198987], dtype=float32),\n",
       " array([0.0427386], dtype=float32),\n",
       " array([0.19728343], dtype=float32),\n",
       " array([0.08646534], dtype=float32),\n",
       " array([0.23312558], dtype=float32),\n",
       " array([0.00681236], dtype=float32),\n",
       " array([0.03539905], dtype=float32),\n",
       " array([0.2538492], dtype=float32),\n",
       " array([0.2304648], dtype=float32),\n",
       " array([2.7630149e-05], dtype=float32),\n",
       " array([0.00505613], dtype=float32),\n",
       " array([0.35561907], dtype=float32),\n",
       " array([0.23360834], dtype=float32),\n",
       " array([0.2954074], dtype=float32),\n",
       " array([0.00035178], dtype=float32),\n",
       " array([0.00032644], dtype=float32),\n",
       " array([0.26171833], dtype=float32),\n",
       " array([0.22647017], dtype=float32),\n",
       " array([0.14326373], dtype=float32),\n",
       " array([0.21771859], dtype=float32),\n",
       " array([0.1389774], dtype=float32),\n",
       " array([0.2223525], dtype=float32),\n",
       " array([0.04937233], dtype=float32),\n",
       " array([0.0841574], dtype=float32),\n",
       " array([0.01448126], dtype=float32),\n",
       " array([0.1527479], dtype=float32),\n",
       " array([0.07382815], dtype=float32),\n",
       " array([0.0078313], dtype=float32),\n",
       " array([0.04388555], dtype=float32),\n",
       " array([0.23725058], dtype=float32),\n",
       " array([0.06535312], dtype=float32),\n",
       " array([0.00021696], dtype=float32),\n",
       " array([0.03254308], dtype=float32),\n",
       " array([0.04864924], dtype=float32),\n",
       " array([0.13522214], dtype=float32),\n",
       " array([0.15146005], dtype=float32),\n",
       " array([0.05343469], dtype=float32),\n",
       " array([0.15474914], dtype=float32),\n",
       " array([0.15824185], dtype=float32),\n",
       " array([0.03471689], dtype=float32),\n",
       " array([0.02067289], dtype=float32),\n",
       " array([0.24390025], dtype=float32),\n",
       " array([0.03412781], dtype=float32),\n",
       " array([0.11215726], dtype=float32),\n",
       " array([0.1941989], dtype=float32),\n",
       " array([0.05347316], dtype=float32),\n",
       " array([0.02136623], dtype=float32),\n",
       " array([0.03135752], dtype=float32),\n",
       " array([0.03163251], dtype=float32),\n",
       " array([0.11636525], dtype=float32),\n",
       " array([0.27950686], dtype=float32),\n",
       " array([0.06526624], dtype=float32),\n",
       " array([0.12809472], dtype=float32),\n",
       " array([0.07789493], dtype=float32),\n",
       " array([0.09396281], dtype=float32),\n",
       " array([0.20608643], dtype=float32),\n",
       " array([0.11547244], dtype=float32),\n",
       " array([0.00409219], dtype=float32),\n",
       " array([0.03972431], dtype=float32),\n",
       " array([0.25291762], dtype=float32),\n",
       " array([0.00424808], dtype=float32),\n",
       " array([0.26989043], dtype=float32),\n",
       " array([0.05186985], dtype=float32),\n",
       " array([0.20878862], dtype=float32),\n",
       " array([0.03346496], dtype=float32),\n",
       " array([0.01764841], dtype=float32),\n",
       " array([0.01709582], dtype=float32),\n",
       " array([0.01920771], dtype=float32),\n",
       " array([0.11598024], dtype=float32),\n",
       " array([0.06262756], dtype=float32),\n",
       " array([0.07809383], dtype=float32),\n",
       " array([0.00071957], dtype=float32),\n",
       " array([0.01938348], dtype=float32),\n",
       " array([0.04885973], dtype=float32),\n",
       " array([0.00142241], dtype=float32),\n",
       " array([0.00148276], dtype=float32),\n",
       " array([0.00060825], dtype=float32),\n",
       " array([0.1331927], dtype=float32),\n",
       " array([0.03762115], dtype=float32),\n",
       " array([0.09203677], dtype=float32),\n",
       " array([0.21392368], dtype=float32),\n",
       " array([0.00369189], dtype=float32),\n",
       " array([0.361764], dtype=float32),\n",
       " array([0.24141502], dtype=float32),\n",
       " array([0.03707977], dtype=float32),\n",
       " array([0.31809866], dtype=float32),\n",
       " array([0.12701352], dtype=float32),\n",
       " array([0.01055152], dtype=float32),\n",
       " array([0.00946056], dtype=float32),\n",
       " array([0.02371634], dtype=float32),\n",
       " array([0.00370595], dtype=float32),\n",
       " array([0.0017096], dtype=float32),\n",
       " array([0.05603399], dtype=float32),\n",
       " array([0.04634168], dtype=float32),\n",
       " array([0.04903735], dtype=float32),\n",
       " array([0.01936635], dtype=float32),\n",
       " array([0.0788028], dtype=float32),\n",
       " array([0.29876935], dtype=float32),\n",
       " array([0.10703728], dtype=float32),\n",
       " array([0.27034232], dtype=float32),\n",
       " array([0.10739201], dtype=float32),\n",
       " array([0.19295251], dtype=float32),\n",
       " array([0.23897599], dtype=float32),\n",
       " array([0.10342173], dtype=float32),\n",
       " array([0.16641018], dtype=float32),\n",
       " array([0.05778984], dtype=float32),\n",
       " array([0.02058478], dtype=float32),\n",
       " array([0.05782786], dtype=float32),\n",
       " array([0.16801924], dtype=float32),\n",
       " array([0.04795435], dtype=float32),\n",
       " array([0.02111196], dtype=float32),\n",
       " array([0.00323987], dtype=float32),\n",
       " array([0.18529774], dtype=float32),\n",
       " array([0.17313719], dtype=float32),\n",
       " array([0.06817343], dtype=float32),\n",
       " array([0.01586544], dtype=float32),\n",
       " array([0.03952766], dtype=float32),\n",
       " array([0.33213967], dtype=float32),\n",
       " array([0.03633806], dtype=float32),\n",
       " array([0.23891476], dtype=float32),\n",
       " array([1.4195597e-09], dtype=float32),\n",
       " array([0.17522478], dtype=float32),\n",
       " array([0.00093754], dtype=float32),\n",
       " array([0.00177777], dtype=float32),\n",
       " array([0.00387064], dtype=float32),\n",
       " array([0.04133786], dtype=float32),\n",
       " array([0.00163933], dtype=float32),\n",
       " array([0.16441928], dtype=float32),\n",
       " array([0.02583806], dtype=float32),\n",
       " array([0.11132582], dtype=float32),\n",
       " array([0.16406558], dtype=float32),\n",
       " array([0.33240438], dtype=float32),\n",
       " array([0.05394885], dtype=float32),\n",
       " array([0.12720177], dtype=float32),\n",
       " array([0.00985738], dtype=float32),\n",
       " array([0.0890374], dtype=float32),\n",
       " array([0.315157], dtype=float32),\n",
       " array([0.00601453], dtype=float32),\n",
       " array([0.24248523], dtype=float32),\n",
       " array([0.07559223], dtype=float32),\n",
       " array([0.17111841], dtype=float32),\n",
       " array([0.10479664], dtype=float32),\n",
       " array([0.01839529], dtype=float32),\n",
       " array([0.1027693], dtype=float32),\n",
       " array([0.12555574], dtype=float32),\n",
       " array([6.8157395e-05], dtype=float32),\n",
       " array([0.16267845], dtype=float32),\n",
       " array([0.36828467], dtype=float32),\n",
       " array([0.07755293], dtype=float32),\n",
       " array([0.03465288], dtype=float32),\n",
       " array([0.11773466], dtype=float32),\n",
       " array([0.10174744], dtype=float32),\n",
       " array([0.0001657], dtype=float32),\n",
       " array([0.00055837], dtype=float32),\n",
       " array([3.099492e-05], dtype=float32),\n",
       " array([0.00091862], dtype=float32),\n",
       " array([0.07850681], dtype=float32),\n",
       " array([0.03051233], dtype=float32),\n",
       " array([0.20913593], dtype=float32),\n",
       " array([0.01606158], dtype=float32)]"
      ]
     },
     "execution_count": 61,
     "metadata": {},
     "output_type": "execute_result"
    }
   ],
   "source": [
    "[prob for prob in model.predict([padding(test_encoder_seqs), padding(test_decoder_seqs)])]"
   ]
  },
  {
   "cell_type": "code",
   "execution_count": 51,
   "metadata": {},
   "outputs": [],
   "source": [
    "dump_scores('PIT2015_zubovych_MaLSTM.output', model.predict([padding(test_encoder_seqs), padding(test_decoder_seqs)]))"
   ]
  },
  {
   "cell_type": "code",
   "execution_count": 52,
   "metadata": {},
   "outputs": [
    {
     "name": "stdout",
     "output_type": "stream",
     "text": [
      "838\tzubovych\tMaLSTM\t\tF: 0.332\tPrec: 0.421\tRec: 0.274\t\tP-corr: 0.257\tF1: 0.392\tPrec: 0.343\tRec: 0.457\r\n"
     ]
    }
   ],
   "source": [
    "!python SemEval-PIT2015-py3/scripts/pit2015_eval_single.py SemEval-PIT2015-py3/data/test_bin.label PIT2015_zubovych_MaLSTM.output"
   ]
  },
  {
   "cell_type": "code",
   "execution_count": null,
   "metadata": {},
   "outputs": [],
   "source": []
  }
 ],
 "metadata": {
  "kernelspec": {
   "display_name": "Python 3",
   "language": "python",
   "name": "python3"
  },
  "language_info": {
   "codemirror_mode": {
    "name": "ipython",
    "version": 3
   },
   "file_extension": ".py",
   "mimetype": "text/x-python",
   "name": "python",
   "nbconvert_exporter": "python",
   "pygments_lexer": "ipython3",
   "version": "3.6.7"
  }
 },
 "nbformat": 4,
 "nbformat_minor": 2
}
