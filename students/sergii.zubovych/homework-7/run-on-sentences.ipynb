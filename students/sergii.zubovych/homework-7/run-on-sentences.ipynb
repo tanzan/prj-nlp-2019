{
 "cells": [
  {
   "cell_type": "code",
   "execution_count": 2,
   "metadata": {},
   "outputs": [
    {
     "name": "stdout",
     "output_type": "stream",
     "text": [
      "  % Total    % Received % Xferd  Average Speed   Time    Time     Time  Current\n",
      "                                 Dload  Upload   Total   Spent    Left  Speed\n",
      "100  273k  100  273k    0     0   492k      0 --:--:-- --:--:-- --:--:--  492k\n"
     ]
    }
   ],
   "source": [
    "!curl https://raw.githubusercontent.com/vseloved/prj-nlp-2019/master/tasks/07-language-as-sequence/run-on-test.json --output run-on-test.json"
   ]
  },
  {
   "cell_type": "code",
   "execution_count": 4,
   "metadata": {},
   "outputs": [],
   "source": [
    "import json\n",
    "\n",
    "with open('run-on-test.json') as f:\n",
    "    run_on_js = json.load(f)"
   ]
  },
  {
   "cell_type": "code",
   "execution_count": 62,
   "metadata": {},
   "outputs": [],
   "source": [
    "import random\n",
    "\n",
    "def rand_run_on_num():\n",
    "    x = random.random()\n",
    "    if x < 0.25:\n",
    "        return 0\n",
    "    elif 0.25 <= x < 0.97:\n",
    "        return 1\n",
    "    \n",
    "    return 2"
   ]
  },
  {
   "cell_type": "code",
   "execution_count": 22,
   "metadata": {},
   "outputs": [],
   "source": [
    "from nltk.corpus import reuters"
   ]
  },
  {
   "cell_type": "code",
   "execution_count": 170,
   "metadata": {},
   "outputs": [],
   "source": [
    "random.seed(273757)\n",
    "\n",
    "def tag_tokens(tokens):\n",
    "    \n",
    "    tagged = [[token, False] for token in tokens]\n",
    "    \n",
    "    if tagged[-1][0][-1] in '.!?':\n",
    "        tagged[-1] = ['.', False]\n",
    "    else:\n",
    "        tagged.append(['.', False])        \n",
    "    \n",
    "    return tagged\n",
    "\n",
    "with open('run-on-corpus.txt', 'w') as corpus:\n",
    "    for fileid in reuters.fileids():\n",
    "        sents = reuters.sents(fileid)\n",
    "        run_on_num = rand_run_on_num()\n",
    "        buff = []\n",
    "        prev_offset = 0\n",
    "        for sent in sents[1:]:\n",
    "            if len(sent) < 2:\n",
    "                continue\n",
    "                \n",
    "            buff.extend(tag_tokens(sent))    \n",
    "                \n",
    "            if prev_offset > 0:                \n",
    "                if buff[prev_offset - 1][0] == '.':\n",
    "                    del buff[prev_offset - 1]\n",
    "                    buff[prev_offset - 2][1] = True                \n",
    "                   \n",
    "                    if not buff[prev_offset - 1][0].isupper():                \n",
    "                        lwr = random.random()                \n",
    "                        if lwr < 0.93:\n",
    "                            buff[prev_offset - 1][0] = buff[prev_offset -1][0].lower()                                            \n",
    "            \n",
    "            prev_offset = len(buff)            \n",
    "            \n",
    "            if run_on_num == 0:                \n",
    "                print(buff, file = corpus, end = \"\\n\")\n",
    "                run_on_num = rand_run_on_num()\n",
    "                prev_offset = 0\n",
    "                buff = []                               \n",
    "                       \n",
    "            run_on_num -= 1              "
   ]
  }
 ],
 "metadata": {
  "kernelspec": {
   "display_name": "Python 3",
   "language": "python",
   "name": "python3"
  },
  "language_info": {
   "codemirror_mode": {
    "name": "ipython",
    "version": 3
   },
   "file_extension": ".py",
   "mimetype": "text/x-python",
   "name": "python",
   "nbconvert_exporter": "python",
   "pygments_lexer": "ipython3",
   "version": "3.6.7"
  }
 },
 "nbformat": 4,
 "nbformat_minor": 2
}
