{
 "cells": [
  {
   "cell_type": "markdown",
   "metadata": {},
   "source": [
    "### Load data"
   ]
  },
  {
   "cell_type": "code",
   "execution_count": 1,
   "metadata": {},
   "outputs": [
    {
     "name": "stdout",
     "output_type": "stream",
     "text": [
      "  % Total    % Received % Xferd  Average Speed   Time    Time     Time  Current\n",
      "                                 Dload  Upload   Total   Spent    Left  Speed\n",
      "100  205k  100  205k    0     0  76780      0  0:00:02  0:00:02 --:--:-- 76776\n"
     ]
    }
   ],
   "source": [
    "!curl http://www.dt.fee.unicamp.br/~tiago/smsspamcollection/smsspamcollection.zip --output spam.zip"
   ]
  },
  {
   "cell_type": "code",
   "execution_count": 2,
   "metadata": {},
   "outputs": [
    {
     "name": "stdout",
     "output_type": "stream",
     "text": [
      "Archive:  spam.zip\r\n",
      "  inflating: readme                  \r\n",
      "  inflating: SMSSpamCollection.txt   \r\n"
     ]
    }
   ],
   "source": [
    "!unzip spam.zip"
   ]
  },
  {
   "cell_type": "code",
   "execution_count": 3,
   "metadata": {},
   "outputs": [
    {
     "name": "stdout",
     "output_type": "stream",
     "text": [
      "ham\tGo until jurong point, crazy.. Available only in bugis n great world la e buffet... Cine there got amore wat...\r\n",
      "ham\tOk lar... Joking wif u oni...\r\n",
      "spam\tFree entry in 2 a wkly comp to win FA Cup final tkts 21st May 2005. Text FA to 87121 to receive entry question(std txt rate)T&C's apply 08452810075over18's\r\n",
      "ham\tU dun say so early hor... U c already then say...\r\n",
      "ham\tNah I don't think he goes to usf, he lives around here though\r\n",
      "spam\tFreeMsg Hey there darling it's been 3 week's now and no word back! I'd like some fun you up for it still? Tb ok! XxX std chgs to send, £1.50 to rcv\r\n",
      "ham\tEven my brother is not like to speak with me. They treat me like aids patent.\r\n",
      "ham\tAs per your request 'Melle Melle (Oru Minnaminunginte Nurungu Vettam)' has been set as your callertune for all Callers. Press *9 to copy your friends Callertune\r\n",
      "spam\tWINNER!! As a valued network customer you have been selected to receivea £900 prize reward! To claim call 09061701461. Claim code KL341. Valid 12 hours only.\r\n",
      "spam\tHad your mobile 11 months or more? U R entitled to Update to the latest colour mobiles with camera for Free! Call The Mobile Update Co FREE on 08002986030\r\n"
     ]
    }
   ],
   "source": [
    "!head SMSSpamCollection.txt"
   ]
  },
  {
   "cell_type": "code",
   "execution_count": 4,
   "metadata": {},
   "outputs": [
    {
     "name": "stdout",
     "output_type": "stream",
     "text": [
      "    5574\r\n"
     ]
    }
   ],
   "source": [
    "!cat SMSSpamCollection.txt | wc -l"
   ]
  },
  {
   "cell_type": "markdown",
   "metadata": {},
   "source": [
    "### Parse data"
   ]
  },
  {
   "cell_type": "code",
   "execution_count": 18,
   "metadata": {},
   "outputs": [],
   "source": [
    "from collections import namedtuple\n",
    "\n",
    "CorpusItem = namedtuple('CorpusItem', 'text spam')\n",
    "\n",
    "def parse_corpus(filename):\n",
    "    items = []\n",
    "    with open(filename) as corpus:\n",
    "        for line in corpus:\n",
    "            parts = line.split('\\t')\n",
    "            spam = False\n",
    "            if parts[0] == 'spam':\n",
    "                spam = True\n",
    "            items.append(CorpusItem(text = parts[1], spam = spam))\n",
    "    return items"
   ]
  },
  {
   "cell_type": "code",
   "execution_count": 19,
   "metadata": {},
   "outputs": [],
   "source": [
    "corpus = parse_corpus('SMSSpamCollection.txt')"
   ]
  },
  {
   "cell_type": "code",
   "execution_count": 20,
   "metadata": {},
   "outputs": [
    {
     "data": {
      "text/plain": [
       "[CorpusItem(text='Go until jurong point, crazy.. Available only in bugis n great world la e buffet... Cine there got amore wat...\\n', spam=False),\n",
       " CorpusItem(text='Ok lar... Joking wif u oni...\\n', spam=False),\n",
       " CorpusItem(text=\"Free entry in 2 a wkly comp to win FA Cup final tkts 21st May 2005. Text FA to 87121 to receive entry question(std txt rate)T&C's apply 08452810075over18's\\n\", spam=True),\n",
       " CorpusItem(text='U dun say so early hor... U c already then say...\\n', spam=False),\n",
       " CorpusItem(text=\"Nah I don't think he goes to usf, he lives around here though\\n\", spam=False),\n",
       " CorpusItem(text=\"FreeMsg Hey there darling it's been 3 week's now and no word back! I'd like some fun you up for it still? Tb ok! XxX std chgs to send, £1.50 to rcv\\n\", spam=True),\n",
       " CorpusItem(text='Even my brother is not like to speak with me. They treat me like aids patent.\\n', spam=False),\n",
       " CorpusItem(text=\"As per your request 'Melle Melle (Oru Minnaminunginte Nurungu Vettam)' has been set as your callertune for all Callers. Press *9 to copy your friends Callertune\\n\", spam=False),\n",
       " CorpusItem(text='WINNER!! As a valued network customer you have been selected to receivea £900 prize reward! To claim call 09061701461. Claim code KL341. Valid 12 hours only.\\n', spam=True),\n",
       " CorpusItem(text='Had your mobile 11 months or more? U R entitled to Update to the latest colour mobiles with camera for Free! Call The Mobile Update Co FREE on 08002986030\\n', spam=True)]"
      ]
     },
     "execution_count": 20,
     "metadata": {},
     "output_type": "execute_result"
    }
   ],
   "source": [
    "corpus[:10]"
   ]
  },
  {
   "cell_type": "markdown",
   "metadata": {},
   "source": [
    "### Split data"
   ]
  },
  {
   "cell_type": "code",
   "execution_count": 179,
   "metadata": {},
   "outputs": [],
   "source": [
    "spam = [item for item in corpus if item.spam]\n",
    "ham = [item for item in corpus if not item.spam]"
   ]
  },
  {
   "cell_type": "code",
   "execution_count": 180,
   "metadata": {},
   "outputs": [
    {
     "name": "stdout",
     "output_type": "stream",
     "text": [
      "107 692\n"
     ]
    }
   ],
   "source": [
    "spam_ratio = len(spam)/len(corpus)\n",
    "ham_ratio = 1 - spam_ratio\n",
    "\n",
    "spam_index = int(spam_ratio * 800)\n",
    "ham_index = int(ham_ratio * 800)\n",
    "\n",
    "print(spam_index, ham_index)"
   ]
  },
  {
   "cell_type": "code",
   "execution_count": 181,
   "metadata": {},
   "outputs": [],
   "source": [
    "test_corpus = spam[:spam_index] + ham[:ham_index]\n",
    "train_corpus = spam[spam_index + 1:] + ham[ham_index +1:]"
   ]
  },
  {
   "cell_type": "markdown",
   "metadata": {},
   "source": [
    "### Extract features"
   ]
  },
  {
   "cell_type": "code",
   "execution_count": 35,
   "metadata": {},
   "outputs": [],
   "source": [
    "import spacy\n",
    "\n",
    "nlp = spacy.load('en_core_web_md')"
   ]
  },
  {
   "cell_type": "code",
   "execution_count": 254,
   "metadata": {},
   "outputs": [],
   "source": [
    "import nltk\n",
    "import re\n",
    "\n",
    "def extract_features(text):\n",
    "    features = []\n",
    "    doc = nlp(text.strip())\n",
    "    for token in doc:\n",
    "        if token.pos_ != 'PUNCT' or token.text == '!':\n",
    "            features.append(re.sub(r'\\d', 'N', token.lemma_.lower()))\n",
    "    return features"
   ]
  },
  {
   "cell_type": "code",
   "execution_count": 258,
   "metadata": {},
   "outputs": [],
   "source": [
    "spam_dist = nltk.FreqDist([word for item in train_corpus if item.spam for word in extract_features(item.text)])\n"
   ]
  },
  {
   "cell_type": "code",
   "execution_count": 259,
   "metadata": {},
   "outputs": [
    {
     "data": {
      "text/plain": [
       "FreqDist({'-pron-': 710, 'to': 580, '!': 431, 'be': 331, 'a': 328, 'N': 326, 'call': 323, 'NNNNNNNNNNN': 317, '£': 228, 'NNN': 218, ...})"
      ]
     },
     "execution_count": 259,
     "metadata": {},
     "output_type": "execute_result"
    }
   ],
   "source": [
    "spam_dist"
   ]
  },
  {
   "cell_type": "code",
   "execution_count": 260,
   "metadata": {},
   "outputs": [],
   "source": [
    "ham_dist = nltk.FreqDist([word for item in train_corpus if not item.spam for word in extract_features(item.text)])"
   ]
  },
  {
   "cell_type": "code",
   "execution_count": 261,
   "metadata": {},
   "outputs": [
    {
     "data": {
      "text/plain": [
       "FreqDist({'-pron-': 7019, 'be': 2509, 'to': 1398, 'the': 956, 'not': 900, 'a': 900, 'do': 871, 'and': 733, '!': 703, 'in': 700, ...})"
      ]
     },
     "execution_count": 261,
     "metadata": {},
     "output_type": "execute_result"
    }
   ],
   "source": [
    "ham_dist"
   ]
  },
  {
   "cell_type": "code",
   "execution_count": 211,
   "metadata": {},
   "outputs": [
    {
     "name": "stdout",
     "output_type": "stream",
     "text": [
      "0.13387806411062225 0.8661219358893777\n"
     ]
    }
   ],
   "source": [
    "spam_prob = len([item for item in train_corpus if item.spam])/len(train_corpus)\n",
    "ham_prob = 1 - spam_prob\n",
    "\n",
    "print (spam_prob, ham_prob)"
   ]
  },
  {
   "cell_type": "code",
   "execution_count": 252,
   "metadata": {},
   "outputs": [],
   "source": [
    "import math\n",
    "import sys\n",
    "\n",
    "def predict(text):\n",
    "    tokens = extract_features(text)\n",
    "    maybe_spam = math.log(spam_prob) + sum([math.log((spam_dist.freq(token) + sys.float_info.epsilon)) for token in tokens])\n",
    "    maybe_ham = math.log(ham_prob) + sum([math.log((ham_dist.freq(token) + sys.float_info.epsilon)) for token in tokens])\n",
    "\n",
    "    if maybe_spam > maybe_ham:\n",
    "        return True\n",
    "    return False"
   ]
  },
  {
   "cell_type": "code",
   "execution_count": 262,
   "metadata": {},
   "outputs": [
    {
     "name": "stdout",
     "output_type": "stream",
     "text": [
      "101 4 6 688\n",
      "Accuracy: 0.9874843554443054\n",
      "Precicison: 0.9619047619047619\n",
      "Recall: 0.9439252336448598\n",
      "F1: 0.9528301886792454\n"
     ]
    }
   ],
   "source": [
    "tp = 0\n",
    "tn = 0\n",
    "fp = 0\n",
    "fn = 0\n",
    "\n",
    "for item in test_corpus:\n",
    "    spam = predict(item.text)\n",
    "    if spam and item.spam:\n",
    "        tp += 1\n",
    "    elif spam and not item.spam:\n",
    "        fp += 1\n",
    "    elif not spam and item.spam:\n",
    "        fn += 1\n",
    "    else:\n",
    "        tn += 1\n",
    "\n",
    "print(tp, fp, fn, tn)        \n",
    "\n",
    "pr = tp/(tp + fp)\n",
    "rc = tp/(tp + fn)\n",
    "f1 = 2 * (pr * rc)/(pr + rc)\n",
    "\n",
    "print(\"Accuracy: {}\".format((tp + tn)/(tp+fp+fn+tn)))\n",
    "print(\"Precicison: {}\".format(pr))\n",
    "print(\"Recall: {}\".format(rc))\n",
    "print(\"F1: {}\".format(f1))"
   ]
  }
 ],
 "metadata": {
  "kernelspec": {
   "display_name": "Python 3",
   "language": "python",
   "name": "python3"
  },
  "language_info": {
   "codemirror_mode": {
    "name": "ipython",
    "version": 3
   },
   "file_extension": ".py",
   "mimetype": "text/x-python",
   "name": "python",
   "nbconvert_exporter": "python",
   "pygments_lexer": "ipython3",
   "version": "3.7.2"
  }
 },
 "nbformat": 4,
 "nbformat_minor": 2
}
