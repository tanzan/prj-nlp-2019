{
 "cells": [
  {
   "cell_type": "markdown",
   "metadata": {},
   "source": [
    "# Transition-based arc-eager unlabeled dependency parser for Ukrainian"
   ]
  },
  {
   "cell_type": "markdown",
   "metadata": {},
   "source": [
    "## Read the data\n",
    "\n",
    "Useful links:\n",
    "* [UD corpus for Ukrainian](https://github.com/UniversalDependencies/UD_Ukrainian-IU/)\n",
    "* [Easy-to-use library for parsing UD](https://github.com/EmilStenstrom/conllu)"
   ]
  },
  {
   "cell_type": "code",
   "execution_count": 3,
   "metadata": {},
   "outputs": [
    {
     "name": "stdout",
     "output_type": "stream",
     "text": [
      "  % Total    % Received % Xferd  Average Speed   Time    Time     Time  Current\n",
      "                                 Dload  Upload   Total   Spent    Left  Speed\n",
      "100 11.8M  100 11.8M    0     0  5046k      0  0:00:02  0:00:02 --:--:-- 5046k\n"
     ]
    }
   ],
   "source": [
    "!curl https://raw.githubusercontent.com/UniversalDependencies/UD_Ukrainian-IU/master/uk_iu-ud-train.conllu --output uk_iu-ud-train.conllu"
   ]
  },
  {
   "cell_type": "code",
   "execution_count": 19,
   "metadata": {},
   "outputs": [
    {
     "name": "stdout",
     "output_type": "stream",
     "text": [
      "# doc_title = «Я обізвуся до них…»\r\n",
      "# newdoc id = 0000\r\n",
      "# newpar id = 0001\r\n",
      "# sent_id = 0002\r\n",
      "# text = У домі римського патриція Руфіна була прегарна фреска, зображення Венери та Адоніса.\r\n",
      "# translit = U domi rymśkoho patrycija Rufina bula preharna freska, zobraženńа Venery ta Adonisa.\r\n",
      "1\tУ\tу\tADP\tSpsl\tCase=Loc\t2\tcase\t2:case\tId=0003|LTranslit=u|Translit=U\r\n",
      "2\tдомі\tдім\tNOUN\tNcmsln\tAnimacy=Inan|Case=Loc|Gender=Masc|Number=Sing\t6\tobl\t6:obl\tId=0004|LTranslit=dim|Translit=domi\r\n",
      "3\tримського\tримський\tADJ\tAo-msgf\tCase=Gen|Gender=Masc|Number=Sing\t4\tamod\t4:amod\tId=0005|LTranslit=rymśkyj|Translit=rymśkoho\r\n",
      "4\tпатриція\tпатрицій\tNOUN\tNcmsgy\tAnimacy=Anim|Case=Gen|Gender=Masc|Number=Sing\t2\tnmod\t2:nmod\tId=0006|LTranslit=patrycij|Translit=patrycija\r\n"
     ]
    }
   ],
   "source": [
    "!head -n 10 uk_iu-ud-train.conllu"
   ]
  },
  {
   "cell_type": "code",
   "execution_count": 20,
   "metadata": {},
   "outputs": [
    {
     "name": "stdout",
     "output_type": "stream",
     "text": [
      "  % Total    % Received % Xferd  Average Speed   Time    Time     Time  Current\n",
      "                                 Dload  Upload   Total   Spent    Left  Speed\n",
      "100 2308k  100 2308k    0     0  1643k      0  0:00:01  0:00:01 --:--:-- 1643k\n"
     ]
    }
   ],
   "source": [
    "!curl https://raw.githubusercontent.com/UniversalDependencies/UD_Ukrainian-IU/master/uk_iu-ud-test.conllu --output uk_iu-ud-test.conllu"
   ]
  },
  {
   "cell_type": "code",
   "execution_count": 21,
   "metadata": {},
   "outputs": [
    {
     "name": "stdout",
     "output_type": "stream",
     "text": [
      "# doc_title = «Я обізвуся до них…»\r\n",
      "# newdoc id = 0000\r\n",
      "# newpar id = 01rc\r\n",
      "# sent_id = 01rd\r\n",
      "# text = Зречення культурної ідентичності – це втрата свободи й самовладності.\r\n",
      "# translit = Zrečenńа kuľturnoji identyčnosti – ce vtrata svobody j samovladnosti.\r\n",
      "1\tЗречення\tзречення\tNOUN\tNcnsnn\tAnimacy=Inan|Case=Nom|Gender=Neut|Number=Sing\t6\tnsubj\t6:nsubj\tId=01re|LTranslit=zrečenńа|Translit=Zrečenńа\r\n",
      "2\tкультурної\tкультурний\tADJ\tAfpfsgf\tCase=Gen|Degree=Pos|Gender=Fem|Number=Sing\t3\tamod\t3:amod\tId=01rf|LTranslit=kuľturnyj|Translit=kuľturnoji\r\n",
      "3\tідентичності\tідентичність\tNOUN\tNcfsgn\tAnimacy=Inan|Case=Gen|Gender=Fem|Number=Sing\t1\tnmod\t1:nmod\tId=01rg|LTranslit=identyčnisť|Translit=identyčnosti\r\n",
      "4\t–\t–\tPUNCT\tU\tPunctType=Dash\t6\tpunct\t6:punct\tId=01rh|LTranslit=–|Translit=–\r\n"
     ]
    }
   ],
   "source": [
    "!head -n 10 uk_iu-ud-test.conllu"
   ]
  },
  {
   "cell_type": "code",
   "execution_count": 1,
   "metadata": {},
   "outputs": [],
   "source": [
    "from collections import OrderedDict\n",
    "from conllu import parse\n",
    "from enum import Enum\n",
    "\n",
    "with open(\"uk_iu-ud-train.conllu\", \"r\") as f:\n",
    "    data = f.read()\n",
    "\n",
    "trees = parse(data)"
   ]
  },
  {
   "cell_type": "code",
   "execution_count": 31,
   "metadata": {},
   "outputs": [
    {
     "name": "stdout",
     "output_type": "stream",
     "text": [
      "TokenList<У, домі, римського, патриція, Руфіна, була, прегарна, фреска, ,, зображення, Венери, та, Адоніса, .>\n"
     ]
    }
   ],
   "source": [
    "tree = trees[0]\n",
    "print(tree)"
   ]
  },
  {
   "cell_type": "code",
   "execution_count": 3,
   "metadata": {},
   "outputs": [
    {
     "name": "stdout",
     "output_type": "stream",
     "text": [
      "У <-- домі\n",
      "домі <-- була\n",
      "римського <-- патриція\n",
      "патриція <-- домі\n",
      "Руфіна <-- патриція\n",
      "була <-- root\n",
      "прегарна <-- фреска\n",
      "фреска <-- була\n",
      ", <-- зображення\n",
      "зображення <-- фреска\n",
      "Венери <-- зображення\n",
      "та <-- Адоніса\n",
      "Адоніса <-- Венери\n",
      ". <-- була\n"
     ]
    }
   ],
   "source": [
    "for node in tree:\n",
    "    head = node[\"head\"]\n",
    "    print(\"{} <-- {}\".format(node[\"form\"],\n",
    "                             tree[head - 1][\"form\"]\n",
    "                             if head > 0 else \"root\"))"
   ]
  },
  {
   "cell_type": "markdown",
   "metadata": {},
   "source": [
    "## Design actions and the oracle\n",
    "\n",
    "We will be using a static oracle that reproduces a single valid order of actions."
   ]
  },
  {
   "cell_type": "code",
   "execution_count": 4,
   "metadata": {},
   "outputs": [],
   "source": [
    "class Actions(str, Enum):\n",
    "    SHIFT = \"shift\"\n",
    "    REDUCE = \"reduce\"\n",
    "    RIGHT = \"right\"\n",
    "    LEFT = \"left\""
   ]
  },
  {
   "cell_type": "code",
   "execution_count": 5,
   "metadata": {},
   "outputs": [],
   "source": [
    "def oracle(stack, top_queue, relations):\n",
    "    \"\"\"\n",
    "    Make a decision on the right action to do.\n",
    "    \"\"\"\n",
    "    top_stack = stack[-1]\n",
    "    # check if both stack and queue are non-empty\n",
    "    if top_stack and not top_queue:\n",
    "        return Actions.REDUCE\n",
    "    # check if there are any clear dependencies\n",
    "    elif top_queue[\"head\"] == top_stack[\"id\"]:\n",
    "        return Actions.RIGHT\n",
    "    elif top_stack[\"head\"] == top_queue[\"id\"]:\n",
    "        return Actions.LEFT\n",
    "    # check if we can reduce the top of the stack\n",
    "    elif top_stack[\"id\"] in [i[0] for i in relations] and \\\n",
    "         (top_queue[\"head\"] < top_stack[\"id\"] or \\\n",
    "          [s for s in stack if s[\"head\"] == top_queue[\"id\"]]):\n",
    "        return Actions.REDUCE\n",
    "    # default option\n",
    "    else:\n",
    "        return Actions.SHIFT"
   ]
  },
  {
   "cell_type": "code",
   "execution_count": 6,
   "metadata": {},
   "outputs": [
    {
     "name": "stdout",
     "output_type": "stream",
     "text": [
      "Stack: ['ROOT_0']\n",
      "Queue: ['У_1', 'домі_2', 'римського_3', 'патриція_4', 'Руфіна_5', 'була_6', 'прегарна_7', 'фреска_8', ',_9', 'зображення_10', 'Венери_11', 'та_12', 'Адоніса_13', '._14']\n",
      "Relations: []\n",
      "Actions.SHIFT\n",
      "========================\n",
      "Stack: ['ROOT_0', 'У_1']\n",
      "Queue: ['домі_2', 'римського_3', 'патриція_4', 'Руфіна_5', 'була_6', 'прегарна_7', 'фреска_8', ',_9', 'зображення_10', 'Венери_11', 'та_12', 'Адоніса_13', '._14']\n",
      "Relations: []\n",
      "Actions.LEFT\n",
      "========================\n",
      "Stack: ['ROOT_0']\n",
      "Queue: ['домі_2', 'римського_3', 'патриція_4', 'Руфіна_5', 'була_6', 'прегарна_7', 'фреска_8', ',_9', 'зображення_10', 'Венери_11', 'та_12', 'Адоніса_13', '._14']\n",
      "Relations: [(1, 2)]\n",
      "Actions.SHIFT\n",
      "========================\n",
      "Stack: ['ROOT_0', 'домі_2']\n",
      "Queue: ['римського_3', 'патриція_4', 'Руфіна_5', 'була_6', 'прегарна_7', 'фреска_8', ',_9', 'зображення_10', 'Венери_11', 'та_12', 'Адоніса_13', '._14']\n",
      "Relations: [(1, 2)]\n",
      "Actions.SHIFT\n",
      "========================\n",
      "Stack: ['ROOT_0', 'домі_2', 'римського_3']\n",
      "Queue: ['патриція_4', 'Руфіна_5', 'була_6', 'прегарна_7', 'фреска_8', ',_9', 'зображення_10', 'Венери_11', 'та_12', 'Адоніса_13', '._14']\n",
      "Relations: [(1, 2)]\n",
      "Actions.LEFT\n",
      "========================\n",
      "Stack: ['ROOT_0', 'домі_2']\n",
      "Queue: ['патриція_4', 'Руфіна_5', 'була_6', 'прегарна_7', 'фреска_8', ',_9', 'зображення_10', 'Венери_11', 'та_12', 'Адоніса_13', '._14']\n",
      "Relations: [(1, 2), (3, 4)]\n",
      "Actions.RIGHT\n",
      "========================\n",
      "Stack: ['ROOT_0', 'домі_2', 'патриція_4']\n",
      "Queue: ['Руфіна_5', 'була_6', 'прегарна_7', 'фреска_8', ',_9', 'зображення_10', 'Венери_11', 'та_12', 'Адоніса_13', '._14']\n",
      "Relations: [(1, 2), (3, 4), (4, 2)]\n",
      "Actions.RIGHT\n",
      "========================\n",
      "Stack: ['ROOT_0', 'домі_2', 'патриція_4', 'Руфіна_5']\n",
      "Queue: ['була_6', 'прегарна_7', 'фреска_8', ',_9', 'зображення_10', 'Венери_11', 'та_12', 'Адоніса_13', '._14']\n",
      "Relations: [(1, 2), (3, 4), (4, 2), (5, 4)]\n",
      "Actions.REDUCE\n",
      "========================\n",
      "Stack: ['ROOT_0', 'домі_2', 'патриція_4']\n",
      "Queue: ['була_6', 'прегарна_7', 'фреска_8', ',_9', 'зображення_10', 'Венери_11', 'та_12', 'Адоніса_13', '._14']\n",
      "Relations: [(1, 2), (3, 4), (4, 2), (5, 4)]\n",
      "Actions.REDUCE\n",
      "========================\n",
      "Stack: ['ROOT_0', 'домі_2']\n",
      "Queue: ['була_6', 'прегарна_7', 'фреска_8', ',_9', 'зображення_10', 'Венери_11', 'та_12', 'Адоніса_13', '._14']\n",
      "Relations: [(1, 2), (3, 4), (4, 2), (5, 4)]\n",
      "Actions.LEFT\n",
      "========================\n",
      "Stack: ['ROOT_0']\n",
      "Queue: ['була_6', 'прегарна_7', 'фреска_8', ',_9', 'зображення_10', 'Венери_11', 'та_12', 'Адоніса_13', '._14']\n",
      "Relations: [(1, 2), (3, 4), (4, 2), (5, 4), (2, 6)]\n",
      "Actions.RIGHT\n",
      "========================\n",
      "Stack: ['ROOT_0', 'була_6']\n",
      "Queue: ['прегарна_7', 'фреска_8', ',_9', 'зображення_10', 'Венери_11', 'та_12', 'Адоніса_13', '._14']\n",
      "Relations: [(1, 2), (3, 4), (4, 2), (5, 4), (2, 6), (6, 0)]\n",
      "Actions.SHIFT\n",
      "========================\n",
      "Stack: ['ROOT_0', 'була_6', 'прегарна_7']\n",
      "Queue: ['фреска_8', ',_9', 'зображення_10', 'Венери_11', 'та_12', 'Адоніса_13', '._14']\n",
      "Relations: [(1, 2), (3, 4), (4, 2), (5, 4), (2, 6), (6, 0)]\n",
      "Actions.LEFT\n",
      "========================\n",
      "Stack: ['ROOT_0', 'була_6']\n",
      "Queue: ['фреска_8', ',_9', 'зображення_10', 'Венери_11', 'та_12', 'Адоніса_13', '._14']\n",
      "Relations: [(1, 2), (3, 4), (4, 2), (5, 4), (2, 6), (6, 0), (7, 8)]\n",
      "Actions.RIGHT\n",
      "========================\n",
      "Stack: ['ROOT_0', 'була_6', 'фреска_8']\n",
      "Queue: [',_9', 'зображення_10', 'Венери_11', 'та_12', 'Адоніса_13', '._14']\n",
      "Relations: [(1, 2), (3, 4), (4, 2), (5, 4), (2, 6), (6, 0), (7, 8), (8, 6)]\n",
      "Actions.SHIFT\n",
      "========================\n",
      "Stack: ['ROOT_0', 'була_6', 'фреска_8', ',_9']\n",
      "Queue: ['зображення_10', 'Венери_11', 'та_12', 'Адоніса_13', '._14']\n",
      "Relations: [(1, 2), (3, 4), (4, 2), (5, 4), (2, 6), (6, 0), (7, 8), (8, 6)]\n",
      "Actions.LEFT\n",
      "========================\n",
      "Stack: ['ROOT_0', 'була_6', 'фреска_8']\n",
      "Queue: ['зображення_10', 'Венери_11', 'та_12', 'Адоніса_13', '._14']\n",
      "Relations: [(1, 2), (3, 4), (4, 2), (5, 4), (2, 6), (6, 0), (7, 8), (8, 6), (9, 10)]\n",
      "Actions.RIGHT\n",
      "========================\n",
      "Stack: ['ROOT_0', 'була_6', 'фреска_8', 'зображення_10']\n",
      "Queue: ['Венери_11', 'та_12', 'Адоніса_13', '._14']\n",
      "Relations: [(1, 2), (3, 4), (4, 2), (5, 4), (2, 6), (6, 0), (7, 8), (8, 6), (9, 10), (10, 8)]\n",
      "Actions.RIGHT\n",
      "========================\n",
      "Stack: ['ROOT_0', 'була_6', 'фреска_8', 'зображення_10', 'Венери_11']\n",
      "Queue: ['та_12', 'Адоніса_13', '._14']\n",
      "Relations: [(1, 2), (3, 4), (4, 2), (5, 4), (2, 6), (6, 0), (7, 8), (8, 6), (9, 10), (10, 8), (11, 10)]\n",
      "Actions.SHIFT\n",
      "========================\n",
      "Stack: ['ROOT_0', 'була_6', 'фреска_8', 'зображення_10', 'Венери_11', 'та_12']\n",
      "Queue: ['Адоніса_13', '._14']\n",
      "Relations: [(1, 2), (3, 4), (4, 2), (5, 4), (2, 6), (6, 0), (7, 8), (8, 6), (9, 10), (10, 8), (11, 10)]\n",
      "Actions.LEFT\n",
      "========================\n",
      "Stack: ['ROOT_0', 'була_6', 'фреска_8', 'зображення_10', 'Венери_11']\n",
      "Queue: ['Адоніса_13', '._14']\n",
      "Relations: [(1, 2), (3, 4), (4, 2), (5, 4), (2, 6), (6, 0), (7, 8), (8, 6), (9, 10), (10, 8), (11, 10), (12, 13)]\n",
      "Actions.RIGHT\n",
      "========================\n",
      "Stack: ['ROOT_0', 'була_6', 'фреска_8', 'зображення_10', 'Венери_11', 'Адоніса_13']\n",
      "Queue: ['._14']\n",
      "Relations: [(1, 2), (3, 4), (4, 2), (5, 4), (2, 6), (6, 0), (7, 8), (8, 6), (9, 10), (10, 8), (11, 10), (12, 13), (13, 11)]\n",
      "Actions.REDUCE\n",
      "========================\n",
      "Stack: ['ROOT_0', 'була_6', 'фреска_8', 'зображення_10', 'Венери_11']\n",
      "Queue: ['._14']\n",
      "Relations: [(1, 2), (3, 4), (4, 2), (5, 4), (2, 6), (6, 0), (7, 8), (8, 6), (9, 10), (10, 8), (11, 10), (12, 13), (13, 11)]\n",
      "Actions.REDUCE\n",
      "========================\n",
      "Stack: ['ROOT_0', 'була_6', 'фреска_8', 'зображення_10']\n",
      "Queue: ['._14']\n",
      "Relations: [(1, 2), (3, 4), (4, 2), (5, 4), (2, 6), (6, 0), (7, 8), (8, 6), (9, 10), (10, 8), (11, 10), (12, 13), (13, 11)]\n",
      "Actions.REDUCE\n",
      "========================\n",
      "Stack: ['ROOT_0', 'була_6', 'фреска_8']\n",
      "Queue: ['._14']\n",
      "Relations: [(1, 2), (3, 4), (4, 2), (5, 4), (2, 6), (6, 0), (7, 8), (8, 6), (9, 10), (10, 8), (11, 10), (12, 13), (13, 11)]\n",
      "Actions.REDUCE\n",
      "========================\n",
      "Stack: ['ROOT_0', 'була_6']\n",
      "Queue: ['._14']\n",
      "Relations: [(1, 2), (3, 4), (4, 2), (5, 4), (2, 6), (6, 0), (7, 8), (8, 6), (9, 10), (10, 8), (11, 10), (12, 13), (13, 11)]\n",
      "Actions.RIGHT\n",
      "========================\n",
      "Stack: ['ROOT_0', 'була_6', '._14']\n",
      "Queue: []\n",
      "Relations: [(1, 2), (3, 4), (4, 2), (5, 4), (2, 6), (6, 0), (7, 8), (8, 6), (9, 10), (10, 8), (11, 10), (12, 13), (13, 11), (14, 6)]\n",
      "Actions.REDUCE\n",
      "========================\n",
      "Stack: ['ROOT_0', 'була_6']\n",
      "Queue: []\n",
      "Relations: [(1, 2), (3, 4), (4, 2), (5, 4), (2, 6), (6, 0), (7, 8), (8, 6), (9, 10), (10, 8), (11, 10), (12, 13), (13, 11), (14, 6)]\n",
      "Actions.REDUCE\n",
      "========================\n",
      "Stack: ['ROOT_0']\n",
      "Queue: []\n",
      "Relations: [(1, 2), (3, 4), (4, 2), (5, 4), (2, 6), (6, 0), (7, 8), (8, 6), (9, 10), (10, 8), (11, 10), (12, 13), (13, 11), (14, 6)]\n",
      "Actions.REDUCE\n",
      "========================\n",
      "Gold relations:\n",
      "[(1, 2), (2, 6), (3, 4), (4, 2), (5, 4), (6, 0), (7, 8), (8, 6), (9, 10), (10, 8), (11, 10), (12, 13), (13, 11), (14, 6)]\n",
      "Retrieved relations:\n",
      "[(1, 2), (2, 6), (3, 4), (4, 2), (5, 4), (6, 0), (7, 8), (8, 6), (9, 10), (10, 8), (11, 10), (12, 13), (13, 11), (14, 6)]\n"
     ]
    }
   ],
   "source": [
    "ROOT = OrderedDict([('id', 0), ('form', 'ROOT'), ('lemma', 'ROOT'), ('upostag', 'ROOT'),\n",
    "                    ('xpostag', None), ('feats', None), ('head', None), ('deprel', None),\n",
    "                    ('deps', None), ('misc', None)])\n",
    "\n",
    "def trace_actions(tree, log=True):\n",
    "    \"\"\"\n",
    "    Try out the oracle to verify it's returning the right actions.\n",
    "    \"\"\"\n",
    "    stack, queue, relations = [ROOT], tree[:], []\n",
    "    while queue or stack:\n",
    "        action = oracle(stack if len(stack) > 0 else None,\n",
    "                        queue[0] if len(queue) > 0 else None,\n",
    "                        relations)\n",
    "        if log:\n",
    "            print(\"Stack:\", [i[\"form\"]+\"_\"+str(i[\"id\"]) for i in stack])\n",
    "            print(\"Queue:\", [i[\"form\"]+\"_\"+str(i[\"id\"]) for i in queue])\n",
    "            print(\"Relations:\", relations)\n",
    "            print(action)\n",
    "            print(\"========================\")\n",
    "        if action == Actions.SHIFT:\n",
    "            stack.append(queue.pop(0))\n",
    "        elif action == Actions.REDUCE:\n",
    "            stack.pop()\n",
    "        elif action == Actions.LEFT:\n",
    "            relations.append((stack[-1][\"id\"], queue[0][\"id\"]))\n",
    "            stack.pop()\n",
    "        elif action == Actions.RIGHT:\n",
    "            relations.append((queue[0][\"id\"], stack[-1][\"id\"]))\n",
    "            stack.append(queue.pop(0))\n",
    "        else:\n",
    "            print(\"Unknown action.\")\n",
    "    if log:\n",
    "        print(\"Gold relations:\")\n",
    "        print([(node[\"id\"], node[\"head\"]) for node in tree])\n",
    "        print(\"Retrieved relations:\")\n",
    "        print(sorted(relations))\n",
    "\n",
    "trace_actions(tree)"
   ]
  },
  {
   "cell_type": "markdown",
   "metadata": {},
   "source": [
    "## Feature extraction\n",
    "\n",
    "Reference: [Dependency Parsing by Kübler, McDonald, and Nivre](https://books.google.com.ua/books?id=k3iiup7HB9UC&pg=PA21&hl=uk&source=gbs_toc_r&cad=4#v=onepage&q&f=false)"
   ]
  },
  {
   "cell_type": "code",
   "execution_count": 24,
   "metadata": {},
   "outputs": [],
   "source": [
    "def extract_features(stack, queue):\n",
    "    features = dict()\n",
    "    if len(stack) > 0:\n",
    "        stack_top = stack[-1]\n",
    "        features[\"s0-word\"] = stack_top[\"form\"]\n",
    "        features[\"s0-lemma\"] = stack_top[\"lemma\"]\n",
    "        features[\"s0-tag\"] = stack_top[\"upostag\"]\n",
    "        if stack_top[\"feats\"]:\n",
    "            for k, v in stack_top[\"feats\"].items():\n",
    "                features[\"s0-\" + k] = v\n",
    "    if len(stack) > 1:\n",
    "        features[\"s1-tag\"] = stack[-2][\"upostag\"]\n",
    "    if queue:\n",
    "        queue_top = queue[0]\n",
    "        features[\"q0-word\"] = queue_top[\"form\"]\n",
    "        features[\"q0-lemma\"] = queue_top[\"lemma\"]\n",
    "        features[\"q0-tag\"] = queue_top[\"upostag\"]\n",
    "        if queue_top[\"feats\"]:\n",
    "            for k, v in queue_top[\"feats\"].items():\n",
    "                features[\"q0-\" + k] = v\n",
    "    if len(queue) > 1:\n",
    "        queue_next = queue[1]\n",
    "        features[\"q1-word\"] = queue_next[\"form\"]\n",
    "        features[\"q1-tag\"] = queue_next[\"upostag\"]\n",
    "    if len(queue) > 2:\n",
    "        features[\"q2-tag\"] = queue[2][\"upostag\"]\n",
    "    if len(queue) > 3:\n",
    "        features[\"q3-tag\"] = queue[3][\"upostag\"]\n",
    "    if stack and queue:\n",
    "        features[\"distance\"] = queue[0][\"id\"] - stack[-1][\"id\"]\n",
    "    return features"
   ]
  },
  {
   "cell_type": "markdown",
   "metadata": {},
   "source": [
    "## Prepare train and test data"
   ]
  },
  {
   "cell_type": "code",
   "execution_count": 8,
   "metadata": {},
   "outputs": [],
   "source": [
    "def get_data(tree):\n",
    "    features, labels = [], []\n",
    "    stack, queue, relations = [ROOT], tree[:], []\n",
    "\n",
    "    while queue or stack:\n",
    "        action = oracle(stack if len(stack) > 0 else None,\n",
    "                        queue[0] if len(queue) > 0 else None,\n",
    "                        relations)\n",
    "        features.append(extract_features(stack, queue))\n",
    "        labels.append(action.value)\n",
    "        if action == Actions.SHIFT:\n",
    "            stack.append(queue.pop(0))\n",
    "        elif action == Actions.REDUCE:\n",
    "            stack.pop()\n",
    "        elif action == Actions.LEFT:\n",
    "            relations.append((stack[-1][\"id\"], queue[0][\"id\"]))\n",
    "            stack.pop()\n",
    "        elif action == Actions.RIGHT:\n",
    "            relations.append((queue[0][\"id\"], stack[-1][\"id\"]))\n",
    "            stack.append(queue.pop(0))\n",
    "        else:\n",
    "            print(\"Unknown action.\")\n",
    "    return features, labels"
   ]
  },
  {
   "cell_type": "code",
   "execution_count": 25,
   "metadata": {
    "scrolled": true
   },
   "outputs": [
    {
     "name": "stdout",
     "output_type": "stream",
     "text": [
      "Number of words: 20\n",
      "Number of actions: 41\n",
      "List of actions taken: ['shift', 'left', 'shift', 'left', 'right', 'shift', 'left', 'right', 'right', 'right', 'shift', 'shift', 'left', 'left', 'reduce', 'right', 'shift', 'shift', 'shift', 'left', 'left', 'shift', 'left', 'left', 'reduce', 'right', 'right', 'right', 'right', 'reduce', 'reduce', 'reduce', 'reduce', 'reduce', 'reduce', 'right', 'reduce', 'right', 'reduce', 'reduce', 'reduce']\n",
      "Features:\n",
      "{'s0-word': 'ROOT', 's0-lemma': 'ROOT', 's0-tag': 'ROOT', 'q0-word': 'У', 'q0-lemma': 'у', 'q0-tag': 'ADP', 'q0-Case': 'Gen', 'q1-word': 'нас', 'q1-tag': 'PRON', 'q2-tag': 'VERB', 'q3-tag': 'ADJ', 'distance': 1}\n",
      "{'s0-word': 'У', 's0-lemma': 'у', 's0-tag': 'ADP', 's0-Case': 'Gen', 's1-tag': 'ROOT', 'q0-word': 'нас', 'q0-lemma': 'ми', 'q0-tag': 'PRON', 'q0-Animacy': 'Anim', 'q0-Case': 'Gen', 'q0-Number': 'Plur', 'q0-Person': '1', 'q0-PronType': 'Prs', 'q1-word': 'є', 'q1-tag': 'VERB', 'q2-tag': 'ADJ', 'q3-tag': 'NOUN', 'distance': 1}\n",
      "{'s0-word': 'ROOT', 's0-lemma': 'ROOT', 's0-tag': 'ROOT', 'q0-word': 'нас', 'q0-lemma': 'ми', 'q0-tag': 'PRON', 'q0-Animacy': 'Anim', 'q0-Case': 'Gen', 'q0-Number': 'Plur', 'q0-Person': '1', 'q0-PronType': 'Prs', 'q1-word': 'є', 'q1-tag': 'VERB', 'q2-tag': 'ADJ', 'q3-tag': 'NOUN', 'distance': 2}\n",
      "{'s0-word': 'нас', 's0-lemma': 'ми', 's0-tag': 'PRON', 's0-Animacy': 'Anim', 's0-Case': 'Gen', 's0-Number': 'Plur', 's0-Person': '1', 's0-PronType': 'Prs', 's1-tag': 'ROOT', 'q0-word': 'є', 'q0-lemma': 'бути', 'q0-tag': 'VERB', 'q0-Aspect': 'Imp', 'q0-Mood': 'Ind', 'q0-Number': 'Sing', 'q0-Person': '3', 'q0-Tense': 'Pres', 'q0-VerbForm': 'Fin', 'q1-word': 'величезне', 'q1-tag': 'ADJ', 'q2-tag': 'NOUN', 'q3-tag': 'VERB', 'distance': 1}\n",
      "{'s0-word': 'ROOT', 's0-lemma': 'ROOT', 's0-tag': 'ROOT', 'q0-word': 'є', 'q0-lemma': 'бути', 'q0-tag': 'VERB', 'q0-Aspect': 'Imp', 'q0-Mood': 'Ind', 'q0-Number': 'Sing', 'q0-Person': '3', 'q0-Tense': 'Pres', 'q0-VerbForm': 'Fin', 'q1-word': 'величезне', 'q1-tag': 'ADJ', 'q2-tag': 'NOUN', 'q3-tag': 'VERB', 'distance': 3}\n",
      "{'s0-word': 'є', 's0-lemma': 'бути', 's0-tag': 'VERB', 's0-Aspect': 'Imp', 's0-Mood': 'Ind', 's0-Number': 'Sing', 's0-Person': '3', 's0-Tense': 'Pres', 's0-VerbForm': 'Fin', 's1-tag': 'ROOT', 'q0-word': 'величезне', 'q0-lemma': 'величезний', 'q0-tag': 'ADJ', 'q0-Case': 'Nom', 'q0-Gender': 'Neut', 'q0-Number': 'Sing', 'q1-word': 'бажання', 'q1-tag': 'NOUN', 'q2-tag': 'VERB', 'q3-tag': 'PROPN', 'distance': 1}\n",
      "{'s0-word': 'величезне', 's0-lemma': 'величезний', 's0-tag': 'ADJ', 's0-Case': 'Nom', 's0-Gender': 'Neut', 's0-Number': 'Sing', 's1-tag': 'VERB', 'q0-word': 'бажання', 'q0-lemma': 'бажання', 'q0-tag': 'NOUN', 'q0-Animacy': 'Inan', 'q0-Case': 'Nom', 'q0-Gender': 'Neut', 'q0-Number': 'Sing', 'q1-word': 'показати', 'q1-tag': 'VERB', 'q2-tag': 'PROPN', 'q3-tag': 'ADP', 'distance': 1}\n",
      "{'s0-word': 'є', 's0-lemma': 'бути', 's0-tag': 'VERB', 's0-Aspect': 'Imp', 's0-Mood': 'Ind', 's0-Number': 'Sing', 's0-Person': '3', 's0-Tense': 'Pres', 's0-VerbForm': 'Fin', 's1-tag': 'ROOT', 'q0-word': 'бажання', 'q0-lemma': 'бажання', 'q0-tag': 'NOUN', 'q0-Animacy': 'Inan', 'q0-Case': 'Nom', 'q0-Gender': 'Neut', 'q0-Number': 'Sing', 'q1-word': 'показати', 'q1-tag': 'VERB', 'q2-tag': 'PROPN', 'q3-tag': 'ADP', 'distance': 2}\n",
      "{'s0-word': 'бажання', 's0-lemma': 'бажання', 's0-tag': 'NOUN', 's0-Animacy': 'Inan', 's0-Case': 'Nom', 's0-Gender': 'Neut', 's0-Number': 'Sing', 's1-tag': 'VERB', 'q0-word': 'показати', 'q0-lemma': 'показати', 'q0-tag': 'VERB', 'q0-Aspect': 'Perf', 'q0-VerbForm': 'Inf', 'q1-word': 'Київ', 'q1-tag': 'PROPN', 'q2-tag': 'ADP', 'q3-tag': 'ADJ', 'distance': 1}\n",
      "{'s0-word': 'показати', 's0-lemma': 'показати', 's0-tag': 'VERB', 's0-Aspect': 'Perf', 's0-VerbForm': 'Inf', 's1-tag': 'NOUN', 'q0-word': 'Київ', 'q0-lemma': 'Київ', 'q0-tag': 'PROPN', 'q0-Animacy': 'Inan', 'q0-Case': 'Acc', 'q0-Gender': 'Masc', 'q0-Number': 'Sing', 'q1-word': 'із', 'q1-tag': 'ADP', 'q2-tag': 'ADJ', 'q3-tag': 'NOUN', 'distance': 1}\n",
      "{'s0-word': 'Київ', 's0-lemma': 'Київ', 's0-tag': 'PROPN', 's0-Animacy': 'Inan', 's0-Case': 'Acc', 's0-Gender': 'Masc', 's0-Number': 'Sing', 's1-tag': 'VERB', 'q0-word': 'із', 'q0-lemma': 'із', 'q0-tag': 'ADP', 'q0-Case': 'Gen', 'q1-word': 'найкращої', 'q1-tag': 'ADJ', 'q2-tag': 'NOUN', 'q3-tag': 'CCONJ', 'distance': 1}\n",
      "{'s0-word': 'із', 's0-lemma': 'із', 's0-tag': 'ADP', 's0-Case': 'Gen', 's1-tag': 'PROPN', 'q0-word': 'найкращої', 'q0-lemma': 'найкращий', 'q0-tag': 'ADJ', 'q0-Case': 'Gen', 'q0-Degree': 'Sup', 'q0-Gender': 'Fem', 'q0-Number': 'Sing', 'q1-word': 'сторони', 'q1-tag': 'NOUN', 'q2-tag': 'CCONJ', 'q3-tag': 'ADP', 'distance': 1}\n",
      "{'s0-word': 'найкращої', 's0-lemma': 'найкращий', 's0-tag': 'ADJ', 's0-Case': 'Gen', 's0-Degree': 'Sup', 's0-Gender': 'Fem', 's0-Number': 'Sing', 's1-tag': 'ADP', 'q0-word': 'сторони', 'q0-lemma': 'сторона', 'q0-tag': 'NOUN', 'q0-Animacy': 'Inan', 'q0-Case': 'Gen', 'q0-Gender': 'Fem', 'q0-Number': 'Sing', 'q1-word': 'та', 'q1-tag': 'CCONJ', 'q2-tag': 'ADP', 'q3-tag': 'ADJ', 'distance': 1}\n",
      "{'s0-word': 'із', 's0-lemma': 'із', 's0-tag': 'ADP', 's0-Case': 'Gen', 's1-tag': 'PROPN', 'q0-word': 'сторони', 'q0-lemma': 'сторона', 'q0-tag': 'NOUN', 'q0-Animacy': 'Inan', 'q0-Case': 'Gen', 'q0-Gender': 'Fem', 'q0-Number': 'Sing', 'q1-word': 'та', 'q1-tag': 'CCONJ', 'q2-tag': 'ADP', 'q3-tag': 'ADJ', 'distance': 2}\n",
      "{'s0-word': 'Київ', 's0-lemma': 'Київ', 's0-tag': 'PROPN', 's0-Animacy': 'Inan', 's0-Case': 'Acc', 's0-Gender': 'Masc', 's0-Number': 'Sing', 's1-tag': 'VERB', 'q0-word': 'сторони', 'q0-lemma': 'сторона', 'q0-tag': 'NOUN', 'q0-Animacy': 'Inan', 'q0-Case': 'Gen', 'q0-Gender': 'Fem', 'q0-Number': 'Sing', 'q1-word': 'та', 'q1-tag': 'CCONJ', 'q2-tag': 'ADP', 'q3-tag': 'ADJ', 'distance': 3}\n",
      "{'s0-word': 'показати', 's0-lemma': 'показати', 's0-tag': 'VERB', 's0-Aspect': 'Perf', 's0-VerbForm': 'Inf', 's1-tag': 'NOUN', 'q0-word': 'сторони', 'q0-lemma': 'сторона', 'q0-tag': 'NOUN', 'q0-Animacy': 'Inan', 'q0-Case': 'Gen', 'q0-Gender': 'Fem', 'q0-Number': 'Sing', 'q1-word': 'та', 'q1-tag': 'CCONJ', 'q2-tag': 'ADP', 'q3-tag': 'ADJ', 'distance': 4}\n",
      "{'s0-word': 'сторони', 's0-lemma': 'сторона', 's0-tag': 'NOUN', 's0-Animacy': 'Inan', 's0-Case': 'Gen', 's0-Gender': 'Fem', 's0-Number': 'Sing', 's1-tag': 'VERB', 'q0-word': 'та', 'q0-lemma': 'та', 'q0-tag': 'CCONJ', 'q1-word': 'на', 'q1-tag': 'ADP', 'q2-tag': 'ADJ', 'q3-tag': 'NOUN', 'distance': 1}\n",
      "{'s0-word': 'та', 's0-lemma': 'та', 's0-tag': 'CCONJ', 's1-tag': 'NOUN', 'q0-word': 'на', 'q0-lemma': 'на', 'q0-tag': 'ADP', 'q0-Case': 'Loc', 'q1-word': 'найвищому', 'q1-tag': 'ADJ', 'q2-tag': 'NOUN', 'q3-tag': 'VERB', 'distance': 1}\n",
      "{'s0-word': 'на', 's0-lemma': 'на', 's0-tag': 'ADP', 's0-Case': 'Loc', 's1-tag': 'CCONJ', 'q0-word': 'найвищому', 'q0-lemma': 'найвищий', 'q0-tag': 'ADJ', 'q0-Case': 'Loc', 'q0-Degree': 'Sup', 'q0-Gender': 'Masc', 'q0-Number': 'Sing', 'q1-word': 'рівні', 'q1-tag': 'NOUN', 'q2-tag': 'VERB', 'q3-tag': 'NOUN', 'distance': 1}\n",
      "{'s0-word': 'найвищому', 's0-lemma': 'найвищий', 's0-tag': 'ADJ', 's0-Case': 'Loc', 's0-Degree': 'Sup', 's0-Gender': 'Masc', 's0-Number': 'Sing', 's1-tag': 'ADP', 'q0-word': 'рівні', 'q0-lemma': 'рівень', 'q0-tag': 'NOUN', 'q0-Animacy': 'Inan', 'q0-Case': 'Loc', 'q0-Gender': 'Masc', 'q0-Number': 'Sing', 'q1-word': 'провести', 'q1-tag': 'VERB', 'q2-tag': 'NOUN', 'q3-tag': 'NOUN', 'distance': 1}\n",
      "{'s0-word': 'на', 's0-lemma': 'на', 's0-tag': 'ADP', 's0-Case': 'Loc', 's1-tag': 'CCONJ', 'q0-word': 'рівні', 'q0-lemma': 'рівень', 'q0-tag': 'NOUN', 'q0-Animacy': 'Inan', 'q0-Case': 'Loc', 'q0-Gender': 'Masc', 'q0-Number': 'Sing', 'q1-word': 'провести', 'q1-tag': 'VERB', 'q2-tag': 'NOUN', 'q3-tag': 'NOUN', 'distance': 2}\n",
      "{'s0-word': 'та', 's0-lemma': 'та', 's0-tag': 'CCONJ', 's1-tag': 'NOUN', 'q0-word': 'рівні', 'q0-lemma': 'рівень', 'q0-tag': 'NOUN', 'q0-Animacy': 'Inan', 'q0-Case': 'Loc', 'q0-Gender': 'Masc', 'q0-Number': 'Sing', 'q1-word': 'провести', 'q1-tag': 'VERB', 'q2-tag': 'NOUN', 'q3-tag': 'NOUN', 'distance': 3}\n",
      "{'s0-word': 'рівні', 's0-lemma': 'рівень', 's0-tag': 'NOUN', 's0-Animacy': 'Inan', 's0-Case': 'Loc', 's0-Gender': 'Masc', 's0-Number': 'Sing', 's1-tag': 'CCONJ', 'q0-word': 'провести', 'q0-lemma': 'провести', 'q0-tag': 'VERB', 'q0-Aspect': 'Perf', 'q0-VerbForm': 'Inf', 'q1-word': 'фінал', 'q1-tag': 'NOUN', 'q2-tag': 'NOUN', 'q3-tag': 'NOUN', 'distance': 1}\n",
      "{'s0-word': 'та', 's0-lemma': 'та', 's0-tag': 'CCONJ', 's1-tag': 'NOUN', 'q0-word': 'провести', 'q0-lemma': 'провести', 'q0-tag': 'VERB', 'q0-Aspect': 'Perf', 'q0-VerbForm': 'Inf', 'q1-word': 'фінал', 'q1-tag': 'NOUN', 'q2-tag': 'NOUN', 'q3-tag': 'NOUN', 'distance': 4}\n",
      "{'s0-word': 'сторони', 's0-lemma': 'сторона', 's0-tag': 'NOUN', 's0-Animacy': 'Inan', 's0-Case': 'Gen', 's0-Gender': 'Fem', 's0-Number': 'Sing', 's1-tag': 'VERB', 'q0-word': 'провести', 'q0-lemma': 'провести', 'q0-tag': 'VERB', 'q0-Aspect': 'Perf', 'q0-VerbForm': 'Inf', 'q1-word': 'фінал', 'q1-tag': 'NOUN', 'q2-tag': 'NOUN', 'q3-tag': 'NOUN', 'distance': 5}\n",
      "{'s0-word': 'показати', 's0-lemma': 'показати', 's0-tag': 'VERB', 's0-Aspect': 'Perf', 's0-VerbForm': 'Inf', 's1-tag': 'NOUN', 'q0-word': 'провести', 'q0-lemma': 'провести', 'q0-tag': 'VERB', 'q0-Aspect': 'Perf', 'q0-VerbForm': 'Inf', 'q1-word': 'фінал', 'q1-tag': 'NOUN', 'q2-tag': 'NOUN', 'q3-tag': 'NOUN', 'distance': 9}\n",
      "{'s0-word': 'провести', 's0-lemma': 'провести', 's0-tag': 'VERB', 's0-Aspect': 'Perf', 's0-VerbForm': 'Inf', 's1-tag': 'VERB', 'q0-word': 'фінал', 'q0-lemma': 'фінал', 'q0-tag': 'NOUN', 'q0-Animacy': 'Inan', 'q0-Case': 'Acc', 'q0-Gender': 'Masc', 'q0-Number': 'Sing', 'q1-word': 'Ліги', 'q1-tag': 'NOUN', 'q2-tag': 'NOUN', 'q3-tag': 'PUNCT', 'distance': 1}\n",
      "{'s0-word': 'фінал', 's0-lemma': 'фінал', 's0-tag': 'NOUN', 's0-Animacy': 'Inan', 's0-Case': 'Acc', 's0-Gender': 'Masc', 's0-Number': 'Sing', 's1-tag': 'VERB', 'q0-word': 'Ліги', 'q0-lemma': 'ліга', 'q0-tag': 'NOUN', 'q0-Animacy': 'Inan', 'q0-Case': 'Gen', 'q0-Gender': 'Fem', 'q0-Number': 'Sing', 'q1-word': 'чемпіонів', 'q1-tag': 'NOUN', 'q2-tag': 'PUNCT', 'q3-tag': 'PUNCT', 'distance': 1}\n",
      "{'s0-word': 'Ліги', 's0-lemma': 'ліга', 's0-tag': 'NOUN', 's0-Animacy': 'Inan', 's0-Case': 'Gen', 's0-Gender': 'Fem', 's0-Number': 'Sing', 's1-tag': 'NOUN', 'q0-word': 'чемпіонів', 'q0-lemma': 'чемпіон', 'q0-tag': 'NOUN', 'q0-Animacy': 'Anim', 'q0-Case': 'Gen', 'q0-Gender': 'Masc', 'q0-Number': 'Plur', 'q1-word': '»', 'q1-tag': 'PUNCT', 'q2-tag': 'PUNCT', 'distance': 1}\n",
      "{'s0-word': 'чемпіонів', 's0-lemma': 'чемпіон', 's0-tag': 'NOUN', 's0-Animacy': 'Anim', 's0-Case': 'Gen', 's0-Gender': 'Masc', 's0-Number': 'Plur', 's1-tag': 'NOUN', 'q0-word': '»', 'q0-lemma': '»', 'q0-tag': 'PUNCT', 'q0-PunctType': 'Quot', 'q1-word': '.', 'q1-tag': 'PUNCT', 'distance': 1}\n",
      "{'s0-word': 'Ліги', 's0-lemma': 'ліга', 's0-tag': 'NOUN', 's0-Animacy': 'Inan', 's0-Case': 'Gen', 's0-Gender': 'Fem', 's0-Number': 'Sing', 's1-tag': 'NOUN', 'q0-word': '»', 'q0-lemma': '»', 'q0-tag': 'PUNCT', 'q0-PunctType': 'Quot', 'q1-word': '.', 'q1-tag': 'PUNCT', 'distance': 2}\n",
      "{'s0-word': 'фінал', 's0-lemma': 'фінал', 's0-tag': 'NOUN', 's0-Animacy': 'Inan', 's0-Case': 'Acc', 's0-Gender': 'Masc', 's0-Number': 'Sing', 's1-tag': 'VERB', 'q0-word': '»', 'q0-lemma': '»', 'q0-tag': 'PUNCT', 'q0-PunctType': 'Quot', 'q1-word': '.', 'q1-tag': 'PUNCT', 'distance': 3}\n",
      "{'s0-word': 'провести', 's0-lemma': 'провести', 's0-tag': 'VERB', 's0-Aspect': 'Perf', 's0-VerbForm': 'Inf', 's1-tag': 'VERB', 'q0-word': '»', 'q0-lemma': '»', 'q0-tag': 'PUNCT', 'q0-PunctType': 'Quot', 'q1-word': '.', 'q1-tag': 'PUNCT', 'distance': 4}\n",
      "{'s0-word': 'показати', 's0-lemma': 'показати', 's0-tag': 'VERB', 's0-Aspect': 'Perf', 's0-VerbForm': 'Inf', 's1-tag': 'NOUN', 'q0-word': '»', 'q0-lemma': '»', 'q0-tag': 'PUNCT', 'q0-PunctType': 'Quot', 'q1-word': '.', 'q1-tag': 'PUNCT', 'distance': 13}\n",
      "{'s0-word': 'бажання', 's0-lemma': 'бажання', 's0-tag': 'NOUN', 's0-Animacy': 'Inan', 's0-Case': 'Nom', 's0-Gender': 'Neut', 's0-Number': 'Sing', 's1-tag': 'VERB', 'q0-word': '»', 'q0-lemma': '»', 'q0-tag': 'PUNCT', 'q0-PunctType': 'Quot', 'q1-word': '.', 'q1-tag': 'PUNCT', 'distance': 14}\n",
      "{'s0-word': 'є', 's0-lemma': 'бути', 's0-tag': 'VERB', 's0-Aspect': 'Imp', 's0-Mood': 'Ind', 's0-Number': 'Sing', 's0-Person': '3', 's0-Tense': 'Pres', 's0-VerbForm': 'Fin', 's1-tag': 'ROOT', 'q0-word': '»', 'q0-lemma': '»', 'q0-tag': 'PUNCT', 'q0-PunctType': 'Quot', 'q1-word': '.', 'q1-tag': 'PUNCT', 'distance': 16}\n",
      "{'s0-word': '»', 's0-lemma': '»', 's0-tag': 'PUNCT', 's0-PunctType': 'Quot', 's1-tag': 'VERB', 'q0-word': '.', 'q0-lemma': '.', 'q0-tag': 'PUNCT', 'distance': 1}\n",
      "{'s0-word': 'є', 's0-lemma': 'бути', 's0-tag': 'VERB', 's0-Aspect': 'Imp', 's0-Mood': 'Ind', 's0-Number': 'Sing', 's0-Person': '3', 's0-Tense': 'Pres', 's0-VerbForm': 'Fin', 's1-tag': 'ROOT', 'q0-word': '.', 'q0-lemma': '.', 'q0-tag': 'PUNCT', 'distance': 17}\n",
      "{'s0-word': '.', 's0-lemma': '.', 's0-tag': 'PUNCT', 's1-tag': 'VERB'}\n",
      "{'s0-word': 'є', 's0-lemma': 'бути', 's0-tag': 'VERB', 's0-Aspect': 'Imp', 's0-Mood': 'Ind', 's0-Number': 'Sing', 's0-Person': '3', 's0-Tense': 'Pres', 's0-VerbForm': 'Fin', 's1-tag': 'ROOT'}\n",
      "{'s0-word': 'ROOT', 's0-lemma': 'ROOT', 's0-tag': 'ROOT'}\n"
     ]
    }
   ],
   "source": [
    "features, labels = get_data(tree)\n",
    "print(\"Number of words:\", len(tree))\n",
    "print(\"Number of actions:\", len(labels))\n",
    "print(\"List of actions taken:\", labels)\n",
    "print(\"Features:\")\n",
    "for word in features:\n",
    "    print(word)"
   ]
  },
  {
   "cell_type": "code",
   "execution_count": 26,
   "metadata": {},
   "outputs": [
    {
     "name": "stdout",
     "output_type": "stream",
     "text": [
      "181376 181376\n"
     ]
    }
   ],
   "source": [
    "train_features, train_labels = [], []\n",
    "for tree in trees:\n",
    "    tree_features, tree_labels = get_data([t for t in tree if type(t[\"id\"])==int])\n",
    "    train_features += tree_features\n",
    "    train_labels += tree_labels\n",
    "\n",
    "print(len(train_features), len(train_labels))"
   ]
  },
  {
   "cell_type": "code",
   "execution_count": 27,
   "metadata": {},
   "outputs": [
    {
     "name": "stdout",
     "output_type": "stream",
     "text": [
      "33406 33406\n"
     ]
    }
   ],
   "source": [
    "# Test data\n",
    "\n",
    "with open(\"uk_iu-ud-test.conllu\", \"r\") as f:\n",
    "    data = f.read()\n",
    "test_trees = parse(data)\n",
    "\n",
    "test_features, test_labels = [], []\n",
    "for tree in test_trees:\n",
    "    tree_features, tree_labels = get_data([t for t in tree if type(t[\"id\"])==int])\n",
    "    test_features += tree_features\n",
    "    test_labels += tree_labels\n",
    "\n",
    "print(len(test_features), len(test_labels))"
   ]
  },
  {
   "cell_type": "markdown",
   "metadata": {},
   "source": [
    "## Train a classifier"
   ]
  },
  {
   "cell_type": "code",
   "execution_count": 12,
   "metadata": {},
   "outputs": [],
   "source": [
    "from sklearn.feature_extraction import DictVectorizer\n",
    "from sklearn.linear_model import LogisticRegression\n",
    "from sklearn.metrics import classification_report"
   ]
  },
  {
   "cell_type": "code",
   "execution_count": 28,
   "metadata": {},
   "outputs": [
    {
     "name": "stdout",
     "output_type": "stream",
     "text": [
      "\n",
      "Total number of features:  107994\n"
     ]
    }
   ],
   "source": [
    "vectorizer = DictVectorizer()\n",
    "vec = vectorizer.fit(train_features)\n",
    "\n",
    "print(\"\\nTotal number of features: \", len(vec.get_feature_names()))"
   ]
  },
  {
   "cell_type": "code",
   "execution_count": 29,
   "metadata": {},
   "outputs": [],
   "source": [
    "train_features_vectorized = vec.transform(train_features)\n",
    "test_features_vectorized = vec.transform(test_features)\n",
    "\n",
    "#print(len(train_features_vectorized.toarray()), len(test_features_vectorized.toarray()))"
   ]
  },
  {
   "cell_type": "code",
   "execution_count": 30,
   "metadata": {},
   "outputs": [
    {
     "name": "stderr",
     "output_type": "stream",
     "text": [
      "[Parallel(n_jobs=6)]: Using backend ThreadingBackend with 6 concurrent workers.\n"
     ]
    },
    {
     "name": "stdout",
     "output_type": "stream",
     "text": [
      "max_iter reached after 542 seconds\n"
     ]
    },
    {
     "name": "stderr",
     "output_type": "stream",
     "text": [
      "[Parallel(n_jobs=6)]: Done   1 out of   1 | elapsed:  9.0min finished\n"
     ]
    },
    {
     "data": {
      "text/plain": [
       "LogisticRegression(C=1.0, class_weight=None, dual=False, fit_intercept=True,\n",
       "          intercept_scaling=1, max_iter=2000, multi_class='multinomial',\n",
       "          n_jobs=6, penalty='l2', random_state=42, solver='sag',\n",
       "          tol=0.0001, verbose=1, warm_start=False)"
      ]
     },
     "execution_count": 30,
     "metadata": {},
     "output_type": "execute_result"
    }
   ],
   "source": [
    "lrc = LogisticRegression(random_state=42, solver=\"sag\", multi_class=\"multinomial\", n_jobs = 6, max_iter=2000, verbose=1)\n",
    "lrc.fit(train_features_vectorized, train_labels)"
   ]
  },
  {
   "cell_type": "code",
   "execution_count": 32,
   "metadata": {},
   "outputs": [
    {
     "name": "stdout",
     "output_type": "stream",
     "text": [
      "              precision    recall  f1-score   support\n",
      "\n",
      "        left       0.87      0.89      0.88      8222\n",
      "      reduce       0.86      0.79      0.82      8913\n",
      "       right       0.78      0.83      0.80      7897\n",
      "       shift       0.88      0.89      0.88      8374\n",
      "\n",
      "   micro avg       0.85      0.85      0.85     33406\n",
      "   macro avg       0.85      0.85      0.85     33406\n",
      "weighted avg       0.85      0.85      0.85     33406\n",
      "\n"
     ]
    }
   ],
   "source": [
    "predicted = lrc.predict(test_features_vectorized)\n",
    "print(classification_report(test_labels, predicted))"
   ]
  },
  {
   "cell_type": "markdown",
   "metadata": {},
   "source": [
    "## Calculate the unlabeled attachment score\n",
    "UAS - the percentage of words in an input that are assigned the correct head."
   ]
  },
  {
   "cell_type": "code",
   "execution_count": 21,
   "metadata": {},
   "outputs": [],
   "source": [
    "def dep_parse(sentence, oracle, vectorizer, log=True):\n",
    "    stack, queue, relations = [ROOT], sentence[:], []\n",
    "    while queue or stack:\n",
    "        if stack and not queue:\n",
    "            stack.pop()\n",
    "        else:\n",
    "            features = extract_features(stack, queue)\n",
    "            action = oracle.predict(vectorizer.transform([features]))[0]\n",
    "            if log:\n",
    "                print(\"Stack:\", [i[\"form\"]+\"_\"+str(i[\"id\"]) for i in stack])\n",
    "                print(\"Queue:\", [i[\"form\"]+\"_\"+str(i[\"id\"]) for i in queue])\n",
    "                print(\"Relations:\", relations)\n",
    "                print(action)\n",
    "                print(\"========================\")\n",
    "            # actual parsing\n",
    "            if action == Actions.SHIFT:\n",
    "                stack.append(queue.pop(0))\n",
    "            elif action == Actions.REDUCE:\n",
    "                stack.pop()\n",
    "            elif action == Actions.LEFT:\n",
    "                relations.append((stack[-1][\"id\"], queue[0][\"id\"]))\n",
    "                stack.pop()\n",
    "            elif action == Actions.RIGHT:\n",
    "                relations.append((queue[0][\"id\"], stack[-1][\"id\"]))\n",
    "                stack.append(queue.pop(0))\n",
    "            else:\n",
    "                print(\"Unknown action.\")\n",
    "    return sorted(relations)"
   ]
  },
  {
   "cell_type": "code",
   "execution_count": 23,
   "metadata": {},
   "outputs": [
    {
     "name": "stdout",
     "output_type": "stream",
     "text": [
      "Total: 16271\n",
      "Correctly defined: 11520\n",
      "UAS: 0.71\n"
     ]
    }
   ],
   "source": [
    "total, tp = 0, 0\n",
    "for tree in test_trees:\n",
    "    tree = [t for t in tree if type(t[\"id\"])==int]\n",
    "    golden = [(node[\"id\"], node[\"head\"]) for node in tree]\n",
    "    predicted = dep_parse(tree, lrc, vec, False)\n",
    "    total += len(tree)\n",
    "    tp += len(set(golden).intersection(set(predicted)))\n",
    "\n",
    "print(\"Total:\", total)\n",
    "print(\"Correctly defined:\", tp)\n",
    "print(\"UAS:\", round(tp/total, 2))"
   ]
  },
  {
   "cell_type": "code",
   "execution_count": null,
   "metadata": {},
   "outputs": [],
   "source": []
  }
 ],
 "metadata": {
  "kernelspec": {
   "display_name": "Python 3",
   "language": "python",
   "name": "python3"
  },
  "language_info": {
   "codemirror_mode": {
    "name": "ipython",
    "version": 3
   },
   "file_extension": ".py",
   "mimetype": "text/x-python",
   "name": "python",
   "nbconvert_exporter": "python",
   "pygments_lexer": "ipython3",
   "version": "3.6.7"
  }
 },
 "nbformat": 4,
 "nbformat_minor": 2
}
