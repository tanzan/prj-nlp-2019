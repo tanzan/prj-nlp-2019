{
 "cells": [
  {
   "cell_type": "code",
   "execution_count": 1,
   "metadata": {},
   "outputs": [],
   "source": [
    "from collections import OrderedDict\n",
    "from conllu import parse\n",
    "from enum import Enum\n",
    "\n",
    "PATH = \"/Users/serg/projects/UD_Ukrainian-IU\"\n",
    "\n",
    "with open(PATH + \"/uk_iu-ud-train.conllu\", \"r\") as f:\n",
    "    data = f.read()\n",
    "\n",
    "trees = parse(data)"
   ]
  },
  {
   "cell_type": "code",
   "execution_count": 6,
   "metadata": {},
   "outputs": [
    {
     "data": {
      "text/plain": [
       "['У <-- домі',\n",
       " 'домі <-- була',\n",
       " 'римського <-- патриція',\n",
       " 'патриція <-- домі',\n",
       " 'Руфіна <-- патриція',\n",
       " 'була <-- root',\n",
       " 'прегарна <-- фреска',\n",
       " 'фреска <-- була',\n",
       " ', <-- зображення',\n",
       " 'зображення <-- фреска',\n",
       " 'Венери <-- зображення',\n",
       " 'та <-- Адоніса',\n",
       " 'Адоніса <-- Венери',\n",
       " '. <-- була']"
      ]
     },
     "execution_count": 6,
     "metadata": {},
     "output_type": "execute_result"
    }
   ],
   "source": [
    "tree = trees[0]\n",
    "# debug mode\n",
    "#for node in tree:\n",
    "#    head = node[\"head\"]\n",
    "#    print(\"{} <-- {}\".format(node[\"form\"],\n",
    "#                             tree[head - 1][\"form\"]\n",
    "#                             if head > 0 else \"root\"))\n",
    "    \n",
    "def deps(tree):\n",
    "    return [\"{} <-- {}\".format(node[\"form\"], tree[int(node['head']) - 1][\"form\"]\\\n",
    "                               if int(node['head']) > 0 else \"root\") for node in tree]\n",
    "\n",
    "print_deps(tree)"
   ]
  },
  {
   "cell_type": "code",
   "execution_count": 3,
   "metadata": {},
   "outputs": [],
   "source": [
    "SHIFT = 1\n",
    "REDUCE = 2\n",
    "LEFT_ARC = 3\n",
    "RIGHT_ARC = 4\n",
    "    "
   ]
  },
  {
   "cell_type": "code",
   "execution_count": 27,
   "metadata": {},
   "outputs": [],
   "source": [
    "ROOT = OrderedDict([('id', 0), ('form', 'ROOT'), ('lemma', 'ROOT'), ('upostag', 'ROOT'),\n",
    "                    ('xpostag', None), ('feats', None), ('head', None), ('deprel', None),\n",
    "                    ('deps', None), ('misc', None)])\n",
    "\n",
    "class State:\n",
    "    def __init__(self, sent):\n",
    "        self.stack = []\n",
    "        self.stack.append(ROOT)\n",
    "        self.queue = []\n",
    "        self.queue.extend(sent)\n",
    "        self.relations = []\n",
    "        \n",
    "    def non_final(self):\n",
    "        return len(self.stack) > 0 or len(self.queue) > 0\n",
    "    \n",
    "    def apply(self, action):\n",
    "        if action == SHIFT:\n",
    "            self.stack.append(self.queue.pop(0))\n",
    "        elif action == REDUCE:\n",
    "            self.stack.pop()\n",
    "        elif action == LEFT_ARC:\n",
    "            self.relations.append((self.stack[-1][\"id\"], self.queue[0][\"id\"]))\n",
    "            self.stack.pop()\n",
    "        elif action == RIGHT_ARC:\n",
    "            self.relations.append((self.queue[0][\"id\"], self.stack[-1][\"id\"]))\n",
    "            self.stack.append(self.queue.pop(0))\n",
    "        else:\n",
    "            assert False\n",
    "    \n",
    "    def oracle(self):\n",
    "        \"\"\"\n",
    "        Make a decision on the right action to do.\n",
    "        \"\"\"\n",
    "        top_stack = self.stack[-1] if len(self.stack) > 0 else None\n",
    "        top_queue = self.queue[0] if len(self.queue) > 0 else None\n",
    "        # check if both stack and queue are non-empty\n",
    "        if top_stack and not top_queue:\n",
    "            return REDUCE\n",
    "        # check if there are any clear dependencies\n",
    "        elif top_queue[\"head\"] == top_stack[\"id\"]:\n",
    "            return RIGHT_ARC\n",
    "        elif top_stack[\"head\"] == top_queue[\"id\"]:\n",
    "            return LEFT_ARC\n",
    "        # check if we can reduce the top of the stack\n",
    "        elif top_stack[\"id\"] in [i[0] for i in self.relations] and \\\n",
    "             (top_queue[\"head\"] < top_stack[\"id\"] or \\\n",
    "              [s for s in self.stack if s[\"head\"] == top_queue[\"id\"]]):\n",
    "            return REDUCE\n",
    "        # default option\n",
    "        else:\n",
    "            return SHIFT\n",
    "    \n",
    "\n",
    "def dependency_parse(sent):\n",
    "    state = State(sent)\n",
    "    while state.non_final():\n",
    "        op = state.oracle()\n",
    "        state.apply(op)\n",
    "    return state\n",
    "\n",
    "    "
   ]
  },
  {
   "cell_type": "code",
   "execution_count": 30,
   "metadata": {},
   "outputs": [
    {
     "name": "stdout",
     "output_type": "stream",
     "text": [
      "['У <-- домі', 'домі <-- була', 'римського <-- патриція', 'патриція <-- домі', 'Руфіна <-- патриція', 'була <-- root', 'прегарна <-- фреска', 'фреска <-- була', ', <-- зображення', 'зображення <-- фреска', 'Венери <-- зображення', 'та <-- Адоніса', 'Адоніса <-- Венери', '. <-- була']\n",
      "['1 <-- 2', '3 <-- 4', '4 <-- 2', '5 <-- 4', '2 <-- 6', '6 <-- 0', '7 <-- 8', '8 <-- 6', '9 <-- 10', '10 <-- 8', '11 <-- 10', '12 <-- 13', '13 <-- 11', '14 <-- 6']\n"
     ]
    }
   ],
   "source": [
    "print(deps(tree))\n",
    "print(list(map(lambda x: str(x[0]) + ' <-- ' + str(x[1]), dependency_parse(tree[:]).relations)))"
   ]
  },
  {
   "cell_type": "code",
   "execution_count": 33,
   "metadata": {},
   "outputs": [
    {
     "name": "stdout",
     "output_type": "stream",
     "text": [
      "14\n",
      "14\n"
     ]
    }
   ],
   "source": [
    "print(len(deps(tree)))\n",
    "print(len(list(map(lambda x: str(x[0]) + ' <-- ' + str(x[1]), dependency_parse(tree[:]).relations))))"
   ]
  },
  {
   "cell_type": "code",
   "execution_count": null,
   "metadata": {},
   "outputs": [],
   "source": [
    "def extract_sent_features(sent):\n",
    "    features = []\n",
    "    state = State(sent)\n",
    "    while state.non_final\n",
    "        fdic = {}\n",
    "        op = state.oracle()\n",
    "        fdic['form']\n",
    "        state.apply(op)"
   ]
  }
 ],
 "metadata": {
  "kernelspec": {
   "display_name": "Python 3",
   "language": "python",
   "name": "python3"
  },
  "language_info": {
   "codemirror_mode": {
    "name": "ipython",
    "version": 3
   },
   "file_extension": ".py",
   "mimetype": "text/x-python",
   "name": "python",
   "nbconvert_exporter": "python",
   "pygments_lexer": "ipython3",
   "version": "3.7.2"
  }
 },
 "nbformat": 4,
 "nbformat_minor": 2
}
